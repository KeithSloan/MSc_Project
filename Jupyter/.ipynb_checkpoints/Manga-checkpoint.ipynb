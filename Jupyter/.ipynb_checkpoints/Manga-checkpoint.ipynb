{
 "cells": [
  {
   "cell_type": "code",
   "execution_count": null,
   "metadata": {},
   "outputs": [],
   "source": [
    "import numpy as np\n",
    "import matplotlib.pyplot as plt\n",
    "from astropy import wcs\n",
    "from astropy.io import fits\n",
    "\n",
    "cube = fits.open('manga-7443-12703-LOGCUBE.fits.gz')\n",
    "\n",
    "# Re-order FLUX, IVAR, and MASK arrays from (wavelength, DEC, RA) to (RA, DEC, wavelength).\n",
    "flux = np.transpose(cube['FLUX'].data, axes=(2, 1, 0))\n",
    "ivar = np.transpose(cube['IVAR'].data, axes=(2, 1, 0))\n",
    "mask = np.transpose(cube['MASK'].data, axes=(2, 1, 0))\n",
    "\n",
    "wave = cube['WAVE'].data\n",
    "flux_header = cube['FLUX'].header\n",
    "\n",
    "x_center = np.int(flux_header['CRPIX1']) - 1\n",
    "y_center = np.int(flux_header['CRPIX2']) - 1\n",
    "\n",
    "plt.plot(wave, flux[x_center, y_center])\n",
    "plt.xlabel('$\\lambda \\, [\\AA]$')\n",
    "plt.ylabel(flux_header['BUNIT'])\n"
   ]
  }
 ],
 "metadata": {
  "kernelspec": {
   "display_name": "Python 3",
   "language": "python",
   "name": "python3"
  },
  "language_info": {
   "codemirror_mode": {
    "name": "ipython",
    "version": 3
   },
   "file_extension": ".py",
   "mimetype": "text/x-python",
   "name": "python",
   "nbconvert_exporter": "python",
   "pygments_lexer": "ipython3",
   "version": "3.7.3"
  }
 },
 "nbformat": 4,
 "nbformat_minor": 2
}
