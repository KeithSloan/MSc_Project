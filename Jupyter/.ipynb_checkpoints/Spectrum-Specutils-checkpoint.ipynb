{
 "cells": [
  {
   "cell_type": "code",
   "execution_count": 1,
   "metadata": {},
   "outputs": [
    {
     "ename": "SyntaxError",
     "evalue": "invalid syntax (<ipython-input-1-d82f234d29ed>, line 9)",
     "output_type": "error",
     "traceback": [
      "\u001b[0;36m  File \u001b[0;32m\"<ipython-input-1-d82f234d29ed>\"\u001b[0;36m, line \u001b[0;32m9\u001b[0m\n\u001b[0;31m    >>> f.close() # doctest: +REMOTE_DATA\u001b[0m\n\u001b[0m     ^\u001b[0m\n\u001b[0;31mSyntaxError\u001b[0m\u001b[0;31m:\u001b[0m invalid syntax\n"
     ]
    }
   ],
   "source": [
    "from astropy.io import fits\n",
    "from astropy import units as u\n",
    "import numpy as np\n",
    "from matplotlib import pyplot as plt\n",
    "from astropy.visualization import quantity_support\n",
    "\n",
    "f = fits.open('https://dr14.sdss.org/optical/spectrum/view/data/format=fits/spec=lite?plateid=1323&mjd=52797&fiberid=12')  # doctest: +IGNORE_OUTPUT +REMOTE_DATA\n",
    "# The spectrum is in the second HDU of this file.\n",
    "specdata = f[1].data # doctest: +REMOTE_DATA\n",
    "f.close() # doctest: +REMOTE_DATA\n",
    "\n",
    "from specutils import Spectrum1D\n",
    "lamb = 10**specdata['loglam'] * u.AA # doctest: +REMOTE_DATA\n",
    "flux = specdata['flux'] * 10**-17 * u.Unit('erg cm-2 s-1 AA-1') # doctest: +REMOTE_DATA\n",
    "spec = Spectrum1D(spectral_axis=lamb, flux=flux) # doctest: +REMOTE_DATA\n",
    "\n",
    "# Plot data\n",
    "f, ax = plt.subplots()  # doctest: +IGNORE_OUTPUT\n",
    "ax.step(spec.spectral_axis, spec.flux) # doctest: +IGNORE_OUTPUT"
   ]
  },
  {
   "cell_type": "code",
   "execution_count": null,
   "metadata": {},
   "outputs": [],
   "source": []
  }
 ],
 "metadata": {
  "kernelspec": {
   "display_name": "Python 3",
   "language": "python",
   "name": "python3"
  },
  "language_info": {
   "codemirror_mode": {
    "name": "ipython",
    "version": 3
   },
   "file_extension": ".py",
   "mimetype": "text/x-python",
   "name": "python",
   "nbconvert_exporter": "python",
   "pygments_lexer": "ipython3",
   "version": "3.7.3"
  }
 },
 "nbformat": 4,
 "nbformat_minor": 2
}
