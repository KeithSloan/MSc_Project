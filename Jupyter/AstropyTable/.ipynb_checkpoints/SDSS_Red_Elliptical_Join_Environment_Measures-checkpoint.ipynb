{
 "cells": [
  {
   "cell_type": "code",
   "execution_count": 8,
   "metadata": {},
   "outputs": [
    {
     "name": "stdout",
     "output_type": "stream",
     "text": [
      "CATAID ...\n",
      "       ...\n",
      "------ ...\n",
      "  6889 ...\n",
      "  6909 ...\n",
      "  6922 ...\n",
      "  6934 ...\n",
      "  6935 ...\n",
      "  6936 ...\n",
      "  6983 ...\n",
      "  7025 ...\n",
      "  7026 ...\n",
      "  7045 ...\n",
      "   ... ...\n",
      "723731 ...\n",
      "726409 ...\n",
      "729527 ...\n",
      "738225 ...\n",
      "743316 ...\n",
      "743320 ...\n",
      "744784 ...\n",
      "747326 ...\n",
      "748589 ...\n",
      "750259 ...\n",
      "Length = 9085 rows\n",
      "['CATAID', 'RA', 'DEC', 'Z_TONRY', 'nQ', 'M_r', 'DistanceToEdge', 'Completeness', 'DistanceTo5nn', 'SurfaceDensity', 'SurfaceDensityErr', 'SurfaceDensityFlag', 'CountInCyl', 'CountInCylErr', 'CountInCylFlag', 'AGEDensity', 'AGEErr', 'AGEScale', 'AGEDensityFlag']\n"
     ]
    },
    {
     "name": "stderr",
     "output_type": "stream",
     "text": [
      "WARNING: MergeConflictWarning: Cannot merge meta key 'EXTNAME' types <class 'str'> and <class 'str'>, choosing EXTNAME='EnvironmentMeasures' [astropy.utils.metadata]\n",
      "WARNING: MergeConflictWarning: Cannot merge meta key 'TCOMM1' types <class 'str'> and <class 'str'>, choosing TCOMM1='Unique GAMA ID' [astropy.utils.metadata]\n",
      "WARNING: MergeConflictWarning: Cannot merge meta key 'TUCD1' types <class 'str'> and <class 'str'>, choosing TUCD1='meta.id' [astropy.utils.metadata]\n",
      "WARNING: MergeConflictWarning: Cannot merge meta key 'TCOMM2' types <class 'str'> and <class 'str'>, choosing TCOMM2='J2000' [astropy.utils.metadata]\n",
      "WARNING: MergeConflictWarning: Cannot merge meta key 'TUCD2' types <class 'str'> and <class 'str'>, choosing TUCD2='pos.eq.ra' [astropy.utils.metadata]\n",
      "WARNING: MergeConflictWarning: Cannot merge meta key 'TCOMM3' types <class 'str'> and <class 'str'>, choosing TCOMM3='J2000' [astropy.utils.metadata]\n",
      "WARNING: MergeConflictWarning: Cannot merge meta key 'TUCD3' types <class 'str'> and <class 'str'>, choosing TUCD3='pos.eq.dec' [astropy.utils.metadata]\n",
      "WARNING: MergeConflictWarning: Cannot merge meta key 'TCOMM4' types <class 'str'> and <class 'str'>, choosing TCOMM4='Heliocentric redshift corrected for the effects of peculiar velocity' [astropy.utils.metadata]\n",
      "WARNING: MergeConflictWarning: Cannot merge meta key 'TUCD4' types <class 'str'> and <class 'str'>, choosing TUCD4='src.redshift' [astropy.utils.metadata]\n",
      "WARNING: MergeConflictWarning: Cannot merge meta key 'TCOMM5' types <class 'str'> and <class 'str'>, choosing TCOMM5='Redshift quality flag' [astropy.utils.metadata]\n",
      "WARNING: MergeConflictWarning: Cannot merge meta key 'TUCD5' types <class 'str'> and <class 'str'>, choosing TUCD5='meta.code.qual;src.redshift' [astropy.utils.metadata]\n",
      "WARNING: MergeConflictWarning: Cannot merge meta key 'TCOMM6' types <class 'str'> and <class 'str'>, choosing TCOMM6='Extinction and k-corrected absolute r-band magnitude' [astropy.utils.metadata]\n",
      "WARNING: MergeConflictWarning: Cannot merge meta key 'TUCD6' types <class 'str'> and <class 'str'>, choosing TUCD6='phys.magAbs' [astropy.utils.metadata]\n",
      "WARNING: MergeConflictWarning: Cannot merge meta key 'TCOMM7' types <class 'str'> and <class 'str'>, choosing TCOMM7='Distance to nearest angular survey edge in co-moving units' [astropy.utils.metadata]\n",
      "WARNING: MergeConflictWarning: Cannot merge meta key 'TUCD7' types <class 'str'> and <class 'str'>, choosing TUCD7='pos.distance' [astropy.utils.metadata]\n",
      "WARNING: MergeConflictWarning: Cannot merge meta key 'TCOMM8' types <class 'str'> and <class 'str'>, choosing TCOMM8='Value used to correct environment measures for local survey incom..' [astropy.utils.metadata]\n",
      "WARNING: MergeConflictWarning: Cannot merge meta key 'TUCD8' types <class 'str'> and <class 'str'>, choosing TUCD8='arith.factor' [astropy.utils.metadata]\n",
      "WARNING: MergeConflictWarning: Cannot merge meta key 'TCOMM9' types <class 'str'> and <class 'str'>, choosing TCOMM9='Distance to 5th nearest neighbour in co-moving units' [astropy.utils.metadata]\n",
      "WARNING: MergeConflictWarning: Cannot merge meta key 'TUCD9' types <class 'str'> and <class 'str'>, choosing TUCD9='pos.distance' [astropy.utils.metadata]\n",
      "WARNING: MergeConflictWarning: Cannot merge meta key 'TCOMM10' types <class 'str'> and <class 'str'>, choosing TCOMM10='Surface density based on the distance to the 5th nearest neighbour' [astropy.utils.metadata]\n",
      "WARNING: MergeConflictWarning: Cannot merge meta key 'TUCD10' types <class 'str'> and <class 'str'>, choosing TUCD10='src.density' [astropy.utils.metadata]\n",
      "WARNING: MergeConflictWarning: Cannot merge meta key 'TCOMM11' types <class 'str'> and <class 'str'>, choosing TCOMM11='Surface density uncertainty' [astropy.utils.metadata]\n",
      "WARNING: MergeConflictWarning: Cannot merge meta key 'TUCD11' types <class 'str'> and <class 'str'>, choosing TUCD11='src.density;stat.error' [astropy.utils.metadata]\n",
      "WARNING: MergeConflictWarning: Cannot merge meta key 'TCOMM12' types <class 'str'> and <class 'str'>, choosing TCOMM12='Flag indicating problems with surface density measurement, see no..' [astropy.utils.metadata]\n",
      "WARNING: MergeConflictWarning: Cannot merge meta key 'TUCD12' types <class 'str'> and <class 'str'>, choosing TUCD12='meta.code.error;src.density' [astropy.utils.metadata]\n",
      "WARNING: MergeConflictWarning: Cannot merge meta key 'TCOMM13' types <class 'str'> and <class 'str'>, choosing TCOMM13='Number of (other) galaxies within cylinder of radius 1 co-moving Mpc' [astropy.utils.metadata]\n",
      "WARNING: MergeConflictWarning: Cannot merge meta key 'TUCD13' types <class 'str'> and <class 'str'>, choosing TUCD13='src.density' [astropy.utils.metadata]\n",
      "WARNING: MergeConflictWarning: Cannot merge meta key 'TCOMM14' types <class 'str'> and <class 'str'>, choosing TCOMM14='Poisson error on number of galaxies in cylinder' [astropy.utils.metadata]\n",
      "WARNING: MergeConflictWarning: Cannot merge meta key 'TUCD14' types <class 'str'> and <class 'str'>, choosing TUCD14='stat.error;src.density' [astropy.utils.metadata]\n",
      "WARNING: MergeConflictWarning: Cannot merge meta key 'TCOMM15' types <class 'str'> and <class 'str'>, choosing TCOMM15='Flag indicating problems with CountInCyl, see notes' [astropy.utils.metadata]\n",
      "WARNING: MergeConflictWarning: Cannot merge meta key 'TUCD15' types <class 'str'> and <class 'str'>, choosing TUCD15='meta.code.error;src.density' [astropy.utils.metadata]\n",
      "WARNING: MergeConflictWarning: Cannot merge meta key 'TCOMM16' types <class 'str'> and <class 'str'>, choosing TCOMM16='Density of galaxies within an adaptive Gaussian ellipsoid' [astropy.utils.metadata]\n",
      "WARNING: MergeConflictWarning: Cannot merge meta key 'TUCD16' types <class 'str'> and <class 'str'>, choosing TUCD16='src.density' [astropy.utils.metadata]\n",
      "WARNING: MergeConflictWarning: Cannot merge meta key 'TCOMM17' types <class 'str'> and <class 'str'>, choosing TCOMM17='Poisson error on the number of galaxies used to calculate AGEDensity' [astropy.utils.metadata]\n",
      "WARNING: MergeConflictWarning: Cannot merge meta key 'TUCD17' types <class 'str'> and <class 'str'>, choosing TUCD17='src.density;stat.error' [astropy.utils.metadata]\n",
      "WARNING: MergeConflictWarning: Cannot merge meta key 'TCOMM18' types <class 'str'> and <class 'str'>, choosing TCOMM18='Adaptive scaling factor for adaptive Gaussian ellipsoid' [astropy.utils.metadata]\n",
      "WARNING: MergeConflictWarning: Cannot merge meta key 'TUCD18' types <class 'str'> and <class 'str'>, choosing TUCD18='arith.factor' [astropy.utils.metadata]\n",
      "WARNING: MergeConflictWarning: Cannot merge meta key 'TCOMM19' types <class 'str'> and <class 'str'>, choosing TCOMM19='Flag indicating problems with AGEDensity, see notes' [astropy.utils.metadata]\n",
      "WARNING: MergeConflictWarning: Cannot merge meta key 'TUCD19' types <class 'str'> and <class 'str'>, choosing TUCD19='meta.code.error;src.density' [astropy.utils.metadata]\n",
      "WARNING: MergeConflictWarning: Cannot merge meta key 'DATE-HDU' types <class 'str'> and <class 'str'>, choosing DATE-HDU='2014-09-03T14:20:44' [astropy.utils.metadata]\n",
      "WARNING: MergeConflictWarning: Cannot merge meta key 'STILVERS' types <class 'str'> and <class 'str'>, choosing STILVERS='3.0-4+' [astropy.utils.metadata]\n",
      "WARNING: MergeConflictWarning: Cannot merge meta key 'DMU' types <class 'str'> and <class 'str'>, choosing DMU='EnvironmentMeasures' [astropy.utils.metadata]\n",
      "WARNING: MergeConflictWarning: Cannot merge meta key 'NAME' types <class 'str'> and <class 'str'>, choosing NAME='EnvironmentMeasures' [astropy.utils.metadata]\n",
      "WARNING: MergeConflictWarning: Cannot merge meta key 'VERSION' types <class 'str'> and <class 'str'>, choosing VERSION='v02' [astropy.utils.metadata]\n",
      "WARNING: MergeConflictWarning: Cannot merge meta key 'DATE' types <class 'str'> and <class 'str'>, choosing DATE='2014-08-21' [astropy.utils.metadata]\n",
      "WARNING: MergeConflictWarning: Cannot merge meta key 'CONTACT' types <class 'str'> and <class 'str'>, choosing CONTACT='Sarah Brough <sb@aao.gov.au>' [astropy.utils.metadata]\n",
      "WARNING: UnitsWarning: 'dex(Msun)' did not parse as fits unit: At col 4, Unit 'Msun' not supported by the FITS standard. Did you mean Sun? [astropy.units.core]\n",
      "WARNING: UnitsWarning: 'dex(Msun/Lsun,i)' did not parse as fits unit: At col 4, Unit 'Msun' not supported by the FITS standard. Did you mean Sun? [astropy.units.core]\n",
      "WARNING: UnitsWarning: 'dex(yr)' did not parse as fits unit: Unit 'dex' not supported by the FITS standard.  [astropy.units.core]\n"
     ]
    },
    {
     "name": "stdout",
     "output_type": "stream",
     "text": [
      "Actioned\n",
      "['CATAID', 'OBJID', 'RA', 'DEC', 'FLAGS', 'PRIMTARGET', 'PETRORAD_R', 'PSFMAG_R', 'FIBERMAG_R', 'FLAGS_R', 'EXTINCTION_R', 'PETROR90_R', 'PETROR50_R', 'PETROMAG_U', 'PETROMAG_G', 'PETROMAG_R', 'PETROMAG_I', 'PETROMAG_Z', 'MODELMAG_U', 'MODELMAG_G', 'MODELMAG_R', 'MODELMAG_I', 'MODELMAG_Z', 'STATUS', 'RUN', 'Z_1', 'nQ_1', 'SURVEY_CODE_1', 'SURVEY_CLASS_1', 'Z_TONRY_1', 'fluxscale_1', 'zmax_19p8_1', 'zmax_19p4_1', 'zmax_19p0_1', 'zmax_17p8_1', 'nbands_1', 'S2N_1', 'PPP_1', 'logmstar_1', 'dellogmstar_1', 'logmoverl_i_1', 'dellogmoverl_i_1', 'logage_1', 'dellogage_1', 'logtau_1', 'dellogtau_1', 'logmintsfh_1', 'dellogmintsfh_1', 'logmremnants_1', 'dellogmremnants_1', 'metal_1', 'delmetal_1', 'extBV_1', 'delextBV_1', 'logLWage_1', 'dellogLWage_1', 'gminusi_1', 'delgminusi_1', 'uminusr_1', 'deluminusr_1', 'gminusi_stars_1', 'uminusr_stars_1', 'C_logM_ur_1', 'C_logM_gi_1', 'C_logM_eBV_1', 'fitphot_u_1', 'delfitphot_u_1', 'absmag_u_1', 'delabsmag_u_1', 'absmag_u_stars_1', 'fitphot_g_1', 'delfitphot_g_1', 'absmag_g_1', 'delabsmag_g_1', 'absmag_g_stars_1', 'fitphot_r_1', 'delfitphot_r_1', 'absmag_r_1', 'delabsmag_r_1', 'absmag_r_stars_1', 'fitphot_i_1', 'delfitphot_i_1', 'absmag_i_1', 'delabsmag_i_1', 'absmag_i_stars_1', 'fitphot_z_1', 'delfitphot_z_1', 'absmag_z_1', 'delabsmag_z_1', 'absmag_z_stars_1', 'fitphot_X_1', 'delfitphot_X_1', 'absmag_X_1', 'delabsmag_X_1', 'absmag_X_stars_1', 'fitphot_Y_1', 'delfitphot_Y_1', 'absmag_Y_1', 'delabsmag_Y_1', 'absmag_Y_stars_1', 'fitphot_J_1', 'delfitphot_J_1', 'absmag_J_1', 'delabsmag_J_1', 'absmag_J_stars_1', 'fitphot_H_1', 'delfitphot_H_1', 'absmag_H_1', 'delabsmag_H_1', 'absmag_H_stars_1', 'fitphot_K_1', 'delfitphot_K_1', 'absmag_K_1', 'delabsmag_K_1', 'absmag_K_stars_1', 'URL_PNG_1', 'Z_2', 'nQ_2', 'SURVEY_CODE_2', 'SURVEY_CLASS_2', 'Z_TONRY_2', 'fluxscale_2', 'zmax_19p8_2', 'zmax_19p4_2', 'zmax_19p0_2', 'zmax_17p8_2', 'nbands_2', 'S2N_2', 'PPP_2', 'logmstar_2', 'dellogmstar_2', 'logmoverl_i_2', 'dellogmoverl_i_2', 'logage_2', 'dellogage_2', 'logtau_2', 'dellogtau_2', 'logmintsfh_2', 'dellogmintsfh_2', 'logmremnants_2', 'dellogmremnants_2', 'metal_2', 'delmetal_2', 'extBV_2', 'delextBV_2', 'logLWage_2', 'dellogLWage_2', 'gminusi_2', 'delgminusi_2', 'uminusr_2', 'deluminusr_2', 'gminusi_stars_2', 'uminusr_stars_2', 'C_logM_ur_2', 'C_logM_gi_2', 'C_logM_eBV_2', 'fitphot_u_2', 'delfitphot_u_2', 'absmag_u_2', 'delabsmag_u_2', 'absmag_u_stars_2', 'fitphot_g_2', 'delfitphot_g_2', 'absmag_g_2', 'delabsmag_g_2', 'absmag_g_stars_2', 'fitphot_r_2', 'delfitphot_r_2', 'absmag_r_2', 'delabsmag_r_2', 'absmag_r_stars_2', 'fitphot_i_2', 'delfitphot_i_2', 'absmag_i_2', 'delabsmag_i_2', 'absmag_i_stars_2', 'fitphot_z_2', 'delfitphot_z_2', 'absmag_z_2', 'delabsmag_z_2', 'absmag_z_stars_2', 'fitphot_X_2', 'delfitphot_X_2', 'absmag_X_2', 'delabsmag_X_2', 'absmag_X_stars_2', 'fitphot_Y_2', 'delfitphot_Y_2', 'absmag_Y_2', 'delabsmag_Y_2', 'absmag_Y_stars_2', 'fitphot_J_2', 'delfitphot_J_2', 'absmag_J_2', 'delabsmag_J_2', 'absmag_J_stars_2', 'fitphot_H_2', 'delfitphot_H_2', 'absmag_H_2', 'delabsmag_H_2', 'absmag_H_stars_2', 'fitphot_K_2', 'delfitphot_K_2', 'absmag_K_2', 'delabsmag_K_2', 'absmag_K_stars_2', 'URL_PNG_2']\n"
     ]
    }
   ],
   "source": [
    "from astropy.table import Table, join\n",
    "import numpy as np\n",
    "import matplotlib.pyplot as plt\n",
    "\n",
    "sdss_red_ellipses_masses = Table.read('GAMA_Data/SDSS_Red_EllipticalMasses.fits')\n",
    "env_measures = Table.read('GAMA_Data/EnvironmentMeasures.fits')\n",
    "print(sdss_red_ellipses_masses.colnames)\n",
    "print(env_measures.colnames)\n",
    "sdss_red_elliptical_Env_Measures = join(sdss_red_ellipses_masses,env_measures,keys='CATAID',join_type='inner')\n",
    "sdss_red_elliptical_Env_Measures.write('GAMA_Data/SDSS_Red_Elliptical_Env_Measures.fits', format='fits',overwrite=True)\n",
    "print('Actioned')\n",
    "print(sdss_red_ellipticalMasses.colnames)\n",
    "\n",
    "\n",
    "\n"
   ]
  },
  {
   "cell_type": "code",
   "execution_count": null,
   "metadata": {},
   "outputs": [],
   "source": []
  },
  {
   "cell_type": "code",
   "execution_count": null,
   "metadata": {},
   "outputs": [],
   "source": []
  }
 ],
 "metadata": {
  "kernelspec": {
   "display_name": "Python 3",
   "language": "python",
   "name": "python3"
  },
  "language_info": {
   "codemirror_mode": {
    "name": "ipython",
    "version": 3
   },
   "file_extension": ".py",
   "mimetype": "text/x-python",
   "name": "python",
   "nbconvert_exporter": "python",
   "pygments_lexer": "ipython3",
   "version": "3.7.3"
  }
 },
 "nbformat": 4,
 "nbformat_minor": 2
}
