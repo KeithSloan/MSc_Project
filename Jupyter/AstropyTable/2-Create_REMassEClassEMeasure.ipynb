{
 "cells": [
  {
   "cell_type": "code",
   "execution_count": 2,
   "metadata": {},
   "outputs": [
    {
     "name": "stdout",
     "output_type": "stream",
     "text": [
      "Visual morph table size : 38795\n",
      "Elliptical : 3053\n",
      "Red Stella Mass Table size : 101816\n",
      "Red Elliptical, StellarMasses, envClass, envMeasures\n",
      "Red stellaMasses : 101816\n",
      "Red Elliptical Table size : 2649\n",
      "Joined RE envClass size : 2643\n",
      "Joined RE envClass & Measures : 2514\n"
     ]
    }
   ],
   "source": [
    "from astropy.table import Table, join\n",
    "import numpy as np\n",
    "import matplotlib.pyplot as plt\n",
    "\n",
    "visualMorph = Table.read('../../GAMA_Data/VisualMorphologyv03.fits')\n",
    "stellarMasses = Table.read('../../GAMA_Data/StellarMassesv19.fits')\n",
    "envClass = Table.read('../../GAMA_DATA/GalaxiesClassifiedv01.fits')\n",
    "envMeasures = Table.read('../../GAMA_DATA/EnvironmentMeasuresv05.fits')\n",
    "print('Visual morph table size : '+str(len(visualMorph)))\n",
    "# Elliptical code = 1 - Elliptical\n",
    "visualMorph1 = visualMorph[visualMorph['ELLIPTICAL_CODE'] == 1]\n",
    "print('Elliptical : '+str(len(visualMorph1)))\n",
    "stellarMasses1 = stellarMasses[stellarMasses['uminusr'] > 1.8]\n",
    "stellarMasses2 = stellarMasses1[stellarMasses1['uminusr'] < 2.8]\n",
    "print('Red Stella Mass Table size : '+str(len(stellarMasses2)))\n",
    "REMassEClassEmeasure1 = join(visualMorph1,stellarMasses2,keys='CATAID',join_type='inner')\n",
    "#REMassEClassEmeasure1 = stellarMasses2\n",
    "REMassEClassEmeasure2 = join(REMassEClassEmeasure1,envMeasures,keys='CATAID',join_type='inner')\n",
    "REMassEClassEmeasure  = join(REMassEClassEmeasure2,envClass,keys='CATAID',join_type='inner')\n",
    "#print(REMassEClassEmeasure.colnames)\n",
    "REMassEClassEmeasure.write('../../GAMA_Data/REMassEClassEmeasure.fits', format='fits',overwrite=True)\n",
    "print('Red Elliptical, StellarMasses, envClass, envMeasures')\n",
    "print('Red stellaMasses : '+str(len(stellarMasses2)))\n",
    "print('Red Elliptical Table size : '+str(len(REMassEClassEmeasure1)))\n",
    "print('Joined RE envClass size : '+str(len(REMassEClassEmeasure2)))\n",
    "print('Joined RE envClass & Measures : '+str(len(REMassEClassEmeasure)))\n"
   ]
  },
  {
   "cell_type": "code",
   "execution_count": null,
   "metadata": {},
   "outputs": [],
   "source": []
  },
  {
   "cell_type": "code",
   "execution_count": null,
   "metadata": {},
   "outputs": [],
   "source": []
  },
  {
   "cell_type": "code",
   "execution_count": null,
   "metadata": {},
   "outputs": [],
   "source": []
  },
  {
   "cell_type": "code",
   "execution_count": null,
   "metadata": {},
   "outputs": [],
   "source": []
  },
  {
   "cell_type": "code",
   "execution_count": null,
   "metadata": {},
   "outputs": [],
   "source": []
  }
 ],
 "metadata": {
  "kernelspec": {
   "display_name": "Python 3",
   "language": "python",
   "name": "python3"
  },
  "language_info": {
   "codemirror_mode": {
    "name": "ipython",
    "version": 3
   },
   "file_extension": ".py",
   "mimetype": "text/x-python",
   "name": "python",
   "nbconvert_exporter": "python",
   "pygments_lexer": "ipython3",
   "version": "3.8.8"
  }
 },
 "nbformat": 4,
 "nbformat_minor": 2
}
