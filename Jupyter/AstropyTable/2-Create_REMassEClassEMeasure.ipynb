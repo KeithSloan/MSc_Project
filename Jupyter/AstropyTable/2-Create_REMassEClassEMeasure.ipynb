{
 "cells": [
  {
   "cell_type": "code",
   "execution_count": 8,
   "metadata": {},
   "outputs": [
    {
     "name": "stdout",
     "output_type": "stream",
     "text": [
      "Visual morph table size : 38795\n",
      "Elliptical : 3053\n",
      "Elliptical, StellarMasses, envClass, envMeasures\n",
      "StellaMasses : 198935\n",
      "Elliptical Table size : 3053\n",
      "Joined EMass envClass size : 3046\n",
      "Joined EMass envClass & Measures : 2899\n",
      "['CATAID', 'ELLIPTICAL', 'ELLIPTICAL_CODE', 'HUBBLE_TYPE_SPD', 'HUBBLE_TYPE_SPD_CODE', 'HUBBLE_TYPE_LSK', 'HUBBLE_TYPE_LSK_CODE', 'HUBBLE_TYPE_ASGR', 'HUBBLE_TYPE_ASGR_CODE', 'HUBBLE_TYPE', 'HUBBLE_TYPE_CODE', 'ASGR_DISTURBED', 'ASGR_NORMAL', 'ASGR_UNSURE', 'ASGR_CLASSIFIERS', 'ASGR_PROBDIST', 'P_EL', 'P_CS', 'P_EL_DEBIASED', 'P_CS_DEBIASED', 'URL_IMG', 'Z_1', 'nQ_1', 'SURVEY_CODE', 'SURVEY_CLASS', 'Z_TONRY_1', 'fluxscale', 'zmax_19p8', 'zmax_19p4', 'zmax_19p0', 'zmax_17p8', 'nbands', 'S2N', 'PPP', 'logmstar', 'dellogmstar', 'logmoverl_i', 'dellogmoverl_i', 'logage', 'dellogage', 'logtau', 'dellogtau', 'logmintsfh', 'dellogmintsfh', 'logmremnants', 'dellogmremnants', 'metal', 'delmetal', 'extBV', 'delextBV', 'logLWage', 'dellogLWage', 'gminusi', 'delgminusi', 'uminusr', 'deluminusr', 'gminusi_stars', 'uminusr_stars', 'C_logM_ur', 'C_logM_gi', 'C_logM_eBV', 'fitphot_u', 'delfitphot_u', 'absmag_u', 'delabsmag_u', 'absmag_u_stars', 'fitphot_g', 'delfitphot_g', 'absmag_g', 'delabsmag_g', 'absmag_g_stars', 'fitphot_r', 'delfitphot_r', 'absmag_r', 'delabsmag_r', 'absmag_r_stars', 'fitphot_i', 'delfitphot_i', 'absmag_i', 'delabsmag_i', 'absmag_i_stars', 'fitphot_z', 'delfitphot_z', 'absmag_z', 'delabsmag_z', 'absmag_z_stars', 'fitphot_X', 'delfitphot_X', 'absmag_X', 'delabsmag_X', 'absmag_X_stars', 'fitphot_Y', 'delfitphot_Y', 'absmag_Y', 'delabsmag_Y', 'absmag_Y_stars', 'fitphot_J', 'delfitphot_J', 'absmag_J', 'delabsmag_J', 'absmag_J_stars', 'fitphot_H', 'delfitphot_H', 'absmag_H', 'delabsmag_H', 'absmag_H_stars', 'fitphot_K', 'delfitphot_K', 'absmag_K', 'delabsmag_K', 'absmag_K_stars', 'URL_PNG', 'RA_1', 'DEC_1', 'Z_TONRY_2', 'nQ_2', 'M_r', 'DistanceToEdge', 'Completeness', 'DistanceTo5nn', 'SurfaceDensity', 'SurfaceDensityErr', 'SurfaceDensityFlag', 'CountInCyl', 'CountInCylErr', 'CountInCylFlag', 'AGEDenPar', 'AGEErr', 'AGEScale', 'AGEDenParFlag', 'RA_2', 'DEC_2', 'Z_2', 'NQ', 'GeoS4', 'GeoS10']\n"
     ]
    }
   ],
   "source": [
    "from astropy.table import Table, join\n",
    "import numpy as np\n",
    "import matplotlib.pyplot as plt\n",
    "\n",
    "visualMorph = Table.read('../../GAMA_Data/VisualMorphologyv03.fits')\n",
    "stellarMasses = Table.read('../../GAMA_Data/StellarMassesv19.fits')\n",
    "envClass = Table.read('../../GAMA_DATA/GalaxiesClassifiedv01.fits')\n",
    "envMeasures = Table.read('../../GAMA_DATA/EnvironmentMeasuresv05.fits')\n",
    "print('Visual morph table size : '+str(len(visualMorph)))\n",
    "# Elliptical code = 1 - Elliptical\n",
    "visualMorph1 = visualMorph[visualMorph['ELLIPTICAL_CODE'] == 1]\n",
    "print('Elliptical : '+str(len(visualMorph1)))\n",
    "#stellarMasses1 = stellarMasses[stellarMasses['uminusr'] > 1.8]\n",
    "#stellarMasses2 = stellarMasses1[stellarMasses1['uminusr'] < 2.8]\n",
    "#print('Red Stella Mass Table size : '+str(len(stellarMasses2)))\n",
    "#REMassEClassEmeasure1 = join(visualMorph1,stellarMasses2,keys='CATAID',join_type='inner')\n",
    "EMassEClassEmeasure1 = join(visualMorph1,stellarMasses,keys='CATAID',join_type='inner')\n",
    "#REMassEClassEmeasure1 = stellarMasses2\n",
    "EMassEClassEmeasure2 = join(EMassEClassEmeasure1,envMeasures,keys='CATAID',join_type='inner')\n",
    "EMassEClassEmeasure  = join(EMassEClassEmeasure2,envClass,keys='CATAID',join_type='inner')\n",
    "#print(REMassEClassEmeasure.colnames)\n",
    "EMassEClassEmeasure.write('../../GAMA_Data/EMassEClassEmeasure.fits', format='fits',overwrite=True)\n",
    "print('Elliptical, StellarMasses, envClass, envMeasures')\n",
    "print('StellaMasses : '+str(len(stellarMasses)))\n",
    "print('Elliptical Table size : '+str(len(EMassEClassEmeasure1)))\n",
    "print('Joined EMass envClass size : '+str(len(EMassEClassEmeasure2)))\n",
    "print('Joined EMass envClass & Measures : '+str(len(EMassEClassEmeasure)))\n",
    "print(EMassEClassEmeasure.colnames)\n"
   ]
  },
  {
   "cell_type": "code",
   "execution_count": null,
   "metadata": {},
   "outputs": [],
   "source": []
  },
  {
   "cell_type": "code",
   "execution_count": null,
   "metadata": {},
   "outputs": [],
   "source": []
  },
  {
   "cell_type": "code",
   "execution_count": null,
   "metadata": {},
   "outputs": [],
   "source": []
  },
  {
   "cell_type": "code",
   "execution_count": null,
   "metadata": {},
   "outputs": [],
   "source": []
  },
  {
   "cell_type": "code",
   "execution_count": null,
   "metadata": {},
   "outputs": [],
   "source": []
  }
 ],
 "metadata": {
  "kernelspec": {
   "display_name": "Python 3 (ipykernel)",
   "language": "python",
   "name": "python3"
  },
  "language_info": {
   "codemirror_mode": {
    "name": "ipython",
    "version": 3
   },
   "file_extension": ".py",
   "mimetype": "text/x-python",
   "name": "python",
   "nbconvert_exporter": "python",
   "pygments_lexer": "ipython3",
   "version": "3.9.5"
  }
 },
 "nbformat": 4,
 "nbformat_minor": 2
}
