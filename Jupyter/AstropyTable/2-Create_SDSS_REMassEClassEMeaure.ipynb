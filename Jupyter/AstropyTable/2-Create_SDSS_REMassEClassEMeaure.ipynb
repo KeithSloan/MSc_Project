{
 "cells": [
  {
   "cell_type": "code",
   "execution_count": 2,
   "metadata": {},
   "outputs": [
    {
     "name": "stdout",
     "output_type": "stream",
     "text": [
      "Join of SDSS Red Elliptical, StellarMasses, envClass, envMeasures\n",
      "SDSS Red Ellipitcal : 33547\n",
      "Joined Table size : 16815\n",
      "Joined Table size : 1264\n",
      "Joined Table size : 116\n"
     ]
    }
   ],
   "source": [
    "from astropy.table import Table, join\n",
    "import numpy as np\n",
    "import matplotlib.pyplot as plt\n",
    "\n",
    "sdss_red_ellipses = Table.read('../../GAMA_Data/SDSS_Red_Elliptical.fits')\n",
    "stellarMasses = Table.read('../../GAMA_Data/StellarMassesv19.fits')\n",
    "envClass = Table.read('../../GAMA_DATA/GalaxiesClassifiedv01.fits')\n",
    "envMeasures = Table.read('../../GAMA_DATA/EnvironmentMeasuresv05.fits')\n",
    "\n",
    "REMassEClassEmeasure1 = join(sdss_red_ellipses,stellarMasses,keys='CATAID',join_type='inner')\n",
    "REMassEClassEmeasure2 = join(REMassEClassEmeasure1,envClass,keys='CATAID',join_type='inner')\n",
    "REMassEClassEmeasure = join(REMassEClassEmeasure2,envMeasures,keys='CATAID',join_type='inner')\n",
    "REMassEClassEmeasure.write('../../GAMA_Data/SDSS_REMassEClassEmeasure.fits', format='fits',overwrite=True)\n",
    "print('Join of SDSS Red Elliptical, StellarMasses, envClass, envMeasures')\n",
    "print('SDSS Red Ellipitcal : '+str(len(sdss_red_ellipses)))\n",
    "print('Joined Table size : '+str(len(REMassEClassEmeasure1)))\n",
    "print('Joined Table size : '+str(len(REMassEClassEmeasure2)))\n",
    "print('Joined Table size : '+str(len(REMassEClassEmeasure)))\n"
   ]
  },
  {
   "cell_type": "code",
   "execution_count": null,
   "metadata": {},
   "outputs": [],
   "source": []
  },
  {
   "cell_type": "code",
   "execution_count": null,
   "metadata": {},
   "outputs": [],
   "source": []
  },
  {
   "cell_type": "code",
   "execution_count": null,
   "metadata": {},
   "outputs": [],
   "source": []
  },
  {
   "cell_type": "code",
   "execution_count": null,
   "metadata": {},
   "outputs": [],
   "source": []
  },
  {
   "cell_type": "code",
   "execution_count": null,
   "metadata": {},
   "outputs": [],
   "source": []
  }
 ],
 "metadata": {
  "kernelspec": {
   "display_name": "Python 3",
   "language": "python",
   "name": "python3"
  },
  "language_info": {
   "codemirror_mode": {
    "name": "ipython",
    "version": 3
   },
   "file_extension": ".py",
   "mimetype": "text/x-python",
   "name": "python",
   "nbconvert_exporter": "python",
   "pygments_lexer": "ipython3",
   "version": "3.8.8"
  }
 },
 "nbformat": 4,
 "nbformat_minor": 2
}
