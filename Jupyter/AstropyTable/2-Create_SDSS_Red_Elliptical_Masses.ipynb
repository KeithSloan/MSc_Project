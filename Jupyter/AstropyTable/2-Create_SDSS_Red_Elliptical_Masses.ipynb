{
 "cells": [
  {
   "cell_type": "code",
   "execution_count": 3,
   "metadata": {},
   "outputs": [
    {
     "name": "stdout",
     "output_type": "stream",
     "text": [
      "Join of SDSS Red Elliptical and Red StellaeMasses\n",
      "SDSS Red Ellipitcal : 33547\n",
      "Red Stellar Masses : 101816\n",
      "Joined Table size : 16815\n"
     ]
    }
   ],
   "source": [
    "from astropy.table import Table, join\n",
    "import numpy as np\n",
    "import matplotlib.pyplot as plt\n",
    "\n",
    "sdss_red_ellipses = Table.read('../../GAMA_Data/SDSS_Red_Elliptical.fits')\n",
    "\n",
    "stellarMasses = Table.read('../../GAMA_Data/StellarMassesv19.fits')\n",
    "red_ellipticalL = stellarMasses[stellarMasses['uminusr'] > 1.8]\n",
    "red_elliptical = red_ellipticalL[red_ellipticalL['uminusr'] < 2.8]\n",
    "red_elliptical.sort('uminusr')\n",
    "sdss_red_ellipticalMasses = join(sdss_red_ellipses,stellarMasses,keys='CATAID',join_type='inner')\n",
    "sdss_red_ellipticalMasses.write('../../GAMA_Data/SDSS_Red_Elliptical_Masses.fits', format='fits',overwrite=True)\n",
    "print('Join of SDSS Red Elliptical and Red StellaeMasses')\n",
    "print('SDSS Red Ellipitcal : '+str(len(sdss_red_ellipses)))\n",
    "print('Red Stellar Masses : '+str(len(red_elliptical)))\n",
    "print('Joined Table size : '+str(len(sdss_red_ellipticalMasses)))\n",
    "\n"
   ]
  },
  {
   "cell_type": "code",
   "execution_count": null,
   "metadata": {},
   "outputs": [],
   "source": []
  },
  {
   "cell_type": "code",
   "execution_count": null,
   "metadata": {},
   "outputs": [],
   "source": []
  },
  {
   "cell_type": "code",
   "execution_count": null,
   "metadata": {},
   "outputs": [],
   "source": []
  },
  {
   "cell_type": "code",
   "execution_count": null,
   "metadata": {},
   "outputs": [],
   "source": []
  },
  {
   "cell_type": "code",
   "execution_count": null,
   "metadata": {},
   "outputs": [],
   "source": []
  }
 ],
 "metadata": {
  "kernelspec": {
   "display_name": "Python 3",
   "language": "python",
   "name": "python3"
  },
  "language_info": {
   "codemirror_mode": {
    "name": "ipython",
    "version": 3
   },
   "file_extension": ".py",
   "mimetype": "text/x-python",
   "name": "python",
   "nbconvert_exporter": "python",
   "pygments_lexer": "ipython3",
   "version": "3.8.8"
  }
 },
 "nbformat": 4,
 "nbformat_minor": 2
}
