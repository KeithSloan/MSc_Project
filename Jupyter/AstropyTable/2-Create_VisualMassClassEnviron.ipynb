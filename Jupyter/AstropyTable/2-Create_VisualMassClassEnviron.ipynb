{
 "cells": [
  {
   "cell_type": "code",
   "execution_count": 3,
   "metadata": {},
   "outputs": [
    {
     "name": "stdout",
     "output_type": "stream",
     "text": [
      "Visual morph table size : 38795\n"
     ]
    },
    {
     "name": "stderr",
     "output_type": "stream",
     "text": [
      "WARNING: MergeConflictWarning: Cannot merge meta key 'EXTNAME' types <class 'str'> and <class 'str'>, choosing EXTNAME='StellarMasses' [astropy.utils.metadata]\n",
      "WARNING: MergeConflictWarning: Cannot merge meta key 'TUCD1' types <class 'str'> and <class 'str'>, choosing TUCD1='meta.id;meta.main' [astropy.utils.metadata]\n",
      "WARNING: MergeConflictWarning: Cannot merge meta key 'TCOMM2' types <class 'str'> and <class 'str'>, choosing TCOMM2='Heliocentric redshift' [astropy.utils.metadata]\n",
      "WARNING: MergeConflictWarning: Cannot merge meta key 'TUCD2' types <class 'str'> and <class 'str'>, choosing TUCD2='src.redshift' [astropy.utils.metadata]\n",
      "WARNING: MergeConflictWarning: Cannot merge meta key 'TCOMM3' types <class 'str'> and <class 'str'>, choosing TCOMM3='Normalised redshift quality (use nQ > 2 for science)' [astropy.utils.metadata]\n",
      "WARNING: MergeConflictWarning: Cannot merge meta key 'TUCD3' types <class 'str'> and <class 'str'>, choosing TUCD3='meta.code.qual;src.redshift' [astropy.utils.metadata]\n",
      "WARNING: MergeConflictWarning: Cannot merge meta key 'TCOMM4' types <class 'str'> and <class 'str'>, choosing TCOMM4='Redshift source flag (GAMA=5; SDSS=1)' [astropy.utils.metadata]\n",
      "WARNING: MergeConflictWarning: Cannot merge meta key 'TUCD4' types <class 'str'> and <class 'str'>, choosing TUCD4='meta.code;meta.dataset' [astropy.utils.metadata]\n",
      "WARNING: MergeConflictWarning: Cannot merge meta key 'TCOMM5' types <class 'str'> and <class 'str'>, choosing TCOMM5='Target selection flag (>=3 for main survey targets)' [astropy.utils.metadata]\n",
      "WARNING: MergeConflictWarning: Cannot merge meta key 'TUCD5' types <class 'str'> and <class 'str'>, choosing TUCD5='meta.code;meta.dataset' [astropy.utils.metadata]\n",
      "WARNING: MergeConflictWarning: Cannot merge meta key 'TCOMM6' types <class 'str'> and <class 'str'>, choosing TCOMM6='Flow corrected redshift using Tonry et al. model' [astropy.utils.metadata]\n",
      "WARNING: MergeConflictWarning: Cannot merge meta key 'TUCD6' types <class 'str'> and <class 'str'>, choosing TUCD6='src.redshift' [astropy.utils.metadata]\n",
      "WARNING: MergeConflictWarning: Cannot merge meta key 'TCOMM7' types <class 'str'> and <class 'str'>, choosing TCOMM7='Aperture correction factor for scaling total luminosities and ste..' [astropy.utils.metadata]\n",
      "WARNING: MergeConflictWarning: Cannot merge meta key 'TUCD7' types <class 'str'> and <class 'str'>, choosing TUCD7='arith.factor' [astropy.utils.metadata]\n",
      "WARNING: MergeConflictWarning: Cannot merge meta key 'TCOMM8' types <class 'str'> and <class 'str'>, choosing TCOMM8='Maximum redshift for which r_petro <= 19.8 (GAMA II SURVEY_CLASS ..' [astropy.utils.metadata]\n",
      "WARNING: MergeConflictWarning: Cannot merge meta key 'TUCD8' types <class 'str'> and <class 'str'>, choosing TUCD8='src.redshift;stat.max' [astropy.utils.metadata]\n",
      "WARNING: MergeConflictWarning: Cannot merge meta key 'TCOMM9' types <class 'str'> and <class 'str'>, choosing TCOMM9='Maximum redshift for which r_petro <= 19.4 (GAMA I G09/G15 SURVEY..' [astropy.utils.metadata]\n",
      "WARNING: MergeConflictWarning: Cannot merge meta key 'TUCD9' types <class 'str'> and <class 'str'>, choosing TUCD9='src.redshift;stat.max' [astropy.utils.metadata]\n",
      "WARNING: MergeConflictWarning: Cannot merge meta key 'TCOMM10' types <class 'str'> and <class 'str'>, choosing TCOMM10='Maximum redshift for which r_petro <= 19.0 (DR2 G09/G12 selection)' [astropy.utils.metadata]\n",
      "WARNING: MergeConflictWarning: Cannot merge meta key 'TUCD10' types <class 'str'> and <class 'str'>, choosing TUCD10='src.redshift;stat.max' [astropy.utils.metadata]\n",
      "WARNING: MergeConflictWarning: Cannot merge meta key 'TCOMM11' types <class 'str'> and <class 'str'>, choosing TCOMM11='Maximum redshift for which r_petro <= 17.8 (SDSS main survey sele..' [astropy.utils.metadata]\n",
      "WARNING: MergeConflictWarning: Cannot merge meta key 'TUCD11' types <class 'str'> and <class 'str'>, choosing TUCD11='src.redshift;stat.max' [astropy.utils.metadata]\n",
      "WARNING: MergeConflictWarning: Cannot merge meta key 'TCOMM12' types <class 'str'> and <class 'str'>, choosing TCOMM12='Effective no. of bands used in the fit (treat < 3.5 with caution)' [astropy.utils.metadata]\n",
      "WARNING: MergeConflictWarning: Cannot merge meta key 'TUCD12' types <class 'str'> and <class 'str'>, choosing TUCD12='meta.number' [astropy.utils.metadata]\n",
      "WARNING: MergeConflictWarning: Cannot merge meta key 'TCOMM13' types <class 'str'> and <class 'str'>, choosing TCOMM13='Net effective signal-to-noise in the fit-to SED' [astropy.utils.metadata]\n",
      "WARNING: MergeConflictWarning: Cannot merge meta key 'TUCD13' types <class 'str'> and <class 'str'>, choosing TUCD13='meta.number' [astropy.utils.metadata]\n",
      "WARNING: MergeConflictWarning: Cannot merge meta key 'TCOMM14' types <class 'str'> and <class 'str'>, choosing TCOMM14='Posterior Predictive P-Value Goodness of Fit metric (treat PPP < ..' [astropy.utils.metadata]\n",
      "WARNING: MergeConflictWarning: Cannot merge meta key 'TUCD14' types <class 'str'> and <class 'str'>, choosing TUCD14='meta.number' [astropy.utils.metadata]\n",
      "WARNING: MergeConflictWarning: Cannot merge meta key 'TCOMM15' types <class 'str'> and <class 'str'>, choosing TCOMM15='Stellar mass within the photometric aperture, see notes' [astropy.utils.metadata]\n",
      "WARNING: MergeConflictWarning: Cannot merge meta key 'TUCD15' types <class 'str'> and <class 'str'>, choosing TUCD15='phys.mass' [astropy.utils.metadata]\n",
      "WARNING: MergeConflictWarning: Cannot merge meta key 'TCOMM16' types <class 'str'> and <class 'str'>, choosing TCOMM16='Formal uncertainty on logmstar' [astropy.utils.metadata]\n",
      "WARNING: MergeConflictWarning: Cannot merge meta key 'TUCD16' types <class 'str'> and <class 'str'>, choosing TUCD16='stat.error' [astropy.utils.metadata]\n",
      "WARNING: MergeConflictWarning: Cannot merge meta key 'TCOMM17' types <class 'str'> and <class 'str'>, choosing TCOMM17='Mass-to-light ratio (restframe i-band)' [astropy.utils.metadata]\n",
      "WARNING: MergeConflictWarning: Cannot merge meta key 'TUCD17' types <class 'str'> and <class 'str'>, choosing TUCD17='phys.composition.massLightRatio' [astropy.utils.metadata]\n",
      "WARNING: MergeConflictWarning: Cannot merge meta key 'TCOMM18' types <class 'str'> and <class 'str'>, choosing TCOMM18='Formal uncertainty on logmoverl_i' [astropy.utils.metadata]\n",
      "WARNING: MergeConflictWarning: Cannot merge meta key 'TUCD18' types <class 'str'> and <class 'str'>, choosing TUCD18='stat.error' [astropy.utils.metadata]\n",
      "WARNING: MergeConflictWarning: Cannot merge meta key 'TCOMM19' types <class 'str'> and <class 'str'>, choosing TCOMM19='SPS age T = t(z_obs) - t(z_form)' [astropy.utils.metadata]\n",
      "WARNING: MergeConflictWarning: Cannot merge meta key 'TUCD19' types <class 'str'> and <class 'str'>, choosing TUCD19='time.age' [astropy.utils.metadata]\n",
      "WARNING: MergeConflictWarning: Cannot merge meta key 'TCOMM20' types <class 'str'> and <class 'str'>, choosing TCOMM20='Formal uncertainty on logage' [astropy.utils.metadata]\n",
      "WARNING: MergeConflictWarning: Cannot merge meta key 'TUCD20' types <class 'str'> and <class 'str'>, choosing TUCD20='stat.error' [astropy.utils.metadata]\n",
      "WARNING: MergeConflictWarning: Cannot merge meta key 'TCOMM21' types <class 'str'> and <class 'str'>, choosing TCOMM21='SPS e-folding time for the exponentially declining SFH' [astropy.utils.metadata]\n",
      "WARNING: MergeConflictWarning: Cannot merge meta key 'TUCD21' types <class 'str'> and <class 'str'>, choosing TUCD21='time.scale' [astropy.utils.metadata]\n",
      "WARNING: MergeConflictWarning: Cannot merge meta key 'DATE-HDU' types <class 'str'> and <class 'str'>, choosing DATE-HDU='2017-11-21T08:42:08' [astropy.utils.metadata]\n",
      "WARNING: MergeConflictWarning: Cannot merge meta key 'DMU' types <class 'str'> and <class 'str'>, choosing DMU='StellarMasses' [astropy.utils.metadata]\n",
      "WARNING: MergeConflictWarning: Cannot merge meta key 'NAME' types <class 'str'> and <class 'str'>, choosing NAME='StellarMasses' [astropy.utils.metadata]\n",
      "WARNING: MergeConflictWarning: Cannot merge meta key 'VERSION' types <class 'str'> and <class 'str'>, choosing VERSION='v19' [astropy.utils.metadata]\n",
      "WARNING: MergeConflictWarning: Cannot merge meta key 'DATE' types <class 'str'> and <class 'str'>, choosing DATE='2016-09-27' [astropy.utils.metadata]\n",
      "WARNING: MergeConflictWarning: Cannot merge meta key 'CONTACT' types <class 'str'> and <class 'str'>, choosing CONTACT='Edward Taylor <entaylor@swin.edu.au>' [astropy.utils.metadata]\n",
      "WARNING: MergeConflictWarning: Cannot merge meta key 'EXTNAME' types <class 'str'> and <class 'str'>, choosing EXTNAME='EnvironmentMeasures' [astropy.utils.metadata]\n",
      "WARNING: MergeConflictWarning: Cannot merge meta key 'TCOMM1' types <class 'str'> and <class 'str'>, choosing TCOMM1='Unique GAMA ID' [astropy.utils.metadata]\n",
      "WARNING: MergeConflictWarning: Cannot merge meta key 'TUCD1' types <class 'str'> and <class 'str'>, choosing TUCD1='meta.id' [astropy.utils.metadata]\n",
      "WARNING: MergeConflictWarning: Cannot merge meta key 'TCOMM2' types <class 'str'> and <class 'str'>, choosing TCOMM2='J2000' [astropy.utils.metadata]\n",
      "WARNING: MergeConflictWarning: Cannot merge meta key 'TUCD2' types <class 'str'> and <class 'str'>, choosing TUCD2='pos.eq.ra' [astropy.utils.metadata]\n",
      "WARNING: MergeConflictWarning: Cannot merge meta key 'TCOMM3' types <class 'str'> and <class 'str'>, choosing TCOMM3='J2000' [astropy.utils.metadata]\n",
      "WARNING: MergeConflictWarning: Cannot merge meta key 'TUCD3' types <class 'str'> and <class 'str'>, choosing TUCD3='pos.eq.dec' [astropy.utils.metadata]\n",
      "WARNING: MergeConflictWarning: Cannot merge meta key 'TCOMM4' types <class 'str'> and <class 'str'>, choosing TCOMM4='Heliocentric redshift corrected for the effects of peculiar velocity' [astropy.utils.metadata]\n",
      "WARNING: MergeConflictWarning: Cannot merge meta key 'TUCD4' types <class 'str'> and <class 'str'>, choosing TUCD4='src.redshift' [astropy.utils.metadata]\n",
      "WARNING: MergeConflictWarning: Cannot merge meta key 'TCOMM5' types <class 'str'> and <class 'str'>, choosing TCOMM5='Redshift quality flag' [astropy.utils.metadata]\n",
      "WARNING: MergeConflictWarning: Cannot merge meta key 'TUCD5' types <class 'str'> and <class 'str'>, choosing TUCD5='meta.code.qual;src.redshift' [astropy.utils.metadata]\n",
      "WARNING: MergeConflictWarning: Cannot merge meta key 'TCOMM6' types <class 'str'> and <class 'str'>, choosing TCOMM6='Extinction and k-corrected absolute r-band magnitude' [astropy.utils.metadata]\n",
      "WARNING: MergeConflictWarning: Cannot merge meta key 'TUCD6' types <class 'str'> and <class 'str'>, choosing TUCD6='phys.magAbs' [astropy.utils.metadata]\n",
      "WARNING: MergeConflictWarning: Cannot merge meta key 'TCOMM7' types <class 'str'> and <class 'str'>, choosing TCOMM7='Distance to nearest angular survey edge in co-moving units' [astropy.utils.metadata]\n",
      "WARNING: MergeConflictWarning: Cannot merge meta key 'TUCD7' types <class 'str'> and <class 'str'>, choosing TUCD7='pos.distance' [astropy.utils.metadata]\n",
      "WARNING: MergeConflictWarning: Cannot merge meta key 'TCOMM8' types <class 'str'> and <class 'str'>, choosing TCOMM8='Value used to correct environment measures for local survey incom..' [astropy.utils.metadata]\n",
      "WARNING"
     ]
    },
    {
     "name": "stdout",
     "output_type": "stream",
     "text": [
      "Visual Morph + StellarMasses 38775\n",
      "Joining envMeasures 29752\n"
     ]
    },
    {
     "name": "stderr",
     "output_type": "stream",
     "text": [
      ": MergeConflictWarning: Cannot merge meta key 'TUCD8' types <class 'str'> and <class 'str'>, choosing TUCD8='arith.factor' [astropy.utils.metadata]\n",
      "WARNING: MergeConflictWarning: Cannot merge meta key 'TCOMM9' types <class 'str'> and <class 'str'>, choosing TCOMM9='Distance to 5th nearest neighbour in co-moving units' [astropy.utils.metadata]\n",
      "WARNING: MergeConflictWarning: Cannot merge meta key 'TUCD9' types <class 'str'> and <class 'str'>, choosing TUCD9='pos.distance' [astropy.utils.metadata]\n",
      "WARNING: MergeConflictWarning: Cannot merge meta key 'TCOMM10' types <class 'str'> and <class 'str'>, choosing TCOMM10='Surface density based on the distance to the 5th nearest neighbour' [astropy.utils.metadata]\n",
      "WARNING: MergeConflictWarning: Cannot merge meta key 'TUCD10' types <class 'str'> and <class 'str'>, choosing TUCD10='src.density' [astropy.utils.metadata]\n",
      "WARNING: MergeConflictWarning: Cannot merge meta key 'TCOMM11' types <class 'str'> and <class 'str'>, choosing TCOMM11='Surface density uncertainty' [astropy.utils.metadata]\n",
      "WARNING: MergeConflictWarning: Cannot merge meta key 'TUCD11' types <class 'str'> and <class 'str'>, choosing TUCD11='stat.error;src.density' [astropy.utils.metadata]\n",
      "WARNING: MergeConflictWarning: Cannot merge meta key 'TCOMM12' types <class 'str'> and <class 'str'>, choosing TCOMM12='Flag indicating problems with surface density measurement, see no..' [astropy.utils.metadata]\n",
      "WARNING: MergeConflictWarning: Cannot merge meta key 'TUCD12' types <class 'str'> and <class 'str'>, choosing TUCD12='meta.code.error;src.density' [astropy.utils.metadata]\n",
      "WARNING: MergeConflictWarning: Cannot merge meta key 'TCOMM13' types <class 'str'> and <class 'str'>, choosing TCOMM13='Number of (other) galaxies within cylinder of radius 1 co-moving Mpc' [astropy.utils.metadata]\n",
      "WARNING: MergeConflictWarning: Cannot merge meta key 'TCOMM14' types <class 'str'> and <class 'str'>, choosing TCOMM14='Poisson error on number of galaxies in cylinder' [astropy.utils.metadata]\n",
      "WARNING: MergeConflictWarning: Cannot merge meta key 'TUCD14' types <class 'str'> and <class 'str'>, choosing TUCD14='stat.error;meta.number' [astropy.utils.metadata]\n",
      "WARNING: MergeConflictWarning: Cannot merge meta key 'TCOMM15' types <class 'str'> and <class 'str'>, choosing TCOMM15='Flag indicating problems with CountInCyl, see notes' [astropy.utils.metadata]\n",
      "WARNING: MergeConflictWarning: Cannot merge meta key 'TUCD15' types <class 'str'> and <class 'str'>, choosing TUCD15='meta.code.error;meta.number' [astropy.utils.metadata]\n",
      "WARNING: MergeConflictWarning: Cannot merge meta key 'TCOMM16' types <class 'str'> and <class 'str'>, choosing TCOMM16='Adaptive Gaussian environment parameter' [astropy.utils.metadata]\n",
      "WARNING: MergeConflictWarning: Cannot merge meta key 'TUCD16' types <class 'str'> and <class 'str'>, choosing TUCD16='src.density' [astropy.utils.metadata]\n",
      "WARNING: MergeConflictWarning: Cannot merge meta key 'TCOMM17' types <class 'str'> and <class 'str'>, choosing TCOMM17='Poisson error on the number of galaxies used to calculate AGEDenPar' [astropy.utils.metadata]\n",
      "WARNING: MergeConflictWarning: Cannot merge meta key 'TUCD17' types <class 'str'> and <class 'str'>, choosing TUCD17='stat.error;meta.number' [astropy.utils.metadata]\n",
      "WARNING: MergeConflictWarning: Cannot merge meta key 'TCOMM18' types <class 'str'> and <class 'str'>, choosing TCOMM18='Adaptive scaling factor used for the adaptive Gaussian ellipsoid' [astropy.utils.metadata]\n",
      "WARNING: MergeConflictWarning: Cannot merge meta key 'TUCD18' types <class 'str'> and <class 'str'>, choosing TUCD18='arith.factor' [astropy.utils.metadata]\n",
      "WARNING: MergeConflictWarning: Cannot merge meta key 'TCOMM19' types <class 'str'> and <class 'str'>, choosing TCOMM19='Flag indicating problems with AGEDenPar, see notes' [astropy.utils.metadata]\n",
      "WARNING: MergeConflictWarning: Cannot merge meta key 'TUCD19' types <class 'str'> and <class 'str'>, choosing TUCD19='meta.code.error;src.density' [astropy.utils.metadata]\n",
      "WARNING: MergeConflictWarning: Cannot merge meta key 'DATE-HDU' types <class 'str'> and <class 'str'>, choosing DATE-HDU='2015-05-12T12:48:23' [astropy.utils.metadata]\n",
      "WARNING: MergeConflictWarning: Cannot merge meta key 'STILVERS' types <class 'str'> and <class 'str'>, choosing STILVERS='3.0-8' [astropy.utils.metadata]\n",
      "WARNING: MergeConflictWarning: Cannot merge meta key 'DMU' types <class 'str'> and <class 'str'>, choosing DMU='EnvironmentMeasures' [astropy.utils.metadata]\n",
      "WARNING: MergeConflictWarning: Cannot merge meta key 'NAME' types <class 'str'> and <class 'str'>, choosing NAME='EnvironmentMeasures' [astropy.utils.metadata]\n",
      "WARNING: MergeConflictWarning: Cannot merge meta key 'VERSION' types <class 'str'> and <class 'str'>, choosing VERSION='v05' [astropy.utils.metadata]\n",
      "WARNING: MergeConflictWarning: Cannot merge meta key 'DATE' types <class 'str'> and <class 'str'>, choosing DATE='2015-02-25' [astropy.utils.metadata]\n",
      "WARNING: MergeConflictWarning: Cannot merge meta key 'CONTACT' types <class 'str'> and <class 'str'>, choosing CONTACT='Sarah Brough <sb@aao.gov.au>' [astropy.utils.metadata]\n",
      "WARNING: MergeConflictWarning: Cannot merge meta key 'EXTNAME' types <class 'str'> and <class 'str'>, choosing EXTNAME='GalaxiesClassified' [astropy.utils.metadata]\n",
      "WARNING: MergeConflictWarning: Cannot merge meta key 'TCOMM1' types <class 'str'> and <class 'str'>, choosing TCOMM1='Unique ID of GAMA object' [astropy.utils.metadata]\n",
      "WARNING: MergeConflictWarning: Cannot merge meta key 'TCOMM2' types <class 'str'> and <class 'str'>, choosing TCOMM2='RA of galaxy (J2000)' [astropy.utils.metadata]\n",
      "WARNING: MergeConflictWarning: Cannot merge meta key 'TCOMM3' types <class 'str'> and <class 'str'>, choosing TCOMM3='DEC of galaxy (J2000)' [astropy.utils.metadata]\n",
      "WARNING: MergeConflictWarning: Cannot merge meta key 'TCOMM4' types <class 'str'> and <class 'str'>, choosing TCOMM4='Heliocentric redshift' [astropy.utils.metadata]\n",
      "WARNING: MergeConflictWarning: Cannot merge meta key 'TCOMM5' types <class 'str'> and <class 'str'>, choosing TCOMM5='Redshift quality (use nQ > 2 for science)' [astropy.utils.metadata]\n",
      "WARNING: MergeConflictWarning: Cannot merge meta key 'TCOMM6' types <class 'str'> and <class 'str'>, choosing TCOMM6='Geometric environment of galaxy computed with 4 Mpc/h smoothing' [astropy.utils.metadata]\n",
      "WARNING: MergeConflictWarning: Cannot merge meta key 'TUCD6' types <class 'str'> and <class 'str'>, choosing TUCD6='meta.code.class' [astropy.utils.metadata]\n",
      "WARNING: MergeConflictWarning: Cannot merge meta key 'TCOMM7' types <class 'str'> and <class 'str'>, choosing TCOMM7='Geometric environment of galaxy computed with 10 Mpc/h smoothing' [astropy.utils.metadata]\n",
      "WARNING: MergeConflictWarning: Cannot merge meta key 'TUCD7' types <class 'str'> and <class 'str'>, choosing TUCD7='meta.code.class' [astropy.utils.metadata]\n",
      "WARNING: MergeConflictWarning: Cannot merge meta key 'DATE-HDU' types <class 'str'> and <class 'str'>, choosing DATE-HDU='2015-09-17T14:42:34' [astropy.utils.metadata]\n",
      "WARNING: MergeConflictWarning: Cannot merge meta key 'DMU' types <class 'str'> and <class 'str'>, choosing DMU='GeometricEnvironments' [astropy.utils.metadata]\n",
      "WARNING: MergeConflictWarning: Cannot merge meta key 'NAME' types <class 'str'> and <class 'str'>, choosing NAME='GalaxiesClassified' [astropy.utils.metadata]\n",
      "WARNING: MergeConflictWarning: Cannot merge meta key 'VERSION' types <class 'str'> and <class 'str'>, choosing VERSION='v01' [astropy.utils.metadata]\n",
      "WARNING: MergeConflictWarning: Cannot merge meta key 'DATE' types <class 'str'> and <class 'str'>, choosing DATE='2015-01-05' [astropy.utils.metadata]\n",
      "WARNING: MergeConflictWarning: Cannot merge meta key 'CONTACT' types <class 'str'> and <class 'str'>, choosing CONTACT='Lizzie Eardley <ee@roe.ac.uk>' [astropy.utils.metadata]\n"
     ]
    },
    {
     "name": "stdout",
     "output_type": "stream",
     "text": [
      "Joing Environment Measures 26734\n"
     ]
    },
    {
     "name": "stderr",
     "output_type": "stream",
     "text": [
      "WARNING: UnitsWarning: 'dex(Msun)' did not parse as fits unit: At col 4, Unit 'Msun' not supported by the FITS standard. Did you mean Sun? If this is meant to be a custom unit, define it with 'u.def_unit'. To have it recognized inside a file reader or other code, enable it with 'u.add_enabled_units'. For details, see https://docs.astropy.org/en/latest/units/combining_and_defining.html [astropy.units.core]\n",
      "WARNING: UnitsWarning: 'dex(Msun/Lsun,i)' did not parse as fits unit: At col 4, Unit 'Msun' not supported by the FITS standard. Did you mean Sun? If this is meant to be a custom unit, define it with 'u.def_unit'. To have it recognized inside a file reader or other code, enable it with 'u.add_enabled_units'. For details, see https://docs.astropy.org/en/latest/units/combining_and_defining.html [astropy.units.core]\n",
      "WARNING: UnitsWarning: 'dex(yr)' did not parse as fits unit: Unit 'dex' not supported by the FITS standard.  If this is meant to be a custom unit, define it with 'u.def_unit'. To have it recognized inside a file reader or other code, enable it with 'u.add_enabled_units'. For details, see https://docs.astropy.org/en/latest/units/combining_and_defining.html [astropy.units.core]\n"
     ]
    },
    {
     "name": "stdout",
     "output_type": "stream",
     "text": [
      "['CATAID', 'ELLIPTICAL', 'ELLIPTICAL_CODE', 'HUBBLE_TYPE_SPD', 'HUBBLE_TYPE_SPD_CODE', 'HUBBLE_TYPE_LSK', 'HUBBLE_TYPE_LSK_CODE', 'HUBBLE_TYPE_ASGR', 'HUBBLE_TYPE_ASGR_CODE', 'HUBBLE_TYPE', 'HUBBLE_TYPE_CODE', 'ASGR_DISTURBED', 'ASGR_NORMAL', 'ASGR_UNSURE', 'ASGR_CLASSIFIERS', 'ASGR_PROBDIST', 'P_EL', 'P_CS', 'P_EL_DEBIASED', 'P_CS_DEBIASED', 'URL_IMG', 'Z_1', 'nQ_1', 'SURVEY_CODE', 'SURVEY_CLASS', 'Z_TONRY_1', 'fluxscale', 'zmax_19p8', 'zmax_19p4', 'zmax_19p0', 'zmax_17p8', 'nbands', 'S2N', 'PPP', 'logmstar', 'dellogmstar', 'logmoverl_i', 'dellogmoverl_i', 'logage', 'dellogage', 'logtau', 'dellogtau', 'logmintsfh', 'dellogmintsfh', 'logmremnants', 'dellogmremnants', 'metal', 'delmetal', 'extBV', 'delextBV', 'logLWage', 'dellogLWage', 'gminusi', 'delgminusi', 'uminusr', 'deluminusr', 'gminusi_stars', 'uminusr_stars', 'C_logM_ur', 'C_logM_gi', 'C_logM_eBV', 'fitphot_u', 'delfitphot_u', 'absmag_u', 'delabsmag_u', 'absmag_u_stars', 'fitphot_g', 'delfitphot_g', 'absmag_g', 'delabsmag_g', 'absmag_g_stars', 'fitphot_r', 'delfitphot_r', 'absmag_r', 'delabsmag_r', 'absmag_r_stars', 'fitphot_i', 'delfitphot_i', 'absmag_i', 'delabsmag_i', 'absmag_i_stars', 'fitphot_z', 'delfitphot_z', 'absmag_z', 'delabsmag_z', 'absmag_z_stars', 'fitphot_X', 'delfitphot_X', 'absmag_X', 'delabsmag_X', 'absmag_X_stars', 'fitphot_Y', 'delfitphot_Y', 'absmag_Y', 'delabsmag_Y', 'absmag_Y_stars', 'fitphot_J', 'delfitphot_J', 'absmag_J', 'delabsmag_J', 'absmag_J_stars', 'fitphot_H', 'delfitphot_H', 'absmag_H', 'delabsmag_H', 'absmag_H_stars', 'fitphot_K', 'delfitphot_K', 'absmag_K', 'delabsmag_K', 'absmag_K_stars', 'URL_PNG', 'RA_1', 'DEC_1', 'Z_TONRY_2', 'nQ_2', 'M_r', 'DistanceToEdge', 'Completeness', 'DistanceTo5nn', 'SurfaceDensity', 'SurfaceDensityErr', 'SurfaceDensityFlag', 'CountInCyl', 'CountInCylErr', 'CountInCylFlag', 'AGEDenPar', 'AGEErr', 'AGEScale', 'AGEDenParFlag', 'RA_2', 'DEC_2', 'Z_2', 'NQ', 'GeoS4', 'GeoS10']\n"
     ]
    }
   ],
   "source": [
    "from astropy.table import Table, join\n",
    "import numpy as np\n",
    "import matplotlib.pyplot as plt\n",
    "\n",
    "visualMorph = Table.read('../../GAMA_Data/VisualMorphologyv03.fits')\n",
    "stellarMasses = Table.read('../../GAMA_Data/StellarMassesv19.fits')\n",
    "envClass = Table.read('../../GAMA_DATA/GalaxiesClassifiedv01.fits')\n",
    "envMeasures = Table.read('../../GAMA_DATA/EnvironmentMeasuresv05.fits')\n",
    "print('Visual morph table size : '+str(len(visualMorph)))\n",
    "# Elliptical code = 1 - Elliptical\n",
    "#visualMorph1 = visualMorph[visualMorph['ELLIPTICAL_CODE'] == 1]\n",
    "VMCE = join(visualMorph,stellarMasses,keys='CATAID',join_type='inner')\n",
    "print('Visual Morph + StellarMasses '+str(len(VMCE)))\n",
    "VMCE = join(VMCE,envMeasures,keys='CATAID',join_type='inner')\n",
    "print('Joining envMeasures '+str(len(VMCE)))\n",
    "VMCE = join(VMCE,envClass,keys='CATAID',join_type='inner')\n",
    "print('Joing Environment Measures '+str(len(VMCE)))\n",
    "VMCE.write('../../GAMA_Data/VisualMassClassEnviron.fits', format='fits',overwrite=True)\n",
    "\n",
    "print(VMCE.colnames)\n"
   ]
  },
  {
   "cell_type": "code",
   "execution_count": null,
   "metadata": {},
   "outputs": [],
   "source": []
  },
  {
   "cell_type": "code",
   "execution_count": null,
   "metadata": {},
   "outputs": [],
   "source": []
  },
  {
   "cell_type": "code",
   "execution_count": null,
   "metadata": {},
   "outputs": [],
   "source": []
  },
  {
   "cell_type": "code",
   "execution_count": null,
   "metadata": {},
   "outputs": [],
   "source": []
  },
  {
   "cell_type": "code",
   "execution_count": null,
   "metadata": {},
   "outputs": [],
   "source": []
  }
 ],
 "metadata": {
  "kernelspec": {
   "display_name": "Python 3 (ipykernel)",
   "language": "python",
   "name": "python3"
  },
  "language_info": {
   "codemirror_mode": {
    "name": "ipython",
    "version": 3
   },
   "file_extension": ".py",
   "mimetype": "text/x-python",
   "name": "python",
   "nbconvert_exporter": "python",
   "pygments_lexer": "ipython3",
   "version": "3.9.5"
  }
 },
 "nbformat": 4,
 "nbformat_minor": 2
}
