{
 "cells": [
  {
   "cell_type": "code",
   "execution_count": 6,
   "metadata": {},
   "outputs": [
    {
     "name": "stdout",
     "output_type": "stream",
     "text": [
      "SDSS_Red_Elliptical_Masses : 16815\n",
      "Env Measures : 67996\n",
      "Joined Table : 128\n",
      "['CATAID', 'RA_1', 'DEC_1', 'Z_TONRY_1', 'nQ_1', 'M_r', 'DistanceToEdge', 'Completeness', 'DistanceTo5nn', 'SurfaceDensity', 'SurfaceDensityErr', 'SurfaceDensityFlag', 'CountInCyl', 'CountInCylErr', 'CountInCylFlag', 'AGEDenPar', 'AGEErr', 'AGEScale', 'AGEDenParFlag', 'OBJID', 'RA_2', 'DEC_2', 'FLAGS', 'PRIMTARGET', 'TYPE', 'PSFMAG_R', 'FIBERMAG_R', 'FLAGS_R', 'EXTINCTION_R', 'PETRORAD_R', 'PETROR90_R', 'PETROR50_R', 'PETROMAG_G', 'PETROMAG_R', 'PETROMAG_I', 'MODELMAG_U', 'MODELMAG_G', 'MODELMAG_R', 'MODELMAG_I', 'MODELMAG_Z', 'STATUS', 'RUN', 'Z', 'nQ_2', 'SURVEY_CODE', 'SURVEY_CLASS', 'Z_TONRY_2', 'fluxscale', 'zmax_19p8', 'zmax_19p4', 'zmax_19p0', 'zmax_17p8', 'nbands', 'S2N', 'PPP', 'logmstar', 'dellogmstar', 'logmoverl_i', 'dellogmoverl_i', 'logage', 'dellogage', 'logtau', 'dellogtau', 'logmintsfh', 'dellogmintsfh', 'logmremnants', 'dellogmremnants', 'metal', 'delmetal', 'extBV', 'delextBV', 'logLWage', 'dellogLWage', 'gminusi', 'delgminusi', 'uminusr', 'deluminusr', 'gminusi_stars', 'uminusr_stars', 'C_logM_ur', 'C_logM_gi', 'C_logM_eBV', 'fitphot_u', 'delfitphot_u', 'absmag_u', 'delabsmag_u', 'absmag_u_stars', 'fitphot_g', 'delfitphot_g', 'absmag_g', 'delabsmag_g', 'absmag_g_stars', 'fitphot_r', 'delfitphot_r', 'absmag_r', 'delabsmag_r', 'absmag_r_stars', 'fitphot_i', 'delfitphot_i', 'absmag_i', 'delabsmag_i', 'absmag_i_stars', 'fitphot_z', 'delfitphot_z', 'absmag_z', 'delabsmag_z', 'absmag_z_stars', 'fitphot_X', 'delfitphot_X', 'absmag_X', 'delabsmag_X', 'absmag_X_stars', 'fitphot_Y', 'delfitphot_Y', 'absmag_Y', 'delabsmag_Y', 'absmag_Y_stars', 'fitphot_J', 'delfitphot_J', 'absmag_J', 'delabsmag_J', 'absmag_J_stars', 'fitphot_H', 'delfitphot_H', 'absmag_H', 'delabsmag_H', 'absmag_H_stars', 'fitphot_K', 'delfitphot_K', 'absmag_K', 'delabsmag_K', 'absmag_K_stars', 'URL_PNG']\n"
     ]
    }
   ],
   "source": [
    "from astropy.table import Table, join\n",
    "import numpy as np\n",
    "import matplotlib.pyplot as plt\n",
    "\n",
    "sdss_red_ellipses_masses = Table.read('../../GAMA_Data/SDSS_Red_Elliptical_Masses.fits')\n",
    "env_measures = Table.read('../../GAMA_Data/EnvironmentMeasuresv05.fits')\n",
    "#print(sdss_red_ellipses_masses.colnames)\n",
    "#print(env_measures.colnames)\n",
    "sdss_red_elliptical_Env_Measures = join(env_measures,sdss_red_ellipses_masses,keys='CATAID',join_type='inner')\n",
    "sdss_red_elliptical_Env_Measures.write('../../GAMA_Data/SDSS_Red_Elliptical_Env_Measures.fits', format='fits',overwrite=True)\n",
    "print('SDSS_Red_Elliptical_Masses : '+str(len(sdss_red_ellipses_masses)))\n",
    "print('Env Measures : '+str(len(env_measures)))\n",
    "print('Joined Table : '+str(len(sdss_red_elliptical_Env_Measures)))\n",
    "print(sdss_red_elliptical_Env_Measures.colnames)\n",
    "\n",
    "\n",
    "\n"
   ]
  },
  {
   "cell_type": "code",
   "execution_count": null,
   "metadata": {},
   "outputs": [],
   "source": []
  },
  {
   "cell_type": "code",
   "execution_count": null,
   "metadata": {},
   "outputs": [],
   "source": []
  }
 ],
 "metadata": {
  "kernelspec": {
   "display_name": "Python 3",
   "language": "python",
   "name": "python3"
  },
  "language_info": {
   "codemirror_mode": {
    "name": "ipython",
    "version": 3
   },
   "file_extension": ".py",
   "mimetype": "text/x-python",
   "name": "python",
   "nbconvert_exporter": "python",
   "pygments_lexer": "ipython3",
   "version": "3.8.8"
  }
 },
 "nbformat": 4,
 "nbformat_minor": 2
}
