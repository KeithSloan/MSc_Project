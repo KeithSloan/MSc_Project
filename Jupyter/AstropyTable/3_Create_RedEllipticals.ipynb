{
 "cells": [
  {
   "cell_type": "code",
   "execution_count": 2,
   "metadata": {},
   "outputs": [
    {
     "name": "stdout",
     "output_type": "stream",
     "text": [
      "Number of Ellipticals : 3053\n",
      "Number of Red Ellipicals : 2649\n",
      "['CATAID', 'Z', 'nQ', 'SURVEY_CODE', 'SURVEY_CLASS', 'Z_TONRY', 'fluxscale', 'zmax_19p8', 'zmax_19p4', 'zmax_19p0', 'zmax_17p8', 'nbands', 'S2N', 'PPP', 'logmstar', 'dellogmstar', 'logmoverl_i', 'dellogmoverl_i', 'logage', 'dellogage', 'logtau', 'dellogtau', 'logmintsfh', 'dellogmintsfh', 'logmremnants', 'dellogmremnants', 'metal', 'delmetal', 'extBV', 'delextBV', 'logLWage', 'dellogLWage', 'gminusi', 'delgminusi', 'uminusr', 'deluminusr', 'gminusi_stars', 'uminusr_stars', 'C_logM_ur', 'C_logM_gi', 'C_logM_eBV', 'fitphot_u', 'delfitphot_u', 'absmag_u', 'delabsmag_u', 'absmag_u_stars', 'fitphot_g', 'delfitphot_g', 'absmag_g', 'delabsmag_g', 'absmag_g_stars', 'fitphot_r', 'delfitphot_r', 'absmag_r', 'delabsmag_r', 'absmag_r_stars', 'fitphot_i', 'delfitphot_i', 'absmag_i', 'delabsmag_i', 'absmag_i_stars', 'fitphot_z', 'delfitphot_z', 'absmag_z', 'delabsmag_z', 'absmag_z_stars', 'fitphot_X', 'delfitphot_X', 'absmag_X', 'delabsmag_X', 'absmag_X_stars', 'fitphot_Y', 'delfitphot_Y', 'absmag_Y', 'delabsmag_Y', 'absmag_Y_stars', 'fitphot_J', 'delfitphot_J', 'absmag_J', 'delabsmag_J', 'absmag_J_stars', 'fitphot_H', 'delfitphot_H', 'absmag_H', 'delabsmag_H', 'absmag_H_stars', 'fitphot_K', 'delfitphot_K', 'absmag_K', 'delabsmag_K', 'absmag_K_stars', 'URL_PNG']\n"
     ]
    }
   ],
   "source": [
    "import numpy as np\n",
    "import matplotlib.pyplot as plt\n",
    "\n",
    "from astropy.table import Table, join\n",
    "ellipticalMasses = Table.read('../../GAMA_Data/EllipticalMasses.fits')\n",
    "rows = len(ellipticalMasses)\n",
    "print('Number of Ellipticals : '+str(rows))\n",
    "\n",
    "redEllipticalsL = ellipticalMasses[ellipticalMasses['uminusr'] > 1.8]\n",
    "redEllipticals  = redEllipticalsL[redEllipticalsL['uminusr'] < 2.8]\n",
    "redEllipticals.write('../../GAMA_Data/redElliptical.fits', format='fits',overwrite=True)\n",
    "rows = len(redEllipticals)\n",
    "print('Number of Red Ellipicals : '+str(rows))\n",
    "print(redEllipticals.colnames)\n",
    "\n",
    "\n",
    "\n"
   ]
  },
  {
   "cell_type": "code",
   "execution_count": null,
   "metadata": {},
   "outputs": [],
   "source": []
  },
  {
   "cell_type": "code",
   "execution_count": null,
   "metadata": {},
   "outputs": [],
   "source": []
  },
  {
   "cell_type": "code",
   "execution_count": null,
   "metadata": {},
   "outputs": [],
   "source": []
  },
  {
   "cell_type": "code",
   "execution_count": null,
   "metadata": {},
   "outputs": [],
   "source": []
  },
  {
   "cell_type": "code",
   "execution_count": null,
   "metadata": {},
   "outputs": [],
   "source": []
  }
 ],
 "metadata": {
  "kernelspec": {
   "display_name": "Python 3",
   "language": "python",
   "name": "python3"
  },
  "language_info": {
   "codemirror_mode": {
    "name": "ipython",
    "version": 3
   },
   "file_extension": ".py",
   "mimetype": "text/x-python",
   "name": "python",
   "nbconvert_exporter": "python",
   "pygments_lexer": "ipython3",
   "version": "3.8.8"
  }
 },
 "nbformat": 4,
 "nbformat_minor": 2
}
