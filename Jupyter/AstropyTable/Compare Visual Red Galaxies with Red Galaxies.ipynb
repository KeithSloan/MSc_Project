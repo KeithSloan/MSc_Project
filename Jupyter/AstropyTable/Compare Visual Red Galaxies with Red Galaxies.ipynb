{
 "cells": [
  {
   "cell_type": "code",
   "execution_count": 6,
   "metadata": {},
   "outputs": [
    {
     "name": "stdout",
     "output_type": "stream",
     "text": [
      "Red Stella Count : 101816\n",
      "Elliptical Count : 2649\n"
     ]
    }
   ],
   "source": [
    "from astropy.table import Table, join\n",
    "stellarMasses = Table.read('../../GAMA_Data/StellarMassesv19.fits')\n",
    "ellipticalMasses = Table.read('../../GAMA_Data/EllipticalMasses.fits')\n",
    "redEllipticalsL = ellipticalMasses[ellipticalMasses['uminusr'] > 1.8]\n",
    "redEllipticals  = redEllipticalsL[redEllipticalsL['uminusr'] < 2.8]\n",
    "\n",
    "redStellarMassesL = stellarMasses[stellarMasses['uminusr'] > 1.8]\n",
    "redStellarMasses  = redStellarMassesL[redStellarMassesL['uminusr'] < 2.8]\n",
    "\n",
    "print('Red Stella Count : '+str(len(redStellarMasses)))\n",
    "print('Elliptical Count : '+str(len(redEllipticals)))\n",
    "\n"
   ]
  },
  {
   "cell_type": "code",
   "execution_count": null,
   "metadata": {},
   "outputs": [],
   "source": []
  }
 ],
 "metadata": {
  "kernelspec": {
   "display_name": "Python 3",
   "language": "python",
   "name": "python3"
  },
  "language_info": {
   "codemirror_mode": {
    "name": "ipython",
    "version": 3
   },
   "file_extension": ".py",
   "mimetype": "text/x-python",
   "name": "python",
   "nbconvert_exporter": "python",
   "pygments_lexer": "ipython3",
   "version": "3.7.3"
  }
 },
 "nbformat": 4,
 "nbformat_minor": 2
}
