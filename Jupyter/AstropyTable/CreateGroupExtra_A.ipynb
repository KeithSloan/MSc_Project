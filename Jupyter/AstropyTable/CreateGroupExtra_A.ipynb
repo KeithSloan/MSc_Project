{
 "cells": [
  {
   "cell_type": "code",
   "execution_count": 15,
   "id": "cbb8acca",
   "metadata": {},
   "outputs": [
    {
     "name": "stdout",
     "output_type": "stream",
     "text": [
      "ForGroup : 26194\n",
      "GroupGal : 204110\n",
      "StellarMasses : 197304\n",
      "EnvMeasures : 67996\n",
      "visualMorph : 38795\n",
      "Join GroupGal & StellarMasses 183124\n",
      "['GroupID', 'uminusr', 'logmstar', 'metal']\n",
      "Joining Environment Measures 56194\n",
      "['CATAID', 'RA_1', 'Dec', 'Z', 'Rpetro', 'DM_100_25_75', 'SURVEY_CODE', 'SigErr', 'GroupID', 'RankIterCen', 'SepIterCen', 'CoSepIterCen', 'AngSepIterCen', 'RankBCG', 'SepBCG', 'CoSepBCG', 'AngSepBCG', 'RankCen', 'SepCen', 'CoSepCen', 'AngSepCen', 'uminusr', 'logmstar', 'metal', 'RA_2', 'DEC', 'Z_TONRY', 'nQ', 'M_r', 'DistanceToEdge', 'Completeness', 'DistanceTo5nn', 'SurfaceDensity', 'SurfaceDensityErr', 'SurfaceDensityFlag', 'CountInCyl', 'CountInCylErr', 'CountInCylFlag', 'AGEDenPar', 'AGEErr', 'AGEScale', 'AGEDenParFlag']\n",
      "Joining Visual Morph 2297\n"
     ]
    }
   ],
   "source": [
    "from astropy.table import Table, join\n",
    "import numpy as np\n",
    "import matplotlib.pyplot as plt\n",
    "from scipy import stats\n",
    "import seaborn as sns\n",
    "import pandas as pd\n",
    "\n",
    "\n",
    "ForGroup = Table.read('../../GAMA_DATA/G3CFoFGroupv10.fits')\n",
    "print(f\"ForGroup : {len(ForGroup)}\")\n",
    "## Clean Data\n",
    "\n",
    "GroupGal = Table.read('../../GAMA_DATA/G3CGalv10.fits')\n",
    "print(f\"GroupGal : {len(GroupGal)}\")\n",
    "\n",
    "StellarMasses = Table.read('../../GAMA_DATA/StellarMassesv19.fits')\n",
    "# Clean Data\n",
    "StellarMasses = StellarMasses[StellarMasses['uminusr'] > 0.001]\n",
    "StellarMasses = StellarMasses[StellarMasses['logmstar'] > 0.001]\n",
    "StellarMasses = StellarMasses[StellarMasses['metal'] > 0.001]\n",
    "print(f\"StellarMasses : {len(StellarMasses)}\")\n",
    "\n",
    "\n",
    "envMeasures = Table.read('../../GAMA_DATA/EnvironmentMeasuresv05.fits')\n",
    "print(f\"EnvMeasures : {len(envMeasures)}\")\n",
    "# Clean Data\n",
    "envMeasures = envMeasures[envMeasures['SurfaceDensity'] < 50]\n",
    "envMeasures = envMeasures[envMeasures['AGEDenParFlag'] == 0]\n",
    "envMeasures = envMeasures[envMeasures['CountInCylFlag'] == 0]\n",
    "\n",
    "\n",
    "visualMorph = Table.read('../../GAMA_Data/VisualMorphologyv03.fits')\n",
    "print(f\"visualMorph : {len(visualMorph)}\")\n",
    "## Clean Data\n",
    "visualMorph = visualMorph[visualMorph['ELLIPTICAL_CODE'] == 1]\n",
    "\n",
    "\n",
    "DataLocalGroup = join(GroupGal,StellarMasses,keys='CATAID',join_type='inner')\n",
    "print(f\"Join GroupGal & StellarMasses {len(DataLocalGroup)}\")\n",
    "#print(DataLocalGroup.colnames)\n",
    "\n",
    "\n",
    "# Sum uminsur, logmstar and metal over Local Group\n",
    "DLG_Groups = DataLocalGroup.group_by('GroupID')\n",
    "GroupData = DLG_Groups['GroupID','uminusr','logmstar','metal'].groups.aggregate(np.sum)\n",
    "print(GroupData.colnames)\n",
    "\n",
    "FinalData = join(GroupGal,GroupData,keys='GroupID',join_type='inner')\n",
    "#print(FinalData.colnames)\n",
    "\n",
    "FinalData = join(FinalData,envMeasures,keys='CATAID',join_type='inner')\n",
    "print('Joining Environment Measures '+str(len(FinalData)))\n",
    "print(FinalData.colnames)\n",
    "\n",
    "FinalData = join(FinalData,visualMorph,keys='CATAID',join_type='inner')\n",
    "print('Joining Visual Morph '+str(len(FinalData)))\n",
    "\n",
    "\n",
    "\n",
    "alphaVal = .3\n",
    "binCount = 100\n",
    "\n",
    "       "
   ]
  },
  {
   "cell_type": "code",
   "execution_count": null,
   "id": "a5e21d30",
   "metadata": {},
   "outputs": [],
   "source": []
  },
  {
   "cell_type": "code",
   "execution_count": null,
   "id": "cbe247d5",
   "metadata": {},
   "outputs": [],
   "source": []
  }
 ],
 "metadata": {
  "kernelspec": {
   "display_name": "Python 3 (ipykernel)",
   "language": "python",
   "name": "python3"
  },
  "language_info": {
   "codemirror_mode": {
    "name": "ipython",
    "version": 3
   },
   "file_extension": ".py",
   "mimetype": "text/x-python",
   "name": "python",
   "nbconvert_exporter": "python",
   "pygments_lexer": "ipython3",
   "version": "3.9.5"
  }
 },
 "nbformat": 4,
 "nbformat_minor": 5
}
