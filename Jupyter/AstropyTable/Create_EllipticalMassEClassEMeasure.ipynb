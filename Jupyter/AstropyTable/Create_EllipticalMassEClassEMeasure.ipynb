{
 "cells": [
  {
   "cell_type": "code",
   "execution_count": 5,
   "metadata": {},
   "outputs": [
    {
     "name": "stdout",
     "output_type": "stream",
     "text": [
      "Visual morph table size : 38795\n",
      "Elliptical : 3053\n",
      "Elliptical, StellarMasses, envClass, envMeasures\n",
      "StellaMasses : 198935\n",
      "Elliptical Table size : 3053\n",
      "Joined EMass envClass size : 3046\n",
      "Joined EMass envClass & Measures : 2899\n"
     ]
    }
   ],
   "source": [
    "from astropy.table import Table, join\n",
    "import numpy as np\n",
    "import matplotlib.pyplot as plt\n",
    "\n",
    "visualMorph = Table.read('../../GAMA_Data/VisualMorphologyv03.fits')\n",
    "stellarMasses = Table.read('../../GAMA_Data/StellarMassesv19.fits')\n",
    "envClass = Table.read('../../GAMA_DATA/GalaxiesClassifiedv01.fits')\n",
    "envMeasures = Table.read('../../GAMA_DATA/EnvironmentMeasuresv05.fits')\n",
    "print('Visual morph table size : '+str(len(visualMorph)))\n",
    "# Elliptical code = 1 - Elliptical\n",
    "visualMorph1 = visualMorph[visualMorph['ELLIPTICAL_CODE'] == 1]\n",
    "print('Elliptical : '+str(len(visualMorph1)))\n",
    "#stellarMasses1 = stellarMasses[stellarMasses['uminusr'] > 1.8]\n",
    "#stellarMasses2 = stellarMasses1[stellarMasses1['uminusr'] < 2.8]\n",
    "#print('Stella Mass Table size : '+str(len(stellarMasses)))\n",
    "#REMassEClassEmeasure1 = join(visualMorph1,stellarMasses2,keys='CATAID',join_type='inner')\n",
    "EMassEClassEmeasure1 = join(visualMorph1,stellarMasses,keys='CATAID',join_type='inner')\n",
    "#REMassEClassEmeasure1 = stellarMasses2\n",
    "EMassEClassEmeasure2 = join(EMassEClassEmeasure1,envMeasures,keys='CATAID',join_type='inner')\n",
    "EMassEClassEmeasure  = join(EMassEClassEmeasure2,envClass,keys='CATAID',join_type='inner')\n",
    "#print(REMassEClassEmeasure.colnames)\n",
    "EMassEClassEmeasure.write('../../GAMA_Data/EMassEClassEmeasure.fits', format='fits',overwrite=True)\n",
    "print('Elliptical, StellarMasses, envClass, envMeasures')\n",
    "print('StellaMasses : '+str(len(stellarMasses)))\n",
    "print('Elliptical Table size : '+str(len(EMassEClassEmeasure1)))\n",
    "print('Joined EMass envClass size : '+str(len(EMassEClassEmeasure2)))\n",
    "print('Joined EMass envClass & Measures : '+str(len(EMassEClassEmeasure)))\n"
   ]
  },
  {
   "cell_type": "code",
   "execution_count": null,
   "metadata": {},
   "outputs": [],
   "source": []
  },
  {
   "cell_type": "code",
   "execution_count": null,
   "metadata": {},
   "outputs": [],
   "source": []
  },
  {
   "cell_type": "code",
   "execution_count": null,
   "metadata": {},
   "outputs": [],
   "source": []
  },
  {
   "cell_type": "code",
   "execution_count": null,
   "metadata": {},
   "outputs": [],
   "source": []
  },
  {
   "cell_type": "code",
   "execution_count": null,
   "metadata": {},
   "outputs": [],
   "source": []
  }
 ],
 "metadata": {
  "kernelspec": {
   "display_name": "Python 3 (ipykernel)",
   "language": "python",
   "name": "python3"
  },
  "language_info": {
   "codemirror_mode": {
    "name": "ipython",
    "version": 3
   },
   "file_extension": ".py",
   "mimetype": "text/x-python",
   "name": "python",
   "nbconvert_exporter": "python",
   "pygments_lexer": "ipython3",
   "version": "3.9.5"
  }
 },
 "nbformat": 4,
 "nbformat_minor": 2
}
