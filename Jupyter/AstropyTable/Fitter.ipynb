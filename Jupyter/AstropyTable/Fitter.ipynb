{
 "cells": [
  {
   "cell_type": "code",
   "execution_count": 6,
   "id": "43af5a37",
   "metadata": {
    "scrolled": true
   },
   "outputs": [
    {
     "name": "stdout",
     "output_type": "stream",
     "text": [
      "[38 29 44 42 40 48 54 54 49 56 60 65 69 82 74 78 75 74 73 77 80 66 83 73\n",
      " 71 99 78 93 74 90 86 57 61 40 56 50 30 23 23 10 10 12  6  4  4  2  1  0\n",
      "  1  3]\n"
     ]
    },
    {
     "name": "stderr",
     "output_type": "stream",
     "text": [
      "WARNING:root:SKIPPED gamma distribution (taking more than 30 seconds)\n",
      "WARNING:root:SKIPPED rayleigh distribution (taking more than 30 seconds)\n",
      "WARNING:root:SKIPPED uniform distribution (taking more than 30 seconds)\n",
      "/Library/Frameworks/Python.framework/Versions/3.9/lib/python3.9/site-packages/scipy/stats/_continuous_distns.py:4530: IntegrationWarning: The integral is probably divergent, or slowly convergent.\n",
      "  intg = integrate.quad(f, -xi, np.pi/2, **intg_kwargs)[0]\n"
     ]
    }
   ],
   "source": [
    "from astropy.table import Table, join\n",
    "import numpy as np\n",
    "import matplotlib.pyplot as plt\n",
    "from matplotlib.pyplot import plot\n",
    "\n",
    "RawMassEClassEmeasure = Table.read('../../GAMA_Data/REMassEClassEmeasure.fits')\n",
    "#print(RawMassEClassEmeasure.colnames)\n",
    "# CLEAN DATA\n",
    "#REMassEClassEmeasure = RawMassEClassEmeasure[RawMassEClassEmeasure['CountInCyl']> -500]\n",
    "RErange = RawMassEClassEmeasure[RawMassEClassEmeasure['CountInCyl']> -500]\n",
    "RErange1 = RErange[RErange['SurfaceDensity']< 50]\n",
    "\n",
    "binCount = 50\n",
    "alphaVal = .3\n",
    "\n",
    "xfield = 'uminusr'\n",
    "counts, bins = np.histogram(RErange1[xfield].data,bins=binCount)\n",
    "print(counts)\n",
    "from fitter import Fitter\n",
    "f = Fitter(counts, distributions=['gamma', 'rayleigh', 'uniform'])\n",
    "#f = Fitter(counts)\n",
    "f.fit()\n",
    "# may take some time since by default, all distributions are tried # but you call manually provide a smaller set of distributions f.summary()\n",
    "##### uminusr\n",
    "#fig = plt.figure(figsize=(12, 6), dpi=200)\n",
    "#fig.suptitle('Plot - Histogram Red Galaxies for Elliptical Galaxies')\n",
    "\n",
    "\n"
   ]
  },
  {
   "cell_type": "code",
   "execution_count": null,
   "id": "f2a5c6f1",
   "metadata": {},
   "outputs": [],
   "source": []
  },
  {
   "cell_type": "code",
   "execution_count": null,
   "id": "9040ee8b",
   "metadata": {},
   "outputs": [],
   "source": []
  }
 ],
 "metadata": {
  "kernelspec": {
   "display_name": "Python 3 (ipykernel)",
   "language": "python",
   "name": "python3"
  },
  "language_info": {
   "codemirror_mode": {
    "name": "ipython",
    "version": 3
   },
   "file_extension": ".py",
   "mimetype": "text/x-python",
   "name": "python",
   "nbconvert_exporter": "python",
   "pygments_lexer": "ipython3",
   "version": "3.9.5"
  }
 },
 "nbformat": 4,
 "nbformat_minor": 5
}
