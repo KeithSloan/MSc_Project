{
 "cells": [
  {
   "cell_type": "code",
   "execution_count": null,
   "metadata": {},
   "outputs": [],
   "source": [
    "#\n",
    "# From http://skyserver.sdss.org/dr8/en/help/docs/realquery.asp\n",
    "#\n",
    "#SDSS luminous red galaxy selection      Back to Top Load Query Run Query\n",
    "#-- A version of the LRG sample, by James Annis.\n",
    "#-- Not precisely the same version as that used in target selection.\n",
    "#-- Another query with many conditions and flag tests.\n",
    "#-- As with the previous example, this query will run much faster if\n",
    "#-- the flag function calls are replaced with explicit values.\n",
    "#\n",
    "#SELECT TOP 10\n",
    "#    run, \n",
    "#    camCol, \n",
    "#    rerun, \n",
    "#    field, \n",
    "#    objID, \n",
    "#    ra, \n",
    "#    dec \n",
    "#FROM Galaxy\n",
    "#WHERE ( ( flags & (dbo.fPhotoFlags('BINNED1')\n",
    "#    | dbo.fPhotoFlags('BINNED2') \n",
    "#    | dbo.fPhotoFlags('BINNED4')) ) > 0 \n",
    "#    and ( flags & (dbo.fPhotoFlags('BLENDED') \n",
    "#    | dbo.fPhotoFlags('NODEBLEND') \n",
    "#    | dbo.fPhotoFlags('CHILD')) ) != dbo.fPhotoFlags('BLENDED') \n",
    "#    and ( flags & (dbo.fPhotoFlags('EDGE') \n",
    "#    | dbo.fPhotoFlags('SATURATED')) ) = 0 \n",
    "#    and petroMag_i > 17.5 \n",
    "#    and (petroMag_r > 15.5 or petroR50_r > 2) \n",
    "#    and (petroMag_r > 0 and g > 0 and r > 0 and i > 0) \n",
    "#    and ( (petroMag_r-extinction_r) < 19.2 \n",
    "#    and (petroMag_r - extinction_r < \n",
    "#    (13.1 + (7/3) * (dered_g - dered_r) + 4 * (dered_r - dered_i) \n",
    "#    - 4 * 0.18) ) \n",
    "#    and ( (dered_r - dered_i - (dered_g - dered_r)/4 - 0.18) < 0.2) \n",
    "#    and ( (dered_r - dered_i - (dered_g - dered_r)/4 - 0.18) > -0.2) \n",
    "#    -- dered_ quantities already include reddening \n",
    "#    and ( (petroMag_r - extinction_r + \n",
    "#    2.5 * LOG10(2 * 3.1415 * petroR50_r * petroR50_r)) < 24.2) ) \n",
    "#    or ( (petroMag_r - extinction_r < 19.5) \n",
    "#    and ( (dered_r - dered_i - (dered_g - dered_r)/4 - 0.18) > (0.45 - 4 * \n",
    "#    (dered_g - dered_r)) ) \n",
    "#    and ( (dered_g - dered_r) > (1.35 + 0.25 * (dered_r - dered_i)) ) ) \n",
    "#    and ( (petroMag_r - extinction_r + \n",
    "#    2.5 * LOG10(2 * 3.1415 * petroR50_r * petroR50_r) ) < 23.3 ) ) "
   ]
  }
 ],
 "metadata": {
  "kernelspec": {
   "display_name": "Python 3",
   "language": "python",
   "name": "python3"
  },
  "language_info": {
   "codemirror_mode": {
    "name": "ipython",
    "version": 3
   },
   "file_extension": ".py",
   "mimetype": "text/x-python",
   "name": "python",
   "nbconvert_exporter": "python",
   "pygments_lexer": "ipython3",
   "version": "3.7.3"
  }
 },
 "nbformat": 4,
 "nbformat_minor": 2
}
