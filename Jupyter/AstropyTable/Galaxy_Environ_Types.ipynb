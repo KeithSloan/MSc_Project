{
 "cells": [
  {
   "cell_type": "code",
   "execution_count": 8,
   "id": "7abc4b76",
   "metadata": {},
   "outputs": [
    {
     "name": "stdout",
     "output_type": "stream",
     "text": [
      "Red Elliptical Galaxy Voids : 460\n",
      "Red Elliptical Galaxy Sheets : 648\n",
      "Red Elliptical Galaxy Filament : 958\n",
      "Red Elliptical Galaxy Knot : 448\n"
     ]
    }
   ],
   "source": [
    "from astropy.table import Table, join\n",
    "import numpy as np\n",
    "import matplotlib.pyplot as plt\n",
    "\n",
    "REMassEClassEmeasure = Table.read('../../GAMA_Data/REMassEClassEmeasure.fits')\n",
    "#print(REMassEClassEmeasure.colnames)\n",
    "REGalaxyVoids = REMassEClassEmeasure[REMassEClassEmeasure['GeoS4']== 0]\n",
    "print('Red Elliptical Galaxy Voids : '+str(len(GalaxyVoids)))\n",
    "REGalaxySheet = REMassEClassEmeasure[REMassEClassEmeasure['GeoS4']== 1]\n",
    "print('Red Elliptical Galaxy Sheets : '+str(len(GalaxySheet)))\n",
    "REGalaxyFilament = REMassEClassEmeasure[REMassEClassEmeasure['GeoS4']== 2]\n",
    "print('Red Elliptical Galaxy Filament : '+str(len(GalaxyFilament)))\n",
    "REGalaxyKnot = REMassEClassEmeasure[REMassEClassEmeasure['GeoS4']== 3]\n",
    "print('Red Elliptical Galaxy Knot : '+str(len(GalaxyKnot)))"
   ]
  },
  {
   "cell_type": "code",
   "execution_count": null,
   "id": "2521e3ed",
   "metadata": {},
   "outputs": [],
   "source": []
  }
 ],
 "metadata": {
  "kernelspec": {
   "display_name": "Python 3",
   "language": "python",
   "name": "python3"
  },
  "language_info": {
   "codemirror_mode": {
    "name": "ipython",
    "version": 3
   },
   "file_extension": ".py",
   "mimetype": "text/x-python",
   "name": "python",
   "nbconvert_exporter": "python",
   "pygments_lexer": "ipython3",
   "version": "3.8.8"
  }
 },
 "nbformat": 4,
 "nbformat_minor": 5
}
