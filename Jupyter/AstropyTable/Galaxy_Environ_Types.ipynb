{
 "cells": [
  {
   "cell_type": "code",
   "execution_count": 1,
   "id": "7abc4b76",
   "metadata": {},
   "outputs": [
    {
     "name": "stdout",
     "output_type": "stream",
     "text": [
      "Red Elliptical Galaxy Voids : 460\n",
      "Red Elliptical Galaxy Sheets : 648\n",
      "Red Elliptical Galaxy Filament : 958\n",
      "Red Elliptical Galaxy Knot : 448\n",
      "['CATAID', 'ELLIPTICAL', 'ELLIPTICAL_CODE', 'HUBBLE_TYPE_SPD', 'HUBBLE_TYPE_SPD_CODE', 'HUBBLE_TYPE_LSK', 'HUBBLE_TYPE_LSK_CODE', 'HUBBLE_TYPE_ASGR', 'HUBBLE_TYPE_ASGR_CODE', 'HUBBLE_TYPE', 'HUBBLE_TYPE_CODE', 'ASGR_DISTURBED', 'ASGR_NORMAL', 'ASGR_UNSURE', 'ASGR_CLASSIFIERS', 'ASGR_PROBDIST', 'P_EL', 'P_CS', 'P_EL_DEBIASED', 'P_CS_DEBIASED', 'URL_IMG', 'Z_1', 'nQ_1', 'SURVEY_CODE', 'SURVEY_CLASS', 'Z_TONRY_1', 'fluxscale', 'zmax_19p8', 'zmax_19p4', 'zmax_19p0', 'zmax_17p8', 'nbands', 'S2N', 'PPP', 'logmstar', 'dellogmstar', 'logmoverl_i', 'dellogmoverl_i', 'logage', 'dellogage', 'logtau', 'dellogtau', 'logmintsfh', 'dellogmintsfh', 'logmremnants', 'dellogmremnants', 'metal', 'delmetal', 'extBV', 'delextBV', 'logLWage', 'dellogLWage', 'gminusi', 'delgminusi', 'uminusr', 'deluminusr', 'gminusi_stars', 'uminusr_stars', 'C_logM_ur', 'C_logM_gi', 'C_logM_eBV', 'fitphot_u', 'delfitphot_u', 'absmag_u', 'delabsmag_u', 'absmag_u_stars', 'fitphot_g', 'delfitphot_g', 'absmag_g', 'delabsmag_g', 'absmag_g_stars', 'fitphot_r', 'delfitphot_r', 'absmag_r', 'delabsmag_r', 'absmag_r_stars', 'fitphot_i', 'delfitphot_i', 'absmag_i', 'delabsmag_i', 'absmag_i_stars', 'fitphot_z', 'delfitphot_z', 'absmag_z', 'delabsmag_z', 'absmag_z_stars', 'fitphot_X', 'delfitphot_X', 'absmag_X', 'delabsmag_X', 'absmag_X_stars', 'fitphot_Y', 'delfitphot_Y', 'absmag_Y', 'delabsmag_Y', 'absmag_Y_stars', 'fitphot_J', 'delfitphot_J', 'absmag_J', 'delabsmag_J', 'absmag_J_stars', 'fitphot_H', 'delfitphot_H', 'absmag_H', 'delabsmag_H', 'absmag_H_stars', 'fitphot_K', 'delfitphot_K', 'absmag_K', 'delabsmag_K', 'absmag_K_stars', 'URL_PNG', 'RA_1', 'DEC_1', 'Z_TONRY_2', 'nQ_2', 'M_r', 'DistanceToEdge', 'Completeness', 'DistanceTo5nn', 'SurfaceDensity', 'SurfaceDensityErr', 'SurfaceDensityFlag', 'CountInCyl', 'CountInCylErr', 'CountInCylFlag', 'AGEDenPar', 'AGEErr', 'AGEScale', 'AGEDenParFlag', 'RA_2', 'DEC_2', 'Z_2', 'NQ', 'GeoS4', 'GeoS10']\n"
     ]
    }
   ],
   "source": [
    "from astropy.table import Table, join\n",
    "import numpy as np\n",
    "import matplotlib.pyplot as plt\n",
    "\n",
    "REMassEClassEmeasure = Table.read('../../GAMA_Data/REMassEClassEmeasure.fits')\n",
    "REGalaxyVoids = REMassEClassEmeasure[REMassEClassEmeasure['GeoS4']== 0]\n",
    "print('Red Elliptical Galaxy Voids : '+str(len(REGalaxyVoids)))\n",
    "REGalaxySheet = REMassEClassEmeasure[REMassEClassEmeasure['GeoS4']== 1]\n",
    "print('Red Elliptical Galaxy Sheets : '+str(len(REGalaxySheet)))\n",
    "REGalaxyFilament = REMassEClassEmeasure[REMassEClassEmeasure['GeoS4']== 2]\n",
    "print('Red Elliptical Galaxy Filament : '+str(len(REGalaxyFilament)))\n",
    "REGalaxyKnot = REMassEClassEmeasure[REMassEClassEmeasure['GeoS4']== 3]\n",
    "print('Red Elliptical Galaxy Knot : '+str(len(REGalaxyKnot)))\n",
    "print(REMassEClassEmeasure.colnames)"
   ]
  },
  {
   "cell_type": "code",
   "execution_count": null,
   "id": "2521e3ed",
   "metadata": {},
   "outputs": [],
   "source": []
  }
 ],
 "metadata": {
  "kernelspec": {
   "display_name": "Python 3",
   "language": "python",
   "name": "python3"
  },
  "language_info": {
   "codemirror_mode": {
    "name": "ipython",
    "version": 3
   },
   "file_extension": ".py",
   "mimetype": "text/x-python",
   "name": "python",
   "nbconvert_exporter": "python",
   "pygments_lexer": "ipython3",
   "version": "3.8.8"
  }
 },
 "nbformat": 4,
 "nbformat_minor": 5
}
