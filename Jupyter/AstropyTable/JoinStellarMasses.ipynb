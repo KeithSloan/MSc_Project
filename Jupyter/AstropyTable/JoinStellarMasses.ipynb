{
 "cells": [
  {
   "cell_type": "code",
   "execution_count": 49,
   "metadata": {},
   "outputs": [
    {
     "name": "stderr",
     "output_type": "stream",
     "text": [
      "WARNING: MergeConflictWarning: Cannot merge meta key 'EXTNAME' types <class 'str'> and <class 'str'>, choosing EXTNAME='StellarMasses' [astropy.utils.metadata]\n",
      "WARNING: MergeConflictWarning: Cannot merge meta key 'TUCD1' types <class 'str'> and <class 'str'>, choosing TUCD1='meta.id;meta.main' [astropy.utils.metadata]\n",
      "WARNING: MergeConflictWarning: Cannot merge meta key 'TCOMM2' types <class 'str'> and <class 'str'>, choosing TCOMM2='Heliocentric redshift' [astropy.utils.metadata]\n",
      "WARNING: MergeConflictWarning: Cannot merge meta key 'TUCD2' types <class 'str'> and <class 'str'>, choosing TUCD2='src.redshift' [astropy.utils.metadata]\n",
      "WARNING: MergeConflictWarning: Cannot merge meta key 'TCOMM3' types <class 'str'> and <class 'str'>, choosing TCOMM3='Normalised redshift quality (use nQ > 2 for science)' [astropy.utils.metadata]\n",
      "WARNING: MergeConflictWarning: Cannot merge meta key 'TUCD3' types <class 'str'> and <class 'str'>, choosing TUCD3='meta.code.qual;src.redshift' [astropy.utils.metadata]\n",
      "WARNING: MergeConflictWarning: Cannot merge meta key 'TCOMM4' types <class 'str'> and <class 'str'>, choosing TCOMM4='Redshift source flag (GAMA=5; SDSS=1)' [astropy.utils.metadata]\n",
      "WARNING: MergeConflictWarning: Cannot merge meta key 'TUCD4' types <class 'str'> and <class 'str'>, choosing TUCD4='meta.code;meta.dataset' [astropy.utils.metadata]\n",
      "WARNING: MergeConflictWarning: Cannot merge meta key 'TCOMM5' types <class 'str'> and <class 'str'>, choosing TCOMM5='Target selection flag (>=3 for main survey targets)' [astropy.utils.metadata]\n",
      "WARNING: MergeConflictWarning: Cannot merge meta key 'TUCD5' types <class 'str'> and <class 'str'>, choosing TUCD5='meta.code;meta.dataset' [astropy.utils.metadata]\n",
      "WARNING: MergeConflictWarning: Cannot merge meta key 'TCOMM6' types <class 'str'> and <class 'str'>, choosing TCOMM6='Flow corrected redshift using Tonry et al. model' [astropy.utils.metadata]\n",
      "WARNING: MergeConflictWarning: Cannot merge meta key 'TUCD6' types <class 'str'> and <class 'str'>, choosing TUCD6='src.redshift' [astropy.utils.metadata]\n",
      "WARNING: MergeConflictWarning: Cannot merge meta key 'TCOMM7' types <class 'str'> and <class 'str'>, choosing TCOMM7='Aperture correction factor for scaling total luminosities and ste..' [astropy.utils.metadata]\n",
      "WARNING: MergeConflictWarning: Cannot merge meta key 'TUCD7' types <class 'str'> and <class 'str'>, choosing TUCD7='arith.factor' [astropy.utils.metadata]\n",
      "WARNING: MergeConflictWarning: Cannot merge meta key 'TCOMM8' types <class 'str'> and <class 'str'>, choosing TCOMM8='Maximum redshift for which r_petro <= 19.8 (GAMA II SURVEY_CLASS ..' [astropy.utils.metadata]\n",
      "WARNING: MergeConflictWarning: Cannot merge meta key 'TUCD8' types <class 'str'> and <class 'str'>, choosing TUCD8='src.redshift;stat.max' [astropy.utils.metadata]\n",
      "WARNING: MergeConflictWarning: Cannot merge meta key 'TCOMM9' types <class 'str'> and <class 'str'>, choosing TCOMM9='Maximum redshift for which r_petro <= 19.4 (GAMA I G09/G15 SURVEY..' [astropy.utils.metadata]\n",
      "WARNING: MergeConflictWarning: Cannot merge meta key 'TUCD9' types <class 'str'> and <class 'str'>, choosing TUCD9='src.redshift;stat.max' [astropy.utils.metadata]\n",
      "WARNING: MergeConflictWarning: Cannot merge meta key 'TCOMM10' types <class 'str'> and <class 'str'>, choosing TCOMM10='Maximum redshift for which r_petro <= 19.0 (DR2 G09/G12 selection)' [astropy.utils.metadata]\n",
      "WARNING: MergeConflictWarning: Cannot merge meta key 'TUCD10' types <class 'str'> and <class 'str'>, choosing TUCD10='src.redshift;stat.max' [astropy.utils.metadata]\n",
      "WARNING: MergeConflictWarning: Cannot merge meta key 'TCOMM11' types <class 'str'> and <class 'str'>, choosing TCOMM11='Maximum redshift for which r_petro <= 17.8 (SDSS main survey sele..' [astropy.utils.metadata]\n",
      "WARNING: MergeConflictWarning: Cannot merge meta key 'TUCD11' types <class 'str'> and <class 'str'>, choosing TUCD11='src.redshift;stat.max' [astropy.utils.metadata]\n",
      "WARNING: MergeConflictWarning: Cannot merge meta key 'TCOMM12' types <class 'str'> and <class 'str'>, choosing TCOMM12='Effective no. of bands used in the fit (treat < 3.5 with caution)' [astropy.utils.metadata]\n",
      "WARNING: MergeConflictWarning: Cannot merge meta key 'TUCD12' types <class 'str'> and <class 'str'>, choosing TUCD12='meta.number' [astropy.utils.metadata]\n",
      "WARNING: MergeConflictWarning: Cannot merge meta key 'TCOMM13' types <class 'str'> and <class 'str'>, choosing TCOMM13='Net effective signal-to-noise in the fit-to SED' [astropy.utils.metadata]\n",
      "WARNING: MergeConflictWarning: Cannot merge meta key 'TUCD13' types <class 'str'> and <class 'str'>, choosing TUCD13='meta.number' [astropy.utils.metadata]\n",
      "WARNING: MergeConflictWarning: Cannot merge meta key 'TCOMM14' types <class 'str'> and <class 'str'>, choosing TCOMM14='Posterior Predictive P-Value Goodness of Fit metric (treat PPP < ..' [astropy.utils.metadata]\n",
      "WARNING: MergeConflictWarning: Cannot merge meta key 'TUCD14' types <class 'str'> and <class 'str'>, choosing TUCD14='meta.number' [astropy.utils.metadata]\n",
      "WARNING: MergeConflictWarning: Cannot merge meta key 'TCOMM15' types <class 'str'> and <class 'str'>, choosing TCOMM15='Stellar mass within the photometric aperture, see notes' [astropy.utils.metadata]\n",
      "WARNING: MergeConflictWarning: Cannot merge meta key 'TUCD15' types <class 'str'> and <class 'str'>, choosing TUCD15='phys.mass' [astropy.utils.metadata]\n",
      "WARNING: MergeConflictWarning: Cannot merge meta key 'TCOMM16' types <class 'str'> and <class 'str'>, choosing TCOMM16='Formal uncertainty on logmstar' [astropy.utils.metadata]\n",
      "WARNING: MergeConflictWarning: Cannot merge meta key 'TUCD16' types <class 'str'> and <class 'str'>, choosing TUCD16='stat.error' [astropy.utils.metadata]\n",
      "WARNING: MergeConflictWarning: Cannot merge meta key 'TCOMM17' types <class 'str'> and <class 'str'>, choosing TCOMM17='Mass-to-light ratio (restframe i-band)' [astropy.utils.metadata]\n",
      "WARNING: MergeConflictWarning: Cannot merge meta key 'TUCD17' types <class 'str'> and <class 'str'>, choosing TUCD17='phys.composition.massLightRatio' [astropy.utils.metadata]\n",
      "WARNING: MergeConflictWarning: Cannot merge meta key 'TCOMM18' types <class 'str'> and <class 'str'>, choosing TCOMM18='Formal uncertainty on logmoverl_i' [astropy.utils.metadata]\n",
      "WARNING: MergeConflictWarning: Cannot merge meta key 'TUCD18' types <class 'str'> and <class 'str'>, choosing TUCD18='stat.error' [astropy.utils.metadata]\n",
      "WARNING: MergeConflictWarning: Cannot merge meta key 'TCOMM19' types <class 'str'> and <class 'str'>, choosing TCOMM19='SPS age T = t(z_obs) - t(z_form)' [astropy.utils.metadata]\n",
      "WARNING: MergeConflictWarning: Cannot merge meta key 'TUCD19' types <class 'str'> and <class 'str'>, choosing TUCD19='time.age' [astropy.utils.metadata]\n",
      "WARNING: MergeConflictWarning: Cannot merge meta key 'TCOMM20' types <class 'str'> and <class 'str'>, choosing TCOMM20='Formal uncertainty on logage' [astropy.utils.metadata]\n",
      "WARNING: MergeConflictWarning: Cannot merge meta key 'TUCD20' types <class 'str'> and <class 'str'>, choosing TUCD20='stat.error' [astropy.utils.metadata]\n",
      "WARNING: MergeConflictWarning: Cannot merge meta key 'TCOMM21' types <class 'str'> and <class 'str'>, choosing TCOMM21='SPS e-folding time for the exponentially declining SFH' [astropy.utils.metadata]\n",
      "WARNING: MergeConflictWarning: Cannot merge meta key 'TUCD21' types <class 'str'> and <class 'str'>, choosing TUCD21='time.scale' [astropy.utils.metadata]\n",
      "WARNING: MergeConflictWarning: Cannot merge meta key 'DATE-HDU' types <class 'str'> and <class 'str'>, choosing DATE-HDU='2017-11-21T09:52:58' [astropy.utils.metadata]\n",
      "WARNING: MergeConflictWarning: Cannot merge meta key 'DMU' types <class 'str'> and <class 'str'>, choosing DMU='StellarMasses' [astropy.utils.metadata]\n",
      "WARNING: MergeConflictWarning: Cannot merge meta key 'NAME' types <class 'str'> and <class 'str'>, choosing NAME='StellarMasses' [astropy.utils.metadata]\n",
      "WARNING: MergeConflictWarning: Cannot merge meta key 'VERSION' types <class 'str'> and <class 'str'>, choosing VERSION='v19' [astropy.utils.metadata]\n",
      "WARNING: MergeConflictWarning: Cannot merge meta key 'DATE' types <class 'str'> and <class 'str'>, choosing DATE='2016-09-27' [astropy.utils.metadata]\n",
      "WARNING: MergeConflictWarning: Cannot merge meta key 'CONTACT' types <class 'str'> and <class 'str'>, choosing CONTACT='Edward Taylor <entaylor@swin.edu.au>' [astropy.utils.metadata]\n",
      "WARNING: UnitsWarning: 'dex(Msun)' did not parse as fits unit: At col 4, Unit 'Msun' not supported by the FITS standard. Did you mean Sun? [astropy.units.core]\n",
      "WARNING: UnitsWarning: 'dex(Msun/Lsun,i)' did not parse as fits unit: At col 4, Unit 'Msun' not supported by the FITS standard. Did you mean Sun? [astropy.units.core]\n",
      "WARNING: UnitsWarning: 'dex(yr)' did not parse as fits unit: Unit 'dex' not supported by the FITS standard.  [astropy.units.core]\n"
     ]
    },
    {
     "name": "stdout",
     "output_type": "stream",
     "text": [
      "Actioned\n"
     ]
    }
   ],
   "source": [
    "from astropy.table import Table, join\n",
    "ellipses = Table.read('GAMA_Data/Elliptical_CATAID.fits')\n",
    "stellarMasses = Table.read('GAMA_Data/StellarMasses.fits')\n",
    "ellipticalMasses = join(ellipses,stellarMasses,keys='CATAID',join_type='inner')\n",
    "ellipticalMasses.write('GAMA_Data/EllipticalMasses.fits', format='fits',overwrite=True)\n",
    "print('Actioned')\n",
    "\n",
    "\n",
    "\n"
   ]
  },
  {
   "cell_type": "code",
   "execution_count": null,
   "metadata": {},
   "outputs": [],
   "source": []
  },
  {
   "cell_type": "code",
   "execution_count": null,
   "metadata": {},
   "outputs": [],
   "source": []
  },
  {
   "cell_type": "code",
   "execution_count": null,
   "metadata": {},
   "outputs": [],
   "source": []
  },
  {
   "cell_type": "code",
   "execution_count": null,
   "metadata": {},
   "outputs": [],
   "source": []
  },
  {
   "cell_type": "code",
   "execution_count": null,
   "metadata": {},
   "outputs": [],
   "source": []
  }
 ],
 "metadata": {
  "kernelspec": {
   "display_name": "Python 3",
   "language": "python",
   "name": "python3"
  },
  "language_info": {
   "codemirror_mode": {
    "name": "ipython",
    "version": 3
   },
   "file_extension": ".py",
   "mimetype": "text/x-python",
   "name": "python",
   "nbconvert_exporter": "python",
   "pygments_lexer": "ipython3",
   "version": "3.7.3"
  }
 },
 "nbformat": 4,
 "nbformat_minor": 2
}
