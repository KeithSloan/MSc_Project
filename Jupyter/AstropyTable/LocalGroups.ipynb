{
 "cells": [
  {
   "cell_type": "code",
   "execution_count": 15,
   "metadata": {},
   "outputs": [
    {
     "name": "stdout",
     "output_type": "stream",
     "text": [
      "Joing ForGroup 83093\n",
      "['CATAID', 'RA', 'Dec', 'Z', 'Rpetro', 'DM_100_25_75', 'SURVEY_CODE', 'SigErr', 'GroupID', 'RankIterCen', 'SepIterCen', 'CoSepIterCen', 'AngSepIterCen', 'RankBCG', 'SepBCG', 'CoSepBCG', 'AngSepBCG', 'RankCen', 'SepCen', 'CoSepCen', 'AngSepCen', 'Nfof', 'IterCenCATAID', 'IterCenRA', 'IterCenDec', 'IterCenZ', 'Zfof', 'Rad50', 'Rad1Sig', 'Rad100', 'RelDen', 'Zcomp', 'GroupEdge', 'VelDisp', 'VelDispRaw', 'VelErr', 'TotRmag', 'TotFluxProxy', 'MassProxy', 'BCGCATAID', 'BCGRA', 'BCGDec', 'Rgap', 'CenRA', 'CenDec', 'RadKurt', 'AxAng', 'AxRat', 'SymKS', 'VelSkew', 'VelKurt', 'Modality', 'LinkTot', 'LinkStrenProj', 'LinkStrenRad', 'LinkStrenComb', 'MassA', 'MassAfunc', 'LumB', 'LumBfunc', 'd3vol', 'd3area', 'd2radec', 'd2raz', 'd2decz', 'distortcirc', 'distortellip', 'distortsph', 'URL_IMG']\n"
     ]
    }
   ],
   "source": [
    "from astropy.table import Table, join\n",
    "import numpy as np\n",
    "import matplotlib.pyplot as plt\n",
    "\n",
    "Galvio = Table.read('../../GAMA_DATA/G3CGalv10.fits')\n",
    "ForGroup = Table.read('../../GAMA_DATA/G3CFoFGroupv10.fits')\n",
    "\n",
    "LocalGroups = join(Galvio,ForGroup,keys='GroupID',join_type='inner')\n",
    "print('Joing ForGroup '+str(len(LocalGroups)))\n",
    "\n",
    "LocalGroups.write('../../GAMA_Data/LocalGroups.fits', format='fits',overwrite=True)\n",
    "\n",
    "print(LocalGroups.colnames)\n"
   ]
  },
  {
   "cell_type": "code",
   "execution_count": null,
   "metadata": {},
   "outputs": [],
   "source": []
  },
  {
   "cell_type": "code",
   "execution_count": null,
   "metadata": {},
   "outputs": [],
   "source": []
  },
  {
   "cell_type": "code",
   "execution_count": null,
   "metadata": {},
   "outputs": [],
   "source": []
  },
  {
   "cell_type": "code",
   "execution_count": null,
   "metadata": {},
   "outputs": [],
   "source": []
  },
  {
   "cell_type": "code",
   "execution_count": null,
   "metadata": {},
   "outputs": [],
   "source": []
  }
 ],
 "metadata": {
  "kernelspec": {
   "display_name": "Python 3 (ipykernel)",
   "language": "python",
   "name": "python3"
  },
  "language_info": {
   "codemirror_mode": {
    "name": "ipython",
    "version": 3
   },
   "file_extension": ".py",
   "mimetype": "text/x-python",
   "name": "python",
   "nbconvert_exporter": "python",
   "pygments_lexer": "ipython3",
   "version": "3.9.5"
  }
 },
 "nbformat": 4,
 "nbformat_minor": 2
}
