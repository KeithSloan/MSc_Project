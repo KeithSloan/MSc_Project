{
 "cells": [
  {
   "cell_type": "code",
   "execution_count": 4,
   "id": "43af5a37",
   "metadata": {},
   "outputs": [
    {
     "name": "stdout",
     "output_type": "stream",
     "text": [
      "ForGroup : 26194\n",
      "GroupGal : 83093\n",
      "StellarMasses : 114685\n",
      "EnvMeasures : 67996\n",
      "visualMorph : 38795\n",
      "Join GroupGal & EnvMeasures 24217\n",
      "GroupGal & EnvMeasures\n",
      "['CATAID', 'RA_1', 'Dec', 'Z', 'Rpetro', 'DM_100_25_75', 'SURVEY_CODE', 'SigErr', 'GroupID', 'RankIterCen', 'SepIterCen', 'CoSepIterCen', 'AngSepIterCen', 'RankBCG', 'SepBCG', 'CoSepBCG', 'AngSepBCG', 'RankCen', 'SepCen', 'CoSepCen', 'AngSepCen', 'RA_2', 'DEC', 'Z_TONRY', 'nQ', 'M_r', 'DistanceToEdge', 'Completeness', 'DistanceTo5nn', 'SurfaceDensity', 'SurfaceDensityErr', 'SurfaceDensityFlag', 'CountInCyl', 'CountInCylErr', 'CountInCylFlag', 'AGEDenPar', 'AGEErr', 'AGEScale', 'AGEDenParFlag']\n",
      "24217\n"
     ]
    },
    {
     "name": "stderr",
     "output_type": "stream",
     "text": [
      "WARNING: Cannot aggregate column 'CountInCyl' with type 'object' [astropy.table.groups]\n",
      "WARNING: Cannot aggregate column 'DistanceTo5nn' with type 'object' [astropy.table.groups]\n",
      "WARNING: Cannot aggregate column 'SurfaceDensity' with type 'object' [astropy.table.groups]\n",
      "WARNING: Cannot aggregate column 'AGEDenPar' with type 'object' [astropy.table.groups]\n"
     ]
    },
    {
     "ename": "ValueError",
     "evalue": "Cannot convert a table with multidimensional columns to a pandas DataFrame. Offending columns are: ['GroupID']\nOne can filter out such columns using:\nnames = [name for name in tbl.colnames if len(tbl[name].shape) <= 1]\ntbl[names].to_pandas(...)",
     "output_type": "error",
     "traceback": [
      "\u001b[0;31m---------------------------------------------------------------------------\u001b[0m",
      "\u001b[0;31mValueError\u001b[0m                                Traceback (most recent call last)",
      "\u001b[0;32m/var/folders/cj/z259fmwd41dgzl8mq8nppwd40000gn/T/ipykernel_64837/3749252415.py\u001b[0m in \u001b[0;36m<module>\u001b[0;34m\u001b[0m\n\u001b[1;32m     55\u001b[0m \u001b[0;34m\u001b[0m\u001b[0m\n\u001b[1;32m     56\u001b[0m \u001b[0mGroupData\u001b[0m \u001b[0;34m=\u001b[0m \u001b[0mGroupDataLog\u001b[0m\u001b[0;34m[\u001b[0m\u001b[0;34m'GroupID'\u001b[0m\u001b[0;34m,\u001b[0m\u001b[0;34m'CountInCyl'\u001b[0m\u001b[0;34m,\u001b[0m\u001b[0;34m'DistanceTo5nn'\u001b[0m\u001b[0;34m,\u001b[0m\u001b[0;34m'SurfaceDensity'\u001b[0m\u001b[0;34m,\u001b[0m\u001b[0;34m'AGEDenPar'\u001b[0m\u001b[0;34m]\u001b[0m\u001b[0;34m.\u001b[0m\u001b[0mgroups\u001b[0m\u001b[0;34m.\u001b[0m\u001b[0maggregate\u001b[0m\u001b[0;34m(\u001b[0m\u001b[0mnp\u001b[0m\u001b[0;34m.\u001b[0m\u001b[0msum\u001b[0m\u001b[0;34m(\u001b[0m\u001b[0mnp\u001b[0m\u001b[0;34m.\u001b[0m\u001b[0mlog10\u001b[0m\u001b[0;34m)\u001b[0m\u001b[0;34m)\u001b[0m\u001b[0;34m\u001b[0m\u001b[0;34m\u001b[0m\u001b[0m\n\u001b[0;32m---> 57\u001b[0;31m \u001b[0mdfe\u001b[0m \u001b[0;34m=\u001b[0m \u001b[0mGroupData\u001b[0m\u001b[0;34m.\u001b[0m\u001b[0mto_pandas\u001b[0m\u001b[0;34m(\u001b[0m\u001b[0;34m)\u001b[0m\u001b[0;34m\u001b[0m\u001b[0;34m\u001b[0m\u001b[0m\n\u001b[0m\u001b[1;32m     58\u001b[0m \u001b[0;34m\u001b[0m\u001b[0m\n\u001b[1;32m     59\u001b[0m \u001b[0mdfDLG\u001b[0m \u001b[0;34m=\u001b[0m \u001b[0mDLG_Groups\u001b[0m\u001b[0;34m.\u001b[0m\u001b[0mto_pandas\u001b[0m\u001b[0;34m(\u001b[0m\u001b[0;34m)\u001b[0m\u001b[0;34m\u001b[0m\u001b[0;34m\u001b[0m\u001b[0m\n",
      "\u001b[0;32m/Library/Frameworks/Python.framework/Versions/3.9/lib/python3.9/site-packages/astropy/table/table.py\u001b[0m in \u001b[0;36mto_pandas\u001b[0;34m(self, index, use_nullable_int)\u001b[0m\n\u001b[1;32m   3427\u001b[0m         \u001b[0mbadcols\u001b[0m \u001b[0;34m=\u001b[0m \u001b[0;34m[\u001b[0m\u001b[0mname\u001b[0m \u001b[0;32mfor\u001b[0m \u001b[0mname\u001b[0m\u001b[0;34m,\u001b[0m \u001b[0mcol\u001b[0m \u001b[0;32min\u001b[0m \u001b[0mself\u001b[0m\u001b[0;34m.\u001b[0m\u001b[0mcolumns\u001b[0m\u001b[0;34m.\u001b[0m\u001b[0mitems\u001b[0m\u001b[0;34m(\u001b[0m\u001b[0;34m)\u001b[0m \u001b[0;32mif\u001b[0m \u001b[0mlen\u001b[0m\u001b[0;34m(\u001b[0m\u001b[0mcol\u001b[0m\u001b[0;34m.\u001b[0m\u001b[0mshape\u001b[0m\u001b[0;34m)\u001b[0m \u001b[0;34m>\u001b[0m \u001b[0;36m1\u001b[0m\u001b[0;34m]\u001b[0m\u001b[0;34m\u001b[0m\u001b[0;34m\u001b[0m\u001b[0m\n\u001b[1;32m   3428\u001b[0m         \u001b[0;32mif\u001b[0m \u001b[0mbadcols\u001b[0m\u001b[0;34m:\u001b[0m\u001b[0;34m\u001b[0m\u001b[0;34m\u001b[0m\u001b[0m\n\u001b[0;32m-> 3429\u001b[0;31m             raise ValueError(\n\u001b[0m\u001b[1;32m   3430\u001b[0m                 \u001b[0;34mf'Cannot convert a table with multidimensional columns to a '\u001b[0m\u001b[0;34m\u001b[0m\u001b[0;34m\u001b[0m\u001b[0m\n\u001b[1;32m   3431\u001b[0m                 \u001b[0;34mf'pandas DataFrame. Offending columns are: {badcols}\\n'\u001b[0m\u001b[0;34m\u001b[0m\u001b[0;34m\u001b[0m\u001b[0m\n",
      "\u001b[0;31mValueError\u001b[0m: Cannot convert a table with multidimensional columns to a pandas DataFrame. Offending columns are: ['GroupID']\nOne can filter out such columns using:\nnames = [name for name in tbl.colnames if len(tbl[name].shape) <= 1]\ntbl[names].to_pandas(...)"
     ]
    }
   ],
   "source": [
    "from astropy.table import Table, join\n",
    "import numpy as np\n",
    "import matplotlib.pyplot as plt\n",
    "from scipy import stats\n",
    "import seaborn as sns\n",
    "import pandas as pd\n",
    "import statistics as st\n",
    "\n",
    "\n",
    "ForGroup = Table.read('../../GAMA_DATA/G3CFoFGroupv10.fits')\n",
    "print(f\"ForGroup : {len(ForGroup)}\")\n",
    "## Clean Data\n",
    "\n",
    "GroupGal = Table.read('../../GAMA_DATA/G3CGalv10.fits')\n",
    "# Clean data\n",
    "GroupGal = GroupGal[GroupGal['GroupID'] > 0 ]\n",
    "print(f\"GroupGal : {len(GroupGal)}\")\n",
    "\n",
    "StellarMasses = Table.read('../../GAMA_DATA/StellarMassesv19.fits')\n",
    "# Clean Data\n",
    "#StellarMasses = StellarMasses[StellarMasses['uminusr'] > 0.001]\n",
    "#StellarMasses = StellarMasses[StellarMasses['logmstar'] > 0.001]\n",
    "#StellarMasses = StellarMasses[StellarMasses['metal'] > 0.001]\n",
    "\n",
    "\n",
    "StellarMasses = StellarMasses[StellarMasses['uminusr'] > 0.01]\n",
    "StellarMasses = StellarMasses[StellarMasses['logmstar'] > 0.01]\n",
    "StellarMasses = StellarMasses[StellarMasses['metal'] > 0.01]\n",
    "print(f\"StellarMasses : {len(StellarMasses)}\")\n",
    "\n",
    "\n",
    "envMeasures = Table.read('../../GAMA_DATA/EnvironmentMeasuresv05.fits')\n",
    "print(f\"EnvMeasures : {len(envMeasures)}\")\n",
    "# Clean Data\n",
    "envMeasures = envMeasures[envMeasures['SurfaceDensity'] < 50]\n",
    "envMeasures = envMeasures[envMeasures['AGEDenParFlag'] == 0]\n",
    "envMeasures = envMeasures[envMeasures['CountInCylFlag'] == 0]\n",
    "envMeasures = envMeasures[envMeasures['CountInCyl'] > 0]\n",
    "\n",
    "envClass = Table.read('../../GAMA_DATA/GalaxiesClassifiedv01.fits')\n",
    "# Clean Data\n",
    "visualMorph = Table.read('../../GAMA_Data/VisualMorphologyv03.fits')\n",
    "print(f\"visualMorph : {len(visualMorph)}\")\n",
    "## Clean Data\n",
    "visualMorphElliptical = visualMorph[visualMorph['ELLIPTICAL_CODE'] == 1]\n",
    "visualMorphSpiral = visualMorph[visualMorph['ELLIPTICAL_CODE'] == 10]\n",
    "\n",
    "DataLocalGroup = join(GroupGal,envMeasures,keys='CATAID',join_type='inner')\n",
    "print(f\"Join GroupGal & EnvMeasures {len(DataLocalGroup)}\")\n",
    "print('GroupGal & EnvMeasures')\n",
    "print(DataLocalGroup.colnames)\n",
    "print(len(DataLocalGroup))\n",
    "\n",
    "DLG_Groups = DataLocalGroup.group_by('GroupID')\n",
    "\n",
    "GroupData = GroupDataLog['GroupID','CountInCyl','DistanceTo5nn','SurfaceDensity','AGEDenPar'].groups.aggregate(np.sum(np.log10))\n",
    "dfe = GroupData.to_pandas()\n",
    "\n",
    "dfDLG = DLG_Groups.to_pandas()\n",
    "dfc = dfDLG.groupby(['GroupID']).size().reset_index(name='Counts')\n",
    "\n",
    "dfG = ForGroup.to_pandas()\n",
    "#print(dfG.columns)\n",
    "df1 = pd.merge(dfe, dfc, on=[\"GroupID\", \"GroupID\"])\n",
    "df  = pd.merge(df1,dfG,on=[\"GroupID\", \"GroupID\"])\n",
    "print(df.columns)\n",
    "\n",
    "from sklearn import linear_model\n",
    "#import statsmodels.api as sm\n",
    "\n",
    "Y = df['TotRmag']\n",
    "\n",
    "for m in ['CountInCyl','DistanceTo5nn','SurfaceDensity','AGEDenPar'] :\n",
    "    X = df[[m,'Counts']] \n",
    "    # with sklearn\n",
    "    regr = linear_model.LinearRegression()\n",
    "    r = regr.fit(X, Y)\n",
    "    print(f'{m} Coefficients: {regr.coef_} Intercept: {regr.intercept_}')\n",
    "    print(dir(regr))\n",
    "   \n",
    "\n",
    "\n",
    "    "
   ]
  },
  {
   "cell_type": "code",
   "execution_count": null,
   "id": "f2a5c6f1",
   "metadata": {},
   "outputs": [],
   "source": []
  },
  {
   "cell_type": "code",
   "execution_count": null,
   "id": "9040ee8b",
   "metadata": {},
   "outputs": [],
   "source": []
  }
 ],
 "metadata": {
  "kernelspec": {
   "display_name": "Python 3 (ipykernel)",
   "language": "python",
   "name": "python3"
  },
  "language_info": {
   "codemirror_mode": {
    "name": "ipython",
    "version": 3
   },
   "file_extension": ".py",
   "mimetype": "text/x-python",
   "name": "python",
   "nbconvert_exporter": "python",
   "pygments_lexer": "ipython3",
   "version": "3.9.5"
  }
 },
 "nbformat": 4,
 "nbformat_minor": 5
}
