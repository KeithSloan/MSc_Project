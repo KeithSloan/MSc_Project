{
 "cells": [
  {
   "cell_type": "code",
   "execution_count": 4,
   "metadata": {},
   "outputs": [
    {
     "name": "stdout",
     "output_type": "stream",
     "text": [
      "['CATAID', 'OBJID', 'RA', 'DEC', 'FLAGS', 'PRIMTARGET', 'TYPE', 'PSFMAG_R', 'FIBERMAG_R', 'FLAGS_R', 'EXTINCTION_R', 'PETRORAD_R', 'PETROR90_R', 'PETROR50_R', 'PETROMAG_G', 'PETROMAG_R', 'PETROMAG_I', 'MODELMAG_U', 'MODELMAG_G', 'MODELMAG_R', 'MODELMAG_I', 'MODELMAG_Z', 'STATUS', 'RUN', 'Z', 'nQ', 'SURVEY_CODE', 'SURVEY_CLASS', 'Z_TONRY', 'fluxscale', 'zmax_19p8', 'zmax_19p4', 'zmax_19p0', 'zmax_17p8', 'nbands', 'S2N', 'PPP', 'logmstar', 'dellogmstar', 'logmoverl_i', 'dellogmoverl_i', 'logage', 'dellogage', 'logtau', 'dellogtau', 'logmintsfh', 'dellogmintsfh', 'logmremnants', 'dellogmremnants', 'metal', 'delmetal', 'extBV', 'delextBV', 'logLWage', 'dellogLWage', 'gminusi', 'delgminusi', 'uminusr', 'deluminusr', 'gminusi_stars', 'uminusr_stars', 'C_logM_ur', 'C_logM_gi', 'C_logM_eBV', 'fitphot_u', 'delfitphot_u', 'absmag_u', 'delabsmag_u', 'absmag_u_stars', 'fitphot_g', 'delfitphot_g', 'absmag_g', 'delabsmag_g', 'absmag_g_stars', 'fitphot_r', 'delfitphot_r', 'absmag_r', 'delabsmag_r', 'absmag_r_stars', 'fitphot_i', 'delfitphot_i', 'absmag_i', 'delabsmag_i', 'absmag_i_stars', 'fitphot_z', 'delfitphot_z', 'absmag_z', 'delabsmag_z', 'absmag_z_stars', 'fitphot_X', 'delfitphot_X', 'absmag_X', 'delabsmag_X', 'absmag_X_stars', 'fitphot_Y', 'delfitphot_Y', 'absmag_Y', 'delabsmag_Y', 'absmag_Y_stars', 'fitphot_J', 'delfitphot_J', 'absmag_J', 'delabsmag_J', 'absmag_J_stars', 'fitphot_H', 'delfitphot_H', 'absmag_H', 'delabsmag_H', 'absmag_H_stars', 'fitphot_K', 'delfitphot_K', 'absmag_K', 'delabsmag_K', 'absmag_K_stars', 'URL_PNG']\n",
      "16815\n"
     ]
    },
    {
     "ename": "KeyError",
     "evalue": "'uminusr_1'",
     "output_type": "error",
     "traceback": [
      "\u001b[0;31m---------------------------------------------------------------------------\u001b[0m",
      "\u001b[0;31mKeyError\u001b[0m                                  Traceback (most recent call last)",
      "\u001b[0;32m<ipython-input-4-4c7c916e81e4>\u001b[0m in \u001b[0;36m<module>\u001b[0;34m\u001b[0m\n\u001b[1;32m      9\u001b[0m \u001b[0mrows\u001b[0m \u001b[0;34m=\u001b[0m \u001b[0mlen\u001b[0m\u001b[0;34m(\u001b[0m\u001b[0msdss_red_ellipticalMasses\u001b[0m\u001b[0;34m)\u001b[0m\u001b[0;34m\u001b[0m\u001b[0;34m\u001b[0m\u001b[0m\n\u001b[1;32m     10\u001b[0m \u001b[0mprint\u001b[0m\u001b[0;34m(\u001b[0m\u001b[0mrows\u001b[0m\u001b[0;34m)\u001b[0m\u001b[0;34m\u001b[0m\u001b[0;34m\u001b[0m\u001b[0m\n\u001b[0;32m---> 11\u001b[0;31m \u001b[0mx\u001b[0m \u001b[0;34m=\u001b[0m \u001b[0msdss_red_ellipticalMasses\u001b[0m\u001b[0;34m[\u001b[0m\u001b[0;34m'uminusr_1'\u001b[0m\u001b[0;34m]\u001b[0m\u001b[0;34m\u001b[0m\u001b[0;34m\u001b[0m\u001b[0m\n\u001b[0m\u001b[1;32m     12\u001b[0m \u001b[0my\u001b[0m \u001b[0;34m=\u001b[0m \u001b[0msdss_red_ellipticalMasses\u001b[0m\u001b[0;34m[\u001b[0m\u001b[0;34m'logmstar_2'\u001b[0m\u001b[0;34m]\u001b[0m\u001b[0;34m\u001b[0m\u001b[0;34m\u001b[0m\u001b[0m\n\u001b[1;32m     13\u001b[0m \u001b[0mxerr\u001b[0m \u001b[0;34m=\u001b[0m \u001b[0msdss_red_ellipticalMasses\u001b[0m\u001b[0;34m[\u001b[0m\u001b[0;34m'deluminusr_1'\u001b[0m\u001b[0;34m]\u001b[0m\u001b[0;34m\u001b[0m\u001b[0;34m\u001b[0m\u001b[0m\n",
      "\u001b[0;32m/Library/Frameworks/Python.framework/Versions/3.8/lib/python3.8/site-packages/astropy/table/table.py\u001b[0m in \u001b[0;36m__getitem__\u001b[0;34m(self, item)\u001b[0m\n\u001b[1;32m   1652\u001b[0m     \u001b[0;32mdef\u001b[0m \u001b[0m__getitem__\u001b[0m\u001b[0;34m(\u001b[0m\u001b[0mself\u001b[0m\u001b[0;34m,\u001b[0m \u001b[0mitem\u001b[0m\u001b[0;34m)\u001b[0m\u001b[0;34m:\u001b[0m\u001b[0;34m\u001b[0m\u001b[0;34m\u001b[0m\u001b[0m\n\u001b[1;32m   1653\u001b[0m         \u001b[0;32mif\u001b[0m \u001b[0misinstance\u001b[0m\u001b[0;34m(\u001b[0m\u001b[0mitem\u001b[0m\u001b[0;34m,\u001b[0m \u001b[0mstr\u001b[0m\u001b[0;34m)\u001b[0m\u001b[0;34m:\u001b[0m\u001b[0;34m\u001b[0m\u001b[0;34m\u001b[0m\u001b[0m\n\u001b[0;32m-> 1654\u001b[0;31m             \u001b[0;32mreturn\u001b[0m \u001b[0mself\u001b[0m\u001b[0;34m.\u001b[0m\u001b[0mcolumns\u001b[0m\u001b[0;34m[\u001b[0m\u001b[0mitem\u001b[0m\u001b[0;34m]\u001b[0m\u001b[0;34m\u001b[0m\u001b[0;34m\u001b[0m\u001b[0m\n\u001b[0m\u001b[1;32m   1655\u001b[0m         \u001b[0;32melif\u001b[0m \u001b[0misinstance\u001b[0m\u001b[0;34m(\u001b[0m\u001b[0mitem\u001b[0m\u001b[0;34m,\u001b[0m \u001b[0;34m(\u001b[0m\u001b[0mint\u001b[0m\u001b[0;34m,\u001b[0m \u001b[0mnp\u001b[0m\u001b[0;34m.\u001b[0m\u001b[0minteger\u001b[0m\u001b[0;34m)\u001b[0m\u001b[0;34m)\u001b[0m\u001b[0;34m:\u001b[0m\u001b[0;34m\u001b[0m\u001b[0;34m\u001b[0m\u001b[0m\n\u001b[1;32m   1656\u001b[0m             \u001b[0;32mreturn\u001b[0m \u001b[0mself\u001b[0m\u001b[0;34m.\u001b[0m\u001b[0mRow\u001b[0m\u001b[0;34m(\u001b[0m\u001b[0mself\u001b[0m\u001b[0;34m,\u001b[0m \u001b[0mitem\u001b[0m\u001b[0;34m)\u001b[0m\u001b[0;34m\u001b[0m\u001b[0;34m\u001b[0m\u001b[0m\n",
      "\u001b[0;32m/Library/Frameworks/Python.framework/Versions/3.8/lib/python3.8/site-packages/astropy/table/table.py\u001b[0m in \u001b[0;36m__getitem__\u001b[0;34m(self, item)\u001b[0m\n\u001b[1;32m    237\u001b[0m         \"\"\"\n\u001b[1;32m    238\u001b[0m         \u001b[0;32mif\u001b[0m \u001b[0misinstance\u001b[0m\u001b[0;34m(\u001b[0m\u001b[0mitem\u001b[0m\u001b[0;34m,\u001b[0m \u001b[0mstr\u001b[0m\u001b[0;34m)\u001b[0m\u001b[0;34m:\u001b[0m\u001b[0;34m\u001b[0m\u001b[0;34m\u001b[0m\u001b[0m\n\u001b[0;32m--> 239\u001b[0;31m             \u001b[0;32mreturn\u001b[0m \u001b[0mOrderedDict\u001b[0m\u001b[0;34m.\u001b[0m\u001b[0m__getitem__\u001b[0m\u001b[0;34m(\u001b[0m\u001b[0mself\u001b[0m\u001b[0;34m,\u001b[0m \u001b[0mitem\u001b[0m\u001b[0;34m)\u001b[0m\u001b[0;34m\u001b[0m\u001b[0;34m\u001b[0m\u001b[0m\n\u001b[0m\u001b[1;32m    240\u001b[0m         \u001b[0;32melif\u001b[0m \u001b[0misinstance\u001b[0m\u001b[0;34m(\u001b[0m\u001b[0mitem\u001b[0m\u001b[0;34m,\u001b[0m \u001b[0;34m(\u001b[0m\u001b[0mint\u001b[0m\u001b[0;34m,\u001b[0m \u001b[0mnp\u001b[0m\u001b[0;34m.\u001b[0m\u001b[0minteger\u001b[0m\u001b[0;34m)\u001b[0m\u001b[0;34m)\u001b[0m\u001b[0;34m:\u001b[0m\u001b[0;34m\u001b[0m\u001b[0;34m\u001b[0m\u001b[0m\n\u001b[1;32m    241\u001b[0m             \u001b[0;32mreturn\u001b[0m \u001b[0mlist\u001b[0m\u001b[0;34m(\u001b[0m\u001b[0mself\u001b[0m\u001b[0;34m.\u001b[0m\u001b[0mvalues\u001b[0m\u001b[0;34m(\u001b[0m\u001b[0;34m)\u001b[0m\u001b[0;34m)\u001b[0m\u001b[0;34m[\u001b[0m\u001b[0mitem\u001b[0m\u001b[0;34m]\u001b[0m\u001b[0;34m\u001b[0m\u001b[0;34m\u001b[0m\u001b[0m\n",
      "\u001b[0;31mKeyError\u001b[0m: 'uminusr_1'"
     ]
    }
   ],
   "source": [
    "from astropy.table import Table, join\n",
    "import numpy as np\n",
    "import matplotlib.pyplot as plt\n",
    "\n",
    "sdss_red_ellipticalMasses = Table.read('../../GAMA_Data/SDSS_Red_Elliptical_Masses.fits')\n",
    "print(sdss_red_ellipticalMasses.colnames)\n",
    "\n",
    "#print(sdss_red_ellipticalMasses.colnames)\n",
    "rows = len(sdss_red_ellipticalMasses)\n",
    "print(rows)\n",
    "x = sdss_red_ellipticalMasses['uminusr_1']\n",
    "y = sdss_red_ellipticalMasses['logmstar_2']\n",
    "xerr = sdss_red_ellipticalMasses['deluminusr_1']\n",
    "yerr = sdss_red_ellipticalMasses['dellogmstar_2']\n",
    "\n",
    "#plt.figure()\n",
    "#plt.errorbar(x, y, xerr=xerr, yerr=yerr)\n",
    "#plt.errorbar(x, y, xerr=None, yerr=None, fmt='o')\n",
    "plt.scatter(x,y,alpha=0.05)\n",
    "plt.title(\"Plot of Log Mass versus Redness (uminusr) for Elliptical Galaxies\")\n",
    "plt.axis([0, 3, 0, 20])\n",
    "plt.show()\n",
    "\n",
    "x = sdss_red_ellipticalMasses['uminusr_1']\n",
    "y = sdss_red_ellipticalMasses['Z_1']\n",
    "plt.scatter(x,y,alpha=0.05)\n",
    "plt.title(\"Red Shift Z versus Redness (uminusr) for Elliptical Galaxies\")\n",
    "plt.axis([0, 3, 0, 0.8])\n",
    "plt.show()\n",
    "\n",
    "x = sdss_red_ellipticalMasses['logmstar_2']\n",
    "y = sdss_red_ellipticalMasses['Z_1']\n",
    "plt.scatter(x,y,alpha=0.05)\n",
    "plt.title(\"Red Shift Z versus Log Mass (logmstar) for Elliptical Galaxies\")\n",
    "plt.axis([10, 14, 0, 0.8])\n",
    "plt.show()\n",
    "\n",
    "x = sdss_red_ellipticalMasses['uminusr_1']\n",
    "y = sdss_red_ellipticalMasses['metal_1']\n",
    "plt.scatter(x,y,alpha=0.05)\n",
    "plt.title(\"Metal versus Redness (uminusr) for Elliptical Galaxies\")\n",
    "plt.axis([0, 3, 0, 0.06])\n",
    "plt.show()\n",
    "\n",
    "x = sdss_red_ellipticalMasses['logmstar_2']\n",
    "y = sdss_red_ellipticalMasses['metal_1']\n",
    "plt.scatter(x,y,alpha=0.05)\n",
    "plt.title(\"Metal versus Log Mass (logmstar) for Elliptical Galaxies\")\n",
    "plt.axis([10, 14, 0, 0.06])\n",
    "plt.show()\n",
    "\n",
    "\n",
    "x = sdss_red_ellipticalMasses['uminusr_1']\n",
    "y = sdss_red_ellipticalMasses['logage_1']\n",
    "plt.scatter(x,y,alpha=0.05)\n",
    "plt.title(\"Log Age versus Redness (uminusr) for Elliptical Galaxies\")\n",
    "plt.axis([0, 3, 8.5, 10.5])\n",
    "plt.show()\n",
    "\n",
    "x = sdss_red_ellipticalMasses['logmstar_2']\n",
    "y = sdss_red_ellipticalMasses['logage_1']\n",
    "plt.scatter(x,y,alpha=0.05)\n",
    "plt.title(\"Log Age versus Log Mass (logmstar) for Elliptical Galaxies\")\n",
    "plt.axis([10, 14, 8.5, 10.5])\n",
    "plt.show()\n",
    "\n",
    "\n",
    "\n",
    "\n",
    "\n"
   ]
  },
  {
   "cell_type": "code",
   "execution_count": null,
   "metadata": {},
   "outputs": [],
   "source": []
  }
 ],
 "metadata": {
  "kernelspec": {
   "display_name": "Python 3",
   "language": "python",
   "name": "python3"
  },
  "language_info": {
   "codemirror_mode": {
    "name": "ipython",
    "version": 3
   },
   "file_extension": ".py",
   "mimetype": "text/x-python",
   "name": "python",
   "nbconvert_exporter": "python",
   "pygments_lexer": "ipython3",
   "version": "3.8.8"
  }
 },
 "nbformat": 4,
 "nbformat_minor": 2
}
