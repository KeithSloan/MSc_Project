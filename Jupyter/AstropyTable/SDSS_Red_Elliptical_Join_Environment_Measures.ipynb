{
 "cells": [
  {
   "cell_type": "code",
   "execution_count": null,
   "metadata": {},
   "outputs": [],
   "source": [
    "from astropy.table import Table, join\n",
    "import numpy as np\n",
    "import matplotlib.pyplot as plt\n",
    "\n",
    "sdss_red_ellipses_masses = Table.read('GAMA_Data/SDSS_Red_EllipticalMasses.fits')\n",
    "env_measures = Table.read('GAMA_Data/EnvironmentMeasures.fits')\n",
    "print(sdss_red_ellipses_masses.colnames)\n",
    "print(env_measures.colnames)\n",
    "sdss_red_elliptical_Env_Measures = join(sdss_red_ellipses_masses,env_measures,keys='CATAID',join_type='inner')\n",
    "sdss_red_elliptical_Env_Measures.write('GAMA_Data/SDSS_Red_Elliptical_Env_Measures.fits', format='fits',overwrite=True)\n",
    "print('Actioned')\n",
    "print(sdss_red_ellipticalMasses.colnames)\n",
    "\n",
    "\n",
    "\n"
   ]
  },
  {
   "cell_type": "code",
   "execution_count": null,
   "metadata": {},
   "outputs": [],
   "source": []
  },
  {
   "cell_type": "code",
   "execution_count": null,
   "metadata": {},
   "outputs": [],
   "source": []
  }
 ],
 "metadata": {
  "kernelspec": {
   "display_name": "Python 3",
   "language": "python",
   "name": "python3"
  },
  "language_info": {
   "codemirror_mode": {
    "name": "ipython",
    "version": 3
   },
   "file_extension": ".py",
   "mimetype": "text/x-python",
   "name": "python",
   "nbconvert_exporter": "python",
   "pygments_lexer": "ipython3",
   "version": "3.7.3"
  }
 },
 "nbformat": 4,
 "nbformat_minor": 2
}
