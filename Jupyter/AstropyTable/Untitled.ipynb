{
 "cells": [
  {
   "cell_type": "code",
   "execution_count": null,
   "id": "f133b5ee",
   "metadata": {},
   "outputs": [],
   "source": [
    "from astropy.table import Table, join\n",
    "import numpy as np\n",
    "import matplotlib.pyplot as plt\n",
    "from scipy import stats\n",
    "import seaborn as sns\n",
    "import pandas as pd\n",
    "import statistics as st\n",
    "\n",
    "StellarMasses = Table.read('../../GAMA_DATA/StellarMassesv19.fits')\n",
    "# Clean Data\n",
    "#StellarMasses = StellarMasses[StellarMasses['uminusr'] > 0.001]\n",
    "#StellarMasses = StellarMasses[StellarMasses['logmstar'] > 0.001]\n",
    "#StellarMasses = StellarMasses[StellarMasses['metal'] > 0.001]\n",
    "\n",
    "StellarMasses = StellarMasses[StellarMasses['uminusr'] > 0.01]\n",
    "StellarMasses = StellarMasses[StellarMasses['logmstar'] > 0.01]\n",
    "StellarMasses = StellarMasses[StellarMasses['metal'] > 0.01]\n",
    "print(f\"StellarMasses : {len(StellarMasses)}\")\n",
    "\n",
    "visualMorph = Table.read('../../GAMA_Data/VisualMorphologyv03.fits')\n",
    "print(f\"visualMorph : {len(visualMorph)}\")\n",
    "## Clean Data\n",
    "visualMorphElliptical = visualMorph[visualMorph['ELLIPTICAL_CODE'] == 1]\n",
    "#visualMorphSpiral = visualMorph[visualMorph['ELLIPTICAL_CODE'] == 10]\n",
    "\n",
    "RErange = join(StellarMasses,visualMorphElliptical,keys='CATAID',join_type='inner')\n",
    "print('Joining Visual Morph '+str(len(RErange)))\n",
    "print(len(RErange))\n"
   ]
  }
 ],
 "metadata": {
  "kernelspec": {
   "display_name": "Python 3 (ipykernel)",
   "language": "python",
   "name": "python3"
  },
  "language_info": {
   "codemirror_mode": {
    "name": "ipython",
    "version": 3
   },
   "file_extension": ".py",
   "mimetype": "text/x-python",
   "name": "python",
   "nbconvert_exporter": "python",
   "pygments_lexer": "ipython3",
   "version": "3.9.5"
  }
 },
 "nbformat": 4,
 "nbformat_minor": 5
}
