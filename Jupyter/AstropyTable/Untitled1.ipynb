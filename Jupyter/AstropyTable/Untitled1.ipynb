{
 "cells": [
  {
   "cell_type": "code",
   "execution_count": null,
   "id": "72ee4e30",
   "metadata": {},
   "outputs": [],
   "source": [
    "from astropy.table import Table, join\n",
    "import numpy as np\n",
    "import matplotlib.pyplot as plt\n",
    "\n",
    "ForGroup = Table.read('../../GAMA_DATA/G3CFoFGroupv10.fits')\n",
    "## Clean Data\n",
    "\n",
    "binCount = 100\n",
    "\n",
    "fig = plt.figure(figsize=(12, 16), dpi=200)\n",
    "\n",
    "xfield = 'TotRmag'\n",
    "ax1 = fig.add_subplot(4, 1, 1)\n",
    "ax1.title.set_text('Group Counts versus '+xfield)\n",
    "ax1.set_ylabel('Group Count')\n",
    "ax1.set_xlabel(xfield)\n",
    "ax1.hist(RErange[xfield].data, bins=binCount, density=True)\n",
    "ax1.legend()\n",
    "\n",
    "xfield = 'TotFluxProxy'\n",
    "ax2 = fig.add_subplot(4, 1, 2)\n",
    "ax2.title.set_text('Group Counts versus '+xfield)\n",
    "ax2.set_ylabel('Group Count')\n",
    "ax2.set_xlabel(xfield)\n",
    "ax2.hist(RErange[xfield].data, bins=binCount, density=True)\n",
    "ax2.legend()\n",
    "\n",
    "xfield = 'MassProxy'\n",
    "ax3 = fig.add_subplot(4, 1, 3)\n",
    "ax3.title.set_text('Group Counts versus '+xfield)\n",
    "ax3.set_ylabel('Group Count')\n",
    "ax3.set_xlabel(xfield)\n",
    "ax3.hist(RErange[xfield].data, bins=binCount, density=True)\n",
    "ax3.legend()\n",
    "\n",
    "\n",
    "\n",
    "fig.tight_layout()\n",
    "plt.show()\n",
    "\n"
   ]
  }
 ],
 "metadata": {
  "kernelspec": {
   "display_name": "Python 3 (ipykernel)",
   "language": "python",
   "name": "python3"
  },
  "language_info": {
   "codemirror_mode": {
    "name": "ipython",
    "version": 3
   },
   "file_extension": ".py",
   "mimetype": "text/x-python",
   "name": "python",
   "nbconvert_exporter": "python",
   "pygments_lexer": "ipython3",
   "version": "3.9.5"
  }
 },
 "nbformat": 4,
 "nbformat_minor": 5
}
