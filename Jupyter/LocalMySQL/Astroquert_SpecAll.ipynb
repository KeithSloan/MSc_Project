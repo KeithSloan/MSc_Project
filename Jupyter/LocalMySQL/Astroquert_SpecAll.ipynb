{
 "cells": [
  {
   "cell_type": "code",
   "execution_count": 4,
   "metadata": {},
   "outputs": [
    {
     "data": {
      "text/html": [
       "<i>Table length=5</i>\n",
       "<table id=\"table139649796995280\" class=\"table-striped table-bordered table-condensed\">\n",
       "<thead><tr><th>SPECID</th><th>SURVEY</th><th>SURVEY_CODE</th><th>RA</th><th>DEC</th><th>WMIN</th><th>WMAX</th><th>Z</th><th>NQ</th><th>PROB</th><th>FILENAME</th><th>URL</th><th>URL_IMG</th><th>CATAID</th><th>GAMA_NAME</th><th>IC_FLAG</th><th>DIST</th><th>IS_SBEST</th><th>IS_BEST</th></tr></thead>\n",
       "<thead><tr><th>int64</th><th>str4</th><th>int16</th><th>float64</th><th>float32</th><th>float32</th><th>float32</th><th>float32</th><th>int16</th><th>int16</th><th>str52</th><th>str73</th><th>str77</th><th>int32</th><th>str23</th><th>int16</th><th>float32</th><th>int16</th><th>int16</th></tr></thead>\n",
       "<tr><td>1030358159811700736</td><td>SDSS</td><td>1</td><td>211.73487</td><td>-1.59471</td><td>3815.93</td><td>9206.62</td><td>0.02919</td><td>5</td><td>0</td><td>/GAMA/dr3/data/spectra/sdss/spec-0915-52443-0581.fit</td><td>http://www.gama-survey.org/dr3/data/spectra/sdss/spec-0915-52443-0581.fit</td><td>http://www.gama-survey.org/dr3/data/spectra/sdss/png/spec-0915-52443-0581.png</td><td>491457</td><td>GAMAJ140656.36-013541.0</td><td>4104</td><td>0.05</td><td>1</td><td>1</td></tr>\n",
       "<tr><td>1030358434689607680</td><td>SDSS</td><td>1</td><td>211.51452</td><td>-1.65754</td><td>3815.93</td><td>9206.62</td><td>0.05424</td><td>5</td><td>0</td><td>/GAMA/dr3/data/spectra/sdss/spec-0915-52443-0582.fit</td><td>http://www.gama-survey.org/dr3/data/spectra/sdss/spec-0915-52443-0582.fit</td><td>http://www.gama-survey.org/dr3/data/spectra/sdss/png/spec-0915-52443-0582.png</td><td>460298</td><td>GAMAJ140603.48-013927.2</td><td>4104</td><td>0.14</td><td>1</td><td>1</td></tr>\n",
       "<tr><td>1030358984445421568</td><td>SDSS</td><td>1</td><td>211.78462</td><td>-1.71899</td><td>3815.93</td><td>9206.62</td><td>0.11341</td><td>5</td><td>0</td><td>/GAMA/dr3/data/spectra/sdss/spec-0915-52443-0584.fit</td><td>http://www.gama-survey.org/dr3/data/spectra/sdss/spec-0915-52443-0584.fit</td><td>http://www.gama-survey.org/dr3/data/spectra/sdss/png/spec-0915-52443-0584.png</td><td>460345</td><td>GAMAJ140708.30-014308.3</td><td>4104</td><td>0.02</td><td>1</td><td>1</td></tr>\n",
       "<tr><td>1030359809079142400</td><td>SDSS</td><td>1</td><td>211.63878</td><td>-1.93563</td><td>3816.81</td><td>9206.62</td><td>0.10234</td><td>5</td><td>0</td><td>/GAMA/dr3/data/spectra/sdss/spec-0915-52443-0587.fit</td><td>http://www.gama-survey.org/dr3/data/spectra/sdss/spec-0915-52443-0587.fit</td><td>http://www.gama-survey.org/dr3/data/spectra/sdss/png/spec-0915-52443-0587.png</td><td>484623</td><td>GAMAJ140633.30-015608.2</td><td>4104</td><td>0.05</td><td>1</td><td>1</td></tr>\n",
       "<tr><td>1030360358834956288</td><td>SDSS</td><td>1</td><td>211.79006</td><td>-1.89456</td><td>3817.68</td><td>9206.62</td><td>0.10289</td><td>5</td><td>0</td><td>/GAMA/dr3/data/spectra/sdss/spec-0915-52443-0589.fit</td><td>http://www.gama-survey.org/dr3/data/spectra/sdss/spec-0915-52443-0589.fit</td><td>http://www.gama-survey.org/dr3/data/spectra/sdss/png/spec-0915-52443-0589.png</td><td>484637</td><td>GAMAJ140709.61-015340.3</td><td>4104</td><td>0.04</td><td>1</td><td>1</td></tr>\n",
       "</table>"
      ],
      "text/plain": [
       "<Table length=5>\n",
       "       SPECID       SURVEY SURVEY_CODE     RA    ...   DIST  IS_SBEST IS_BEST\n",
       "       int64         str4     int16     float64  ... float32  int16    int16 \n",
       "------------------- ------ ----------- --------- ... ------- -------- -------\n",
       "1030358159811700736   SDSS           1 211.73487 ...    0.05        1       1\n",
       "1030358434689607680   SDSS           1 211.51452 ...    0.14        1       1\n",
       "1030358984445421568   SDSS           1 211.78462 ...    0.02        1       1\n",
       "1030359809079142400   SDSS           1 211.63878 ...    0.05        1       1\n",
       "1030360358834956288   SDSS           1 211.79006 ...    0.04        1       1"
      ]
     },
     "execution_count": 4,
     "metadata": {},
     "output_type": "execute_result"
    }
   ],
   "source": [
    "from astroquery.gama import GAMA\n",
    "GAMA.query_sql('SELECT * FROM SpecAll LIMIT 5')"
   ]
  },
  {
   "cell_type": "code",
   "execution_count": null,
   "metadata": {},
   "outputs": [],
   "source": []
  }
 ],
 "metadata": {
  "kernelspec": {
   "display_name": "Python 3",
   "language": "python",
   "name": "python3"
  },
  "language_info": {
   "codemirror_mode": {
    "name": "ipython",
    "version": 3
   },
   "file_extension": ".py",
   "mimetype": "text/x-python",
   "name": "python",
   "nbconvert_exporter": "python",
   "pygments_lexer": "ipython3",
   "version": "3.7.3"
  }
 },
 "nbformat": 4,
 "nbformat_minor": 2
}
