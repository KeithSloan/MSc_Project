{
 "cells": [
  {
   "cell_type": "code",
   "execution_count": 17,
   "metadata": {
    "scrolled": true
   },
   "outputs": [
    {
     "name": "stdout",
     "output_type": "stream",
     "text": [
      "Making SQLrequest : DROP TABLE EllipticalGalaxies\n",
      "OK\n",
      "Making SQLrequest : CREATE TABLE EllipticalGalaxies LIKE VisualMorphology\n",
      "OK\n",
      "Making SQLrequest : INSERT INTO `EllipticalGalaxies` SELECT * FROM VisualMorphology WHERE ELLIPTICAL = Elliptical OR ELLIPTICAL_CODe = 1\n",
      "OK\n",
      "Making SQLrequest : SELECT CATAID FROM EllipticalGalaxies\n",
      "OK\n",
      "Total number of rows in EllipticalGalaxies is:  25536\n"
     ]
    }
   ],
   "source": [
    "# Select Elliptical Galaxies\n",
    "from __future__ import print_function\n",
    "import re\n",
    "\n",
    "table = 'VisualMorphology'\n",
    "\n",
    "import mysql.connector\n",
    "from mysql.connector import errorcode\n",
    "\n",
    "class switch(object):\n",
    "    value = None\n",
    "    def __new__(class_, value):\n",
    "        class_.value = value\n",
    "        return True\n",
    "\n",
    "def case(*args):\n",
    "    return any((arg == switch.value for arg in args))\n",
    "\n",
    "\n",
    "def makeSQLrequest(flag,cursor,request) :\n",
    "    try:\n",
    "        if flag :\n",
    "            print('Making SQLrequest : '+request)\n",
    "        cursor.execute(request)\n",
    "    except mysql.connector.Error as err:\n",
    "        if err.errno == errorcode.ER_TABLE_EXISTS_ERROR:\n",
    "            print(\"already exists.\")\n",
    "        else:\n",
    "            print(err.msg)\n",
    "    else:\n",
    "        if flag :\n",
    "            print('OK')    \n",
    "            \n",
    "        \n",
    "cnx = mysql.connector.connect(user='keith', password='kjhW0rthy#',\n",
    "                              host='127.0.0.1',\n",
    "                              database='SurveyData')\n",
    "\n",
    "cursor = cnx.cursor()\n",
    "\n",
    "DB_NAME = 'SurveyData'\n",
    "\n",
    "request = 'DROP TABLE EllipticalGalaxies'\n",
    "    \n",
    "makeSQLrequest(True,cursor,request)\n",
    "    \n",
    "request = 'CREATE TABLE EllipticalGalaxies LIKE '+table\n",
    "makeSQLrequest(True,cursor,request)\n",
    "    \n",
    "    \n",
    "request = 'INSERT INTO `EllipticalGalaxies` SELECT * FROM '+table+ \\\n",
    "          ' WHERE ELLIPTICAL = Elliptical OR ELLIPTICAL_CODe = 1'\n",
    "makeSQLrequest(True,cursor, request)\n",
    "\n",
    "cnx.commit()\n",
    "\n",
    "request = 'SELECT CATAID FROM EllipticalGalaxies'\n",
    "makeSQLrequest(True,cursor, request)\n",
    "\n",
    "records = cursor.fetchall()\n",
    "print(\"Total number of rows in EllipticalGalaxies is: \", cursor.rowcount)\n",
    "\n"
   ]
  },
  {
   "cell_type": "code",
   "execution_count": null,
   "metadata": {},
   "outputs": [],
   "source": []
  }
 ],
 "metadata": {
  "kernelspec": {
   "display_name": "Python 3",
   "language": "python",
   "name": "python3"
  },
  "language_info": {
   "codemirror_mode": {
    "name": "ipython",
    "version": 3
   },
   "file_extension": ".py",
   "mimetype": "text/x-python",
   "name": "python",
   "nbconvert_exporter": "python",
   "pygments_lexer": "ipython3",
   "version": "3.7.3"
  }
 },
 "nbformat": 4,
 "nbformat_minor": 2
}
