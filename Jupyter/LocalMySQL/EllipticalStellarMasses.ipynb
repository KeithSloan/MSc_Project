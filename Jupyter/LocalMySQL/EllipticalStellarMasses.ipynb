{
 "cells": [
  {
   "cell_type": "code",
   "execution_count": 20,
   "metadata": {
    "scrolled": true
   },
   "outputs": [
    {
     "name": "stdout",
     "output_type": "stream",
     "text": [
      "Making SQLrequest : DROP TABLE EllipticalStellarMasses\n",
      "OK\n",
      "CREATE TABLE EllipticalStellarMasses            SELECT sm.* FROM StellarMasses AS sm LEFT JOIN EllipticalGalaxies AS eg            ON sm.CATAID = eg.CATAID\n",
      "Making SQLrequest : CREATE TABLE EllipticalStellarMasses            SELECT sm.* FROM StellarMasses AS sm LEFT JOIN EllipticalGalaxies AS eg            ON sm.CATAID = eg.CATAID\n",
      "OK\n",
      "Making SQLrequest : SELECT CATAID FROM EllipticalStellarMasses\n",
      "OK\n",
      "Total number of rows in EllipticalStellarMasses is:  120619\n"
     ]
    }
   ],
   "source": [
    "# Create EllipticalStellaMasses i.e. Join of Elliptical and StellarMasses\n",
    "from __future__ import print_function\n",
    "import re\n",
    "\n",
    "#newTable = 'EllipticalStellarMasses'\n",
    "#table1 = 'EllipticalGalaxies'\n",
    "#table2 = 'StellarMasses'\n",
    "\n",
    "#columns = '*'\n",
    "\n",
    "import mysql.connector\n",
    "from mysql.connector import errorcode\n",
    "\n",
    "class switch(object):\n",
    "    value = None\n",
    "    def __new__(class_, value):\n",
    "        class_.value = value\n",
    "        return True\n",
    "\n",
    "def case(*args):\n",
    "    return any((arg == switch.value for arg in args))\n",
    "\n",
    "\n",
    "def makeSQLrequest(flag,cursor,request) :\n",
    "    try:\n",
    "        if flag :\n",
    "            print('Making SQLrequest : '+request)\n",
    "        cursor.execute(request)\n",
    "    except mysql.connector.Error as err:\n",
    "        if err.errno == errorcode.ER_TABLE_EXISTS_ERROR:\n",
    "            print(\"already exists.\")\n",
    "        else:\n",
    "            print(err.msg)\n",
    "    else:\n",
    "        if flag :\n",
    "            print('OK')\n",
    "        \n",
    "cnx = mysql.connector.connect(user='keith', password='kjhW0rthy#',\n",
    "                              host='127.0.0.1',\n",
    "                              database='SurveyData')\n",
    "\n",
    "cursor = cnx.cursor()\n",
    "\n",
    "DB_NAME = 'SurveyData'\n",
    "\n",
    "request = 'DROP TABLE EllipticalStellarMasses'\n",
    "    \n",
    "makeSQLrequest(True,cursor,request)\n",
    "    \n",
    "request = 'CREATE TABLE EllipticalStellarMasses \\\n",
    "           SELECT sm.* FROM StellarMasses AS sm LEFT JOIN EllipticalGalaxies AS eg \\\n",
    "           ON sm.CATAID = eg.CATAID'\n",
    "           \n",
    "print(request)    \n",
    "makeSQLrequest(True,cursor, request)\n",
    "cnx.commit()\n",
    "\n",
    "request = 'SELECT CATAID FROM EllipticalStellarMasses'\n",
    "makeSQLrequest(True,cursor, request)\n",
    "\n",
    "records = cursor.fetchall()\n",
    "print(\"Total number of rows in EllipticalStellarMasses is: \", cursor.rowcount)\n",
    "\n"
   ]
  },
  {
   "cell_type": "code",
   "execution_count": null,
   "metadata": {},
   "outputs": [],
   "source": []
  }
 ],
 "metadata": {
  "kernelspec": {
   "display_name": "Python 3",
   "language": "python",
   "name": "python3"
  },
  "language_info": {
   "codemirror_mode": {
    "name": "ipython",
    "version": 3
   },
   "file_extension": ".py",
   "mimetype": "text/x-python",
   "name": "python",
   "nbconvert_exporter": "python",
   "pygments_lexer": "ipython3",
   "version": "3.7.3"
  }
 },
 "nbformat": 4,
 "nbformat_minor": 2
}
