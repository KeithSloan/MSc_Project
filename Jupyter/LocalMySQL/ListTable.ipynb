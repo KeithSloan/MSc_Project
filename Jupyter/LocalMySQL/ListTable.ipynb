{
 "cells": [
  {
   "cell_type": "code",
   "execution_count": 5,
   "metadata": {
    "scrolled": true
   },
   "outputs": [
    {
     "name": "stdout",
     "output_type": "stream",
     "text": [
      "OK\n",
      "Total number of rows in StellarMasses IS 3\n",
      "\n",
      "Printing each Row\n",
      "Col0 =  6802\n",
      "Col1 =  0\n",
      "Col2 =  4\n",
      "Col3 =  5 \n",
      "\n",
      "Col0 =  6806\n",
      "Col1 =  0\n",
      "Col2 =  4\n",
      "Col3 =  5 \n",
      "\n",
      "Col0 =  6808\n",
      "Col1 =  0\n",
      "Col2 =  4\n",
      "Col3 =  5 \n",
      "\n",
      "End of File\n"
     ]
    }
   ],
   "source": [
    "# List Table\n",
    "from __future__ import print_function\n",
    "\n",
    "def makeSQLrequest(cursor,request) :\n",
    "    try:\n",
    "        cursor.execute(request)\n",
    "    except mysql.connector.Error as err:\n",
    "        if err.errno == errorcode.ER_TABLE_EXISTS_ERROR:\n",
    "            print(\"already exists.\")\n",
    "        else:\n",
    "            print(err.msg)\n",
    "    else:\n",
    "        print('OK')\n",
    "\n",
    "import mysql.connector\n",
    "\n",
    "cnx = mysql.connector.connect(user='keith', password='kjhW0rthy#',\n",
    "                              host='127.0.0.1',\n",
    "                              database='SurveyData')\n",
    "\n",
    "cursor = cnx.cursor()\n",
    "\n",
    "DB_NAME = 'SurveyData'\n",
    "\n",
    "TABLE_NAME = 'StellarMasses'\n",
    "\n",
    "request = 'SELECT * FROM  '+TABLE_NAME        \n",
    "makeSQLrequest(cursor,request)        \n",
    "\n",
    "records = cursor.fetchall()\n",
    "print(\"Total number of rows in \"+TABLE_NAME+\" IS \"+str(cursor.rowcount))\n",
    "\n",
    "print(\"\\nPrinting each Row\")\n",
    "for row in records:\n",
    "    print(\"Col0 = \", row[0], )\n",
    "    print(\"Col1 = \", row[1])\n",
    "    print(\"Col2 = \", row[2])\n",
    "    print(\"Col3 = \", row[3], \"\\n\")\n",
    "\n",
    "if (cnx.is_connected()):\n",
    "    cnx.close()\n",
    "print(\"End of File\")"
   ]
  },
  {
   "cell_type": "code",
   "execution_count": null,
   "metadata": {},
   "outputs": [],
   "source": []
  }
 ],
 "metadata": {
  "kernelspec": {
   "display_name": "Python 3",
   "language": "python",
   "name": "python3"
  },
  "language_info": {
   "codemirror_mode": {
    "name": "ipython",
    "version": 3
   },
   "file_extension": ".py",
   "mimetype": "text/x-python",
   "name": "python",
   "nbconvert_exporter": "python",
   "pygments_lexer": "ipython3",
   "version": "3.7.3"
  }
 },
 "nbformat": 4,
 "nbformat_minor": 2
}
