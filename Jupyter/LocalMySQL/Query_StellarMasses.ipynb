{
 "cells": [
  {
   "cell_type": "code",
   "execution_count": 8,
   "metadata": {
    "scrolled": true
   },
   "outputs": [
    {
     "data": {
      "text/html": [
       "<i>Table length=5</i>\n",
       "<table id=\"table139649796546800\" class=\"table-striped table-bordered table-condensed\">\n",
       "<thead><tr><th>CATAID</th><th>Z</th><th>nQ</th><th>SURVEY_CODE</th><th>SURVEY_CLASS</th><th>Z_TONRY</th><th>fluxscale</th><th>zmax_19p8</th><th>zmax_19p4</th><th>zmax_19p0</th><th>zmax_17p8</th><th>nbands</th><th>S2N</th><th>PPP</th><th>logmstar</th><th>dellogmstar</th><th>logmoverl_i</th><th>dellogmoverl_i</th><th>logage</th><th>dellogage</th><th>logtau</th><th>dellogtau</th><th>logmintsfh</th><th>dellogmintsfh</th><th>logmremnants</th><th>dellogmremnants</th><th>metal</th><th>delmetal</th><th>extBV</th><th>delextBV</th><th>logLWage</th><th>dellogLWage</th><th>gminusi</th><th>delgminusi</th><th>uminusr</th><th>deluminusr</th><th>gminusi_stars</th><th>uminusr_stars</th><th>C_logM_ur</th><th>C_logM_gi</th><th>C_logM_eBV</th><th>fitphot_u</th><th>delfitphot_u</th><th>absmag_u</th><th>delabsmag_u</th><th>absmag_u_stars</th><th>fitphot_g</th><th>delfitphot_g</th><th>absmag_g</th><th>delabsmag_g</th><th>absmag_g_stars</th><th>fitphot_r</th><th>delfitphot_r</th><th>absmag_r</th><th>delabsmag_r</th><th>absmag_r_stars</th><th>fitphot_i</th><th>delfitphot_i</th><th>absmag_i</th><th>delabsmag_i</th><th>absmag_i_stars</th><th>fitphot_z</th><th>delfitphot_z</th><th>absmag_z</th><th>delabsmag_z</th><th>absmag_z_stars</th><th>fitphot_X</th><th>delfitphot_X</th><th>absmag_X</th><th>delabsmag_X</th><th>absmag_X_stars</th><th>fitphot_Y</th><th>delfitphot_Y</th><th>absmag_Y</th><th>delabsmag_Y</th><th>absmag_Y_stars</th><th>fitphot_J</th><th>delfitphot_J</th><th>absmag_J</th><th>delabsmag_J</th><th>absmag_J_stars</th><th>fitphot_H</th><th>delfitphot_H</th><th>absmag_H</th><th>delabsmag_H</th><th>absmag_H_stars</th><th>fitphot_K</th><th>delfitphot_K</th><th>absmag_K</th><th>delabsmag_K</th><th>absmag_K_stars</th><th>URL_PNG</th></tr></thead>\n",
       "<thead><tr><th>int16</th><th>float32</th><th>int16</th><th>int16</th><th>int16</th><th>float64</th><th>float64</th><th>float64</th><th>float64</th><th>float64</th><th>float64</th><th>float32</th><th>float32</th><th>float64</th><th>float32</th><th>float64</th><th>float32</th><th>float64</th><th>float32</th><th>float64</th><th>float32</th><th>float64</th><th>float32</th><th>float64</th><th>float32</th><th>float64</th><th>float64</th><th>float64</th><th>float64</th><th>float64</th><th>float32</th><th>float64</th><th>float64</th><th>float64</th><th>float32</th><th>float64</th><th>float64</th><th>float32</th><th>float64</th><th>float64</th><th>float64</th><th>float32</th><th>float64</th><th>float32</th><th>float64</th><th>float32</th><th>float32</th><th>float64</th><th>float32</th><th>float64</th><th>float32</th><th>float32</th><th>float64</th><th>float32</th><th>float64</th><th>float32</th><th>float32</th><th>float64</th><th>float32</th><th>float64</th><th>float32</th><th>float32</th><th>float64</th><th>float32</th><th>float64</th><th>float32</th><th>float32</th><th>float64</th><th>float32</th><th>float64</th><th>float32</th><th>float32</th><th>float64</th><th>float32</th><th>float64</th><th>float32</th><th>float32</th><th>float64</th><th>float32</th><th>float64</th><th>float32</th><th>float32</th><th>float64</th><th>float32</th><th>float64</th><th>float32</th><th>float32</th><th>float64</th><th>float32</th><th>float64</th><th>float32</th><th>str81</th></tr></thead>\n",
       "<tr><td>6802</td><td>0.05054</td><td>4</td><td>5</td><td>6</td><td>0.0518138</td><td>0.978048</td><td>0.0861457</td><td>0.0725943</td><td>0.0610938</td><td>0.0530892</td><td>5.99077</td><td>39.4596</td><td>0.792386</td><td>9.07603</td><td>0.131666</td><td>1.67212</td><td>0.141129</td><td>9.73361</td><td>0.251961</td><td>9.7951</td><td>0.174241</td><td>9.32565</td><td>0.153316</td><td>8.28917</td><td>0.225013</td><td>0.0175577</td><td>0.00957065</td><td>0.128447</td><td>0.0978917</td><td>9.13797</td><td>0.367253</td><td>0.714898</td><td>0.0475965</td><td>1.40314</td><td>0.101319</td><td>0.464892</td><td>1.08218</td><td>0.445653</td><td>0.409323</td><td>-0.817082</td><td>20.1057</td><td>0.0872132</td><td>-16.7821</td><td>0.075719</td><td>-17.7573</td><td>19.1223</td><td>0.0351498</td><td>-17.74</td><td>0.0299881</td><td>-18.4656</td><td>18.6489</td><td>0.0208002</td><td>-18.1818</td><td>0.0200595</td><td>-18.6994</td><td>18.378</td><td>0.015726</td><td>-18.4545</td><td>0.0145847</td><td>-18.8533</td><td>18.1423</td><td>0.017937</td><td>-18.6774</td><td>0.0218366</td><td>-18.9865</td><td>18.1626</td><td>0.0172496</td><td>-18.6514</td><td>0.021017</td><td>-18.9686</td><td>17.9692</td><td>0.0324245</td><td>-18.8438</td><td>0.0444991</td><td>-19.094</td><td>17.8501</td><td>0.0611335</td><td>-18.9412</td><td>0.0668802</td><td>-19.1213</td><td>17.6578</td><td>0.0807515</td><td>-19.1435</td><td>0.0890906</td><td>-19.251</td><td>17.7552</td><td>0.110668</td><td>-18.9593</td><td>0.120186</td><td>-18.9998</td><td>http://www.gama-survey.org/dr3/data/files/StellarMasses/v19/ap/0006802_sed_ap.png</td></tr>\n",
       "<tr><td>6806</td><td>0.33124</td><td>4</td><td>5</td><td>6</td><td>0.332854</td><td>1.02357</td><td>0.497596</td><td>0.443853</td><td>0.390736</td><td>0.33447</td><td>5.97906</td><td>41.2577</td><td>0.527576</td><td>10.9792</td><td>0.0991659</td><td>1.71844</td><td>0.102183</td><td>9.73226</td><td>0.185493</td><td>9.70157</td><td>0.228172</td><td>11.237</td><td>0.114934</td><td>10.2233</td><td>0.170384</td><td>0.0085435</td><td>0.00726704</td><td>0.157169</td><td>0.0902158</td><td>9.25334</td><td>0.261045</td><td>0.781605</td><td>0.0409182</td><td>1.58023</td><td>0.0742262</td><td>0.477076</td><td>1.18858</td><td>0.319481</td><td>0.443921</td><td>-0.488489</td><td>20.2723</td><td>0.129096</td><td>-21.2584</td><td>0.0510782</td><td>-22.3546</td><td>19.6021</td><td>0.0511004</td><td>-22.3401</td><td>0.0223698</td><td>-23.1764</td><td>18.577</td><td>0.022902</td><td>-22.8372</td><td>0.0180519</td><td>-23.4461</td><td>18.2207</td><td>0.0184459</td><td>-23.1216</td><td>0.017254</td><td>-23.595</td><td>17.9472</td><td>0.0175361</td><td>-23.3338</td><td>0.027745</td><td>-23.703</td><td>17.9731</td><td>0.0179657</td><td>-23.3125</td><td>0.0262627</td><td>-23.6909</td><td>17.7414</td><td>0.0173243</td><td>-23.4689</td><td>0.0545541</td><td>-23.7688</td><td>17.514</td><td>0.0358059</td><td>-23.5498</td><td>0.0818914</td><td>-23.7653</td><td>17.3634</td><td>0.0795643</td><td>-23.7296</td><td>0.116969</td><td>-23.8582</td><td>17.1779</td><td>0.11386</td><td>-23.5281</td><td>0.145272</td><td>-23.5763</td><td>http://www.gama-survey.org/dr3/data/files/StellarMasses/v19/ap/0006806_sed_ap.png</td></tr>\n",
       "<tr><td>6808</td><td>0.22936</td><td>4</td><td>5</td><td>6</td><td>0.230851</td><td>0.968585</td><td>0.324793</td><td>0.283893</td><td>0.246871</td><td>0.232343</td><td>6.29743</td><td>38.4905</td><td>0.602612</td><td>10.7916</td><td>0.0981161</td><td>1.93857</td><td>0.100404</td><td>9.84259</td><td>0.141759</td><td>9.09017</td><td>0.463165</td><td>11.077</td><td>0.108343</td><td>10.1552</td><td>0.149824</td><td>0.00523789</td><td>0.00420924</td><td>0.103443</td><td>0.0929872</td><td>9.7027</td><td>0.195297</td><td>1.04703</td><td>0.0525198</td><td>2.12352</td><td>0.0933937</td><td>0.850034</td><td>1.86662</td><td>0.10222</td><td>0.629151</td><td>0.150968</td><td>21.486</td><td>0.230998</td><td>-19.6376</td><td>0.0760893</td><td>-20.4452</td><td>19.9669</td><td>0.0685366</td><td>-21.0564</td><td>0.0336827</td><td>-21.6372</td><td>18.8147</td><td>0.032498</td><td>-21.7576</td><td>0.0182796</td><td>-22.1771</td><td>18.3481</td><td>0.0193918</td><td>-22.1029</td><td>0.0149322</td><td>-22.4283</td><td>18.0318</td><td>0.0145133</td><td>-22.3257</td><td>0.0219304</td><td>-22.5784</td><td>18.0579</td><td>0.0147925</td><td>-22.3049</td><td>0.0229731</td><td>-22.5644</td><td>17.8282</td><td>0.0184366</td><td>-22.4517</td><td>0.0334055</td><td>-22.6553</td><td>17.6342</td><td>0.032836</td><td>-22.5255</td><td>0.0503624</td><td>-22.6716</td><td>17.5217</td><td>0.0553054</td><td>-22.6968</td><td>0.0742332</td><td>-22.783</td><td>17.4009</td><td>0.0822273</td><td>-22.4586</td><td>0.0977614</td><td>-22.4907</td><td>http://www.gama-survey.org/dr3/data/files/StellarMasses/v19/ap/0006808_sed_ap.png</td></tr>\n",
       "<tr><td>6810</td><td>0.3263</td><td>4</td><td>5</td><td>6</td><td>0.327908</td><td>1.02992</td><td>0.403599</td><td>0.358659</td><td>0.329517</td><td>0.329517</td><td>5.98646</td><td>39.4572</td><td>0.658824</td><td>11.1197</td><td>0.0961359</td><td>1.93986</td><td>0.100083</td><td>9.77507</td><td>0.161527</td><td>9.44149</td><td>0.381685</td><td>11.3896</td><td>0.108951</td><td>10.4136</td><td>0.157553</td><td>0.00999989</td><td>0.00951232</td><td>0.213611</td><td>0.128855</td><td>9.47198</td><td>0.249714</td><td>1.10965</td><td>0.0499289</td><td>2.11887</td><td>0.11356</td><td>0.699303</td><td>1.58708</td><td>0.14156</td><td>0.473089</td><td>-0.122883</td><td>21.549</td><td>0.31801</td><td>-20.4149</td><td>0.0790148</td><td>-22.0161</td><td>20.4057</td><td>0.0880854</td><td>-21.8113</td><td>0.0288867</td><td>-22.9927</td><td>19.0724</td><td>0.0312591</td><td>-22.5301</td><td>0.0240581</td><td>-23.3838</td><td>18.5464</td><td>0.0284894</td><td>-22.9206</td><td>0.0177057</td><td>-23.5842</td><td>18.1642</td><td>0.0192132</td><td>-23.206</td><td>0.0303174</td><td>-23.7226</td><td>18.2</td><td>0.0200633</td><td>-23.177</td><td>0.0303207</td><td>-23.7073</td><td>17.8889</td><td>0.0174153</td><td>-23.3924</td><td>0.0570468</td><td>-23.81</td><td>17.5835</td><td>0.0381811</td><td>-23.5264</td><td>0.0861468</td><td>-23.827</td><td>17.3539</td><td>0.0844227</td><td>-23.7628</td><td>0.119475</td><td>-23.9421</td><td>17.1102</td><td>0.116953</td><td>-23.597</td><td>0.154932</td><td>-23.6642</td><td>http://www.gama-survey.org/dr3/data/files/StellarMasses/v19/ap/0006810_sed_ap.png</td></tr>\n",
       "<tr><td>6813</td><td>0.48457</td><td>4</td><td>5</td><td>6</td><td>0.48637</td><td>1.01326</td><td>0.566389</td><td>0.508168</td><td>0.488173</td><td>0.488173</td><td>6.18662</td><td>38.3518</td><td>0.382035</td><td>11.0613</td><td>0.0961739</td><td>1.64057</td><td>0.0961305</td><td>9.67202</td><td>0.181531</td><td>9.68057</td><td>0.243659</td><td>11.3149</td><td>0.11191</td><td>10.2855</td><td>0.167136</td><td>0.00701188</td><td>0.00544256</td><td>0.132916</td><td>0.081135</td><td>9.19454</td><td>0.246121</td><td>0.702134</td><td>0.0429607</td><td>1.48767</td><td>0.0705842</td><td>0.444379</td><td>1.1565</td><td>0.399185</td><td>0.493036</td><td>-0.403422</td><td>20.6526</td><td>0.137317</td><td>-21.7844</td><td>0.0488631</td><td>-22.7093</td><td>20.2597</td><td>0.0724909</td><td>-22.822</td><td>0.0210836</td><td>-23.5255</td><td>19.2302</td><td>0.034869</td><td>-23.2707</td><td>0.0166932</td><td>-23.7833</td><td>18.8057</td><td>0.0189118</td><td>-23.524</td><td>0.0183285</td><td>-23.9232</td><td>18.5206</td><td>0.0166066</td><td>-23.7104</td><td>0.0305796</td><td>-24.0227</td><td>18.5392</td><td>0.0167045</td><td>-23.6915</td><td>0.0289612</td><td>-24.0113</td><td>18.351</td><td>0.017039</td><td>-23.827</td><td>0.0532947</td><td>-24.082</td><td>18.1048</td><td>0.0250918</td><td>-23.8911</td><td>0.0781404</td><td>-24.0748</td><td>17.9135</td><td>0.0626159</td><td>-24.0506</td><td>0.111164</td><td>-24.1606</td><td>17.7918</td><td>0.0915819</td><td>-23.8334</td><td>0.14097</td><td>-23.8749</td><td>http://www.gama-survey.org/dr3/data/files/StellarMasses/v19/ap/0006813_sed_ap.png</td></tr>\n",
       "</table>"
      ],
      "text/plain": [
       "<Table length=5>\n",
       "CATAID ...\n",
       "int16  ...\n",
       "------ ...\n",
       "  6802 ...\n",
       "  6806 ...\n",
       "  6808 ...\n",
       "  6810 ...\n",
       "  6813 ..."
      ]
     },
     "execution_count": 8,
     "metadata": {},
     "output_type": "execute_result"
    }
   ],
   "source": [
    "from astroquery.gama import GAMA\n",
    "GAMA.query_sql('SELECT * FROM StellarMasses LIMIT 5')\n"
   ]
  },
  {
   "cell_type": "code",
   "execution_count": null,
   "metadata": {},
   "outputs": [],
   "source": []
  },
  {
   "cell_type": "code",
   "execution_count": null,
   "metadata": {},
   "outputs": [],
   "source": []
  }
 ],
 "metadata": {
  "kernelspec": {
   "display_name": "Python 3",
   "language": "python",
   "name": "python3"
  },
  "language_info": {
   "codemirror_mode": {
    "name": "ipython",
    "version": 3
   },
   "file_extension": ".py",
   "mimetype": "text/x-python",
   "name": "python",
   "nbconvert_exporter": "python",
   "pygments_lexer": "ipython3",
   "version": "3.7.3"
  }
 },
 "nbformat": 4,
 "nbformat_minor": 2
}
