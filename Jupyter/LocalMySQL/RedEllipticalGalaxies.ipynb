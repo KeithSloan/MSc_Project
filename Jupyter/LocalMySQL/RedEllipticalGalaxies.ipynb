{
 "cells": [
  {
   "cell_type": "code",
   "execution_count": 12,
   "metadata": {
    "scrolled": true
   },
   "outputs": [
    {
     "name": "stdout",
     "output_type": "stream",
     "text": [
      "SELECT * FROM VisualMorphologyV01 LEFT JOIN TAB2 WHERE VisualMorphologyV01.CATAID = TAB2.CATID AND \n"
     ]
    }
   ],
   "source": [
    "# Select Elliptical Galaxies\n",
    "from __future__ import print_function\n",
    "import re\n",
    "\n",
    "table1 = 'VisualMorphologyV01'\n",
    "table2 = 'TAB2'\n",
    "\n",
    "columns = '*'\n",
    "\n",
    "import mysql.connector\n",
    "from mysql.connector import errorcode\n",
    "\n",
    "class switch(object):\n",
    "    value = None\n",
    "    def __new__(class_, value):\n",
    "        class_.value = value\n",
    "        return True\n",
    "\n",
    "def case(*args):\n",
    "    return any((arg == switch.value for arg in args))\n",
    "\n",
    "\n",
    "def makeSQLrequest(cursor,request) :\n",
    "    try:\n",
    "        print('Making SQLrequest : '+request)\n",
    "        cursor.execute(request)\n",
    "    except mysql.connector.Error as err:\n",
    "        if err.errno == errorcode.ER_TABLE_EXISTS_ERROR:\n",
    "            print(\"already exists.\")\n",
    "        else:\n",
    "            print(err.msg)\n",
    "    else:\n",
    "        print('OK')\n",
    "        \n",
    "cnx = mysql.connector.connect(user='keith', password='kjhW0rthy#',\n",
    "                              host='127.0.0.1',\n",
    "                              database='SurveyData')\n",
    "\n",
    "cursor = cnx.cursor()\n",
    "\n",
    "DB_NAME = 'SurveyData'\n",
    "\n",
    "#request = 'DROP TABLE '+table\n",
    "    \n",
    "#makeSQLrequest(cursor,request)\n",
    "    \n",
    "request = 'SELECT '+columns+' FROM '+table1+' LEFT JOIN '+table2+' WHERE ' \\\n",
    "         +table1+'.CATAID = '+table2+'.CATID AND ' \\\n",
    "          +table1+'.ELLIPTICAL_CODE = 1 \\\n",
    "\n",
    "print(request)    \n",
    "#makeSQLrequest(cursor, request)\n",
    "#cnx.commit()\n"
   ]
  },
  {
   "cell_type": "code",
   "execution_count": null,
   "metadata": {},
   "outputs": [],
   "source": []
  }
 ],
 "metadata": {
  "kernelspec": {
   "display_name": "Python 3",
   "language": "python",
   "name": "python3"
  },
  "language_info": {
   "codemirror_mode": {
    "name": "ipython",
    "version": 3
   },
   "file_extension": ".py",
   "mimetype": "text/x-python",
   "name": "python",
   "nbconvert_exporter": "python",
   "pygments_lexer": "ipython3",
   "version": "3.7.3"
  }
 },
 "nbformat": 4,
 "nbformat_minor": 2
}
