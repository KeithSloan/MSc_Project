{
 "cells": [
  {
   "cell_type": "code",
   "execution_count": 9,
   "metadata": {
    "scrolled": true
   },
   "outputs": [
    {
     "name": "stdout",
     "output_type": "stream",
     "text": [
      "Making SQLrequest : DROP TABLE RedEllipticalGalaxies\n",
      "Unknown table 'SurveyData.RedEllipticalGalaxies'\n",
      "Making SQLrequest : CREATE TABLE RedEllipticalGalaxies            SELECT  CATAID            FROM EllipticalGalaxies as eg             LEFT JOIN StellaMasses as sm ON eg.CATAID = sm.CATAID            WHERE sm.uminusr > 2\n",
      "Table 'SurveyData.StellaMasses' doesn't exist\n"
     ]
    }
   ],
   "source": [
    "# Create Table of Red Ellipticals\n",
    "from __future__ import print_function\n",
    "import re\n",
    "\n",
    "\n",
    "import mysql.connector\n",
    "from mysql.connector import errorcode\n",
    "\n",
    "class switch(object):\n",
    "    value = None\n",
    "    def __new__(class_, value):\n",
    "        class_.value = value\n",
    "        return True\n",
    "\n",
    "def case(*args):\n",
    "    return any((arg == switch.value for arg in args))\n",
    "\n",
    "\n",
    "def makeSQLrequest(cursor,request) :\n",
    "    try:\n",
    "        print('Making SQLrequest : '+request)\n",
    "        cursor.execute(request)\n",
    "    except mysql.connector.Error as err:\n",
    "        if err.errno == errorcode.ER_TABLE_EXISTS_ERROR:\n",
    "            print(\"already exists.\")\n",
    "        else:\n",
    "            print(err.msg)\n",
    "    else:\n",
    "        print('OK')\n",
    "        \n",
    "cnx = mysql.connector.connect(user='keith', password='kjhW0rthy#',\n",
    "                              host='127.0.0.1',\n",
    "                              database='SurveyData')\n",
    "\n",
    "cursor = cnx.cursor()\n",
    "\n",
    "DB_NAME = 'SurveyData'\n",
    "\n",
    "request = 'DROP TABLE '+'RedEllipticalGalaxies'\n",
    "    \n",
    "makeSQLrequest(cursor,request)\n",
    "    \n",
    "request = 'CREATE TABLE RedEllipticalGalaxies \\\n",
    "           SELECT  CATAID \\\n",
    "           FROM EllipticalGalaxies as eg  \\\n",
    "           LEFT JOIN StellaMasses as sm ON eg.CATAID = sm.CATAID \\\n",
    "           WHERE sm.uminusr > 2'    \n",
    "    \n",
    "    \n",
    "#request = 'INSERT INTO `EllipticalGalaxies` SELECT * FROM '+table+ \\\n",
    "#          ' WHERE ELLIPTICAL = Elliptical OR ELLIPTICAL_CODe = 1'\n",
    "makeSQLrequest(cursor, request)\n",
    "cnx.commit()\n"
   ]
  },
  {
   "cell_type": "code",
   "execution_count": null,
   "metadata": {},
   "outputs": [],
   "source": []
  },
  {
   "cell_type": "code",
   "execution_count": null,
   "metadata": {},
   "outputs": [],
   "source": []
  }
 ],
 "metadata": {
  "kernelspec": {
   "display_name": "Python 3",
   "language": "python",
   "name": "python3"
  },
  "language_info": {
   "codemirror_mode": {
    "name": "ipython",
    "version": 3
   },
   "file_extension": ".py",
   "mimetype": "text/x-python",
   "name": "python",
   "nbconvert_exporter": "python",
   "pygments_lexer": "ipython3",
   "version": "3.7.3"
  }
 },
 "nbformat": 4,
 "nbformat_minor": 2
}
