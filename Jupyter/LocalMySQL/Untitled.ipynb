{
 "cells": [
  {
   "cell_type": "code",
   "execution_count": null,
   "metadata": {},
   "outputs": [],
   "source": [
    "        return True\n",
    "\n",
    "def case(*args):\n",
    "    return any((arg == switch.value for arg in args))\n",
    "\n",
    "\n",
    "def makeSQLrequest(cursor,request) :\n",
    "    try:\n",
    "        print('Making SQLrequest : '+request)\n",
    "        cursor.execute(request)\n",
    "    except mysql.connector.Error as err:\n",
    "        if err.errno == errorcode.ER_TABLE_EXISTS_ERROR:\n",
    "            print(\"already exists.\")\n",
    "        else:\n",
    "            print(err.msg)\n",
    "    else:\n",
    "        print('OK')\n",
    "\n",
    "def createAndLoadTable(cursor,tableFile) :\n",
    "\n",
    "    fd = open(tableFile,'r')\n",
    "    fp = open(tableFile + '.par','r')\n",
    "    #\n",
    "Type  :qa!  and press <E...all changes and exit Vim           34,8          12%\n"
   ]
  }
 ],
 "metadata": {
  "kernelspec": {
   "display_name": "Python 3",
   "language": "python",
   "name": "python3"
  },
  "language_info": {
   "codemirror_mode": {
    "name": "ipython",
    "version": 3
   },
   "file_extension": ".py",
   "mimetype": "text/x-python",
   "name": "python",
   "nbconvert_exporter": "python",
   "pygments_lexer": "ipython3",
   "version": "3.7.3"
  }
 },
 "nbformat": 4,
 "nbformat_minor": 2
}
