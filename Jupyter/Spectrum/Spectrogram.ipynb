{
 "cells": [
  {
   "cell_type": "code",
   "execution_count": null,
   "metadata": {},
   "outputs": [],
   "source": []
  },
  {
   "cell_type": "code",
   "execution_count": 1,
   "metadata": {},
   "outputs": [
    {
     "name": "stderr",
     "output_type": "stream",
     "text": [
      "/home/keith/miniconda3/lib/python3.7/site-packages/scipy/io/wavfile.py:273: WavFileWarning: Chunk (non-data) not understood, skipping it.\n",
      "  WavFileWarning)\n"
     ]
    },
    {
     "name": "stdout",
     "output_type": "stream",
     "text": [
      "Duration: 7.116961451247166\n",
      "W: 4096\n",
      "ws: 128\n",
      "Computing 1226 TFs\n",
      "done\n"
     ]
    }
   ],
   "source": [
    "##############################################\n",
    "# Example\n",
    "# --------\n",
    "#\n",
    "# In the following example, we compute and plot a spectrogram\n",
    "# from a signal emitted by a dolphin to see the time-frequency components\n",
    "#\n",
    "from spectrum import Spectrogram, dolphin_filename, readwav\n",
    "data, samplerate = readwav(dolphin_filename)\n",
    "\n",
    "p = Spectrogram(data, ws=128, W=4096, sampling=samplerate)\n",
    "p.periodogram()\n",
    "p.plot()\n"
   ]
  }
 ],
 "metadata": {
  "kernelspec": {
   "display_name": "Python 3",
   "language": "python",
   "name": "python3"
  },
  "language_info": {
   "codemirror_mode": {
    "name": "ipython",
    "version": 3
   },
   "file_extension": ".py",
   "mimetype": "text/x-python",
   "name": "python",
   "nbconvert_exporter": "python",
   "pygments_lexer": "ipython3",
   "version": "3.7.3"
  }
 },
 "nbformat": 4,
 "nbformat_minor": 2
}
