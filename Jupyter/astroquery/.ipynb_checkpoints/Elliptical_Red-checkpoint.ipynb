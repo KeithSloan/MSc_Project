{
 "cells": [
  {
   "cell_type": "code",
   "execution_count": 27,
   "metadata": {},
   "outputs": [
    {
     "name": "stdout",
     "output_type": "stream",
     "text": [
      "CATAID ELLIPTICAL_CODE    r_flux    r_fluxerr \n",
      "------ --------------- ----------- -----------\n",
      "  6802              10  0.00012363 9.46886e-07\n",
      "  6808               0 0.000104151  5.0694e-06\n",
      "  6816              10 4.42925e-05 2.12514e-06\n",
      "  6821              10  0.00340876 7.98919e-05\n",
      "  6826               2 0.000331427 2.28169e-06\n",
      "  6837              10 0.000247654 4.02749e-05\n",
      "  6838              10 2.40976e-05 5.76724e-05\n",
      "  6842              10 0.000138463 5.62084e-06\n",
      "  6844               1 0.000442676 6.32923e-06\n",
      "  6846              10 0.000299419 2.25932e-06\n",
      "   ...             ...         ...         ...\n",
      "  7192               0 0.000106941 2.68358e-06\n",
      "  7203               1 0.000305129 2.83561e-06\n",
      "  7206              10 0.000779699 4.18002e-06\n",
      "  7209               1  0.00106137 6.66761e-06\n",
      "  7211               0  0.00010416 9.74246e-07\n",
      "  7246              10 9.43641e-05 1.51755e-06\n",
      "  7289               1  0.00184917 1.25225e-05\n",
      "  7290               0 0.000126707 1.13165e-06\n",
      "  7293              10 0.000116813 1.19536e-05\n",
      "  7307               0 0.000155322 2.10016e-06\n",
      "  7311               0 0.000109735 1.50101e-06\n",
      "Length = 50 rows\n"
     ]
    }
   ],
   "source": [
    "#\n",
    "# Cannot just use red Flux have to use difference between two filters\n",
    "#\n",
    "import numpy as np\n",
    "import scipy.stats as st\n",
    "from astroquery.gama import GAMA\n",
    "import matplotlib.pyplot as plt\n",
    "\n",
    "line1 = 'SELECT LC.CATAID,VM.ELLIPTICAL_CODE, r_flux,r_fluxerr FROM LambdarCat as LC'\n",
    "line2 = ' JOIN VisualMorphology as VM'\n",
    "line3 = ' ON LC.CATAID = VM.CATAID'\n",
    "line4 = ' WHERE VM.ELLIPTICAL_CODE = 1 AND (VM.HUBBLE_TYPE is NULL or VM.HUBBLE_TYPE = \"E\" )' \n",
    "line5 = ' LIMIT 50' \n",
    "query = line1 + line2 + line3 + line5\n",
    "result = GAMA.query_sql(query)\n",
    "print(result)\n",
    "\n",
    "\n",
    "\n",
    "\n"
   ]
  },
  {
   "cell_type": "code",
   "execution_count": null,
   "metadata": {},
   "outputs": [],
   "source": []
  },
  {
   "cell_type": "code",
   "execution_count": null,
   "metadata": {},
   "outputs": [],
   "source": []
  }
 ],
 "metadata": {
  "kernelspec": {
   "display_name": "Python 3",
   "language": "python",
   "name": "python3"
  },
  "language_info": {
   "codemirror_mode": {
    "name": "ipython",
    "version": 3
   },
   "file_extension": ".py",
   "mimetype": "text/x-python",
   "name": "python",
   "nbconvert_exporter": "python",
   "pygments_lexer": "ipython3",
   "version": "3.7.3"
  }
 },
 "nbformat": 4,
 "nbformat_minor": 2
}
