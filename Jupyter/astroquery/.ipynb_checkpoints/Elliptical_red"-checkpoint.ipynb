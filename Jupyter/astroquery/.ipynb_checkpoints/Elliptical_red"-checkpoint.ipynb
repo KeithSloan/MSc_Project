{
 "cells": [
  {
   "cell_type": "code",
   "execution_count": 17,
   "metadata": {},
   "outputs": [
    {
     "name": "stdout",
     "output_type": "stream",
     "text": [
      "CATAID ELLIPTICAL ELLIPTICAL_CODE HUBBLE_TYPE\n",
      "------ ---------- --------------- -----------\n",
      "  7839 Elliptical               1           E\n",
      "  8450 Elliptical               1           E\n",
      "  8487 Elliptical               1           E\n",
      "  8488 Elliptical               1           E\n",
      " 15317 Elliptical               1           E\n",
      " 15481 Elliptical               1           E\n",
      " 16022 Elliptical               1           E\n",
      " 16392 Elliptical               1           E\n",
      " 16507 Elliptical               1           E\n",
      " 16514 Elliptical               1           E\n",
      "   ...        ...             ...         ...\n",
      " 65410 Elliptical               1           E\n",
      " 70808 Elliptical               1           E\n",
      " 70903 Elliptical               1           E\n",
      " 77064 Elliptical               1           E\n",
      " 77238 Elliptical               1           E\n",
      " 77345 Elliptical               1           E\n",
      " 77610 Elliptical               1           E\n",
      " 77705 Elliptical               1           E\n",
      " 78350 Elliptical               1           E\n",
      " 78522 Elliptical               1           E\n",
      " 78530 Elliptical               1           E\n",
      "Length = 50 rows\n"
     ]
    }
   ],
   "source": [
    "#\n",
    "#\n",
    "#\n",
    "import numpy as np\n",
    "import scipy.stats as st\n",
    "from astroquery.gama import GAMA\n",
    "import matplotlib.pyplot as plt\n",
    "\n",
    "line1 = 'SELECT CATAID,ELLIPTICAL,ELLIPTICAL_CODE,HUBBLE_TYPE FROM VisualMorphology'\n",
    "line2 = ' WHERE ELLIPTICAL_CODE = 1 AND ( HUBBLE_TYPE is NULL or HUBBLE_TYPE = \"E\" )' \n",
    "line3 = ' LIMIT 50' \n",
    "query = line1 + line2+line3\n",
    "result = GAMA.query_sql(query)\n",
    "print(result)\n",
    "\n",
    "\n",
    "\n",
    "\n"
   ]
  },
  {
   "cell_type": "code",
   "execution_count": null,
   "metadata": {},
   "outputs": [],
   "source": []
  },
  {
   "cell_type": "code",
   "execution_count": null,
   "metadata": {},
   "outputs": [],
   "source": []
  }
 ],
 "metadata": {
  "kernelspec": {
   "display_name": "Python 3",
   "language": "python",
   "name": "python3"
  },
  "language_info": {
   "codemirror_mode": {
    "name": "ipython",
    "version": 3
   },
   "file_extension": ".py",
   "mimetype": "text/x-python",
   "name": "python",
   "nbconvert_exporter": "python",
   "pygments_lexer": "ipython3",
   "version": "3.7.3"
  }
 },
 "nbformat": 4,
 "nbformat_minor": 2
}
