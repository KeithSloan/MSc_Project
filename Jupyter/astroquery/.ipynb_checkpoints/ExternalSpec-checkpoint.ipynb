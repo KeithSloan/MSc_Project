{
 "cells": [
  {
   "cell_type": "code",
   "execution_count": 1,
   "metadata": {},
   "outputs": [
    {
     "name": "stderr",
     "output_type": "stream",
     "text": [
      "WARNING: AstropyDeprecationWarning: astropy.extern.six will be removed in 4.0, use the six module directly if it is still needed [astropy.extern.six]\n"
     ]
    }
   ],
   "source": [
    "from astroquery.gama import GAMA\n",
    "result = GAMA.query_sql('SELECT * FROM ExternalSpec LIMIT 20')"
   ]
  },
  {
   "cell_type": "code",
   "execution_count": 2,
   "metadata": {},
   "outputs": [
    {
     "name": "stdout",
     "output_type": "stream",
     "text": [
      "       SPECID       SURVEY     RA      DEC    ... IC_FLAG DIST IS_SBEST\n",
      "------------------- ------ --------- -------- ... ------- ---- --------\n",
      "1030358159811700736   SDSS 211.73487 -1.59471 ...    4104 0.05        1\n",
      "1030358434689607680   SDSS 211.51452 -1.65754 ...    4104 0.14        1\n",
      "1030358984445421568   SDSS 211.78462 -1.71899 ...    4104 0.02        1\n",
      "1030359809079142400   SDSS 211.63878 -1.93563 ...    4104 0.05        1\n",
      "1030360358834956288   SDSS 211.79006 -1.89456 ...    4104 0.04        1\n",
      "1030361183468677120   SDSS 211.74528 -1.89508 ...    4104 0.04        1\n",
      "1030361733224491008   SDSS 211.50587 -1.53749 ...    4104 0.02        1\n",
      "1030363382491932672   SDSS 211.63321 -1.96885 ...    4104 0.02        1\n",
      "1030364756881467392   SDSS 211.68703 -1.33978 ...    4104 0.03        1\n",
      "1030365031759374336   SDSS 211.59354 -1.20857 ...    4104 0.04        1\n",
      "1030365581515188224   SDSS 211.62693 -1.40044 ...    4104 0.07        1\n",
      "1030368605172164608   SDSS 211.63664 -1.23923 ...    4104 0.09        1\n",
      "1030370254439606272   SDSS 211.97433 -1.79661 ...    4104 0.05        1\n",
      "1030370529317513216   SDSS 212.07843 -1.78691 ...    4104 0.06        1\n",
      "1030371079073327104   SDSS 212.03548  -1.7023 ...    4104 0.18        1\n",
      "1030371628829140992   SDSS 211.84969 -1.74179 ...    4104 0.16        1\n",
      "1030372453462861824   SDSS 211.88866 -1.97102 ...    4104 0.07        1\n",
      "1030373827852396544   SDSS 211.94664 -1.71637 ...    4104 0.06        1\n",
      "1030374377608210432   SDSS 211.91947 -1.72949 ...    4104 0.02        1\n",
      "1031413689883846656   SDSS 212.00002 -1.29196 ...    4104 0.02        1\n"
     ]
    }
   ],
   "source": [
    "print(result)\n",
    "\n"
   ]
  },
  {
   "cell_type": "code",
   "execution_count": null,
   "metadata": {},
   "outputs": [],
   "source": []
  }
 ],
 "metadata": {
  "kernelspec": {
   "display_name": "Python 3",
   "language": "python",
   "name": "python3"
  },
  "language_info": {
   "codemirror_mode": {
    "name": "ipython",
    "version": 3
   },
   "file_extension": ".py",
   "mimetype": "text/x-python",
   "name": "python",
   "nbconvert_exporter": "python",
   "pygments_lexer": "ipython3",
   "version": "3.7.3"
  }
 },
 "nbformat": 4,
 "nbformat_minor": 2
}
