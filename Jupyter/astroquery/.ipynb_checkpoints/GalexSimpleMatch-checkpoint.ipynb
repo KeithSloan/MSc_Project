{
 "cells": [
  {
   "cell_type": "code",
   "execution_count": 7,
   "metadata": {},
   "outputs": [],
   "source": [
    "# Nearest Neighbours\n",
    "from astroquery.gama import GAMA\n",
    "result = GAMA.query_sql('SELECT * FROM GalexSimpleMatch LIMIT 20')"
   ]
  },
  {
   "cell_type": "code",
   "execution_count": 8,
   "metadata": {},
   "outputs": [
    {
     "name": "stdout",
     "output_type": "stream",
     "text": [
      "col1        col2                col3        col4 ... col24 col25 col26 col27\n",
      "---- ------------------ ------------------- ---- ... ----- ----- ----- -----\n",
      "6505 588848900983357543 2413439155589612431    1 ... False False False False\n",
      "6509 588848900983357580 2413439155589612176    1 ... False False False False\n",
      "6520 588848900983357700 2413439155589612073    1 ... False False False False\n",
      "6546 588848900983423050 2413439155589611784    0 ... False False False False\n",
      "6550 588848900983423131 2413439155589611919    1 ... False False False False\n",
      "6553 588848900983423142 2413439155589611813    1 ... False False False False\n",
      "6560 588848900983423176 2413439155589611659    1 ... False False False False\n",
      "6562 588848900983423180 2413439155589611850    1 ... False False False False\n",
      "6564 588848900983423196 2413439155589611911    1 ... False False False False\n",
      "6570 588848900983423239 2413439155587514694    0 ... False False False False\n",
      "6572 588848900983423248 2413439155587514582    0 ... False False False False\n",
      "6580 588848900983423347 2413439155589611773    1 ... False False False False\n",
      "6584 588848900983423786 2413439155587514584    1 ... False False False False\n",
      "6588 588848900983488576 2413439155587514783    0 ... False False False False\n",
      "6589 588848900983488579 2413439155589612069    1 ... False False False False\n",
      "6591 588848900983488588 2413439155587514639    0 ... False False False False\n",
      "6596 588848900983488686 2413439155589611876    1 ... False False False False\n",
      "6597 588848900983488697 2413474339961710109    1 ... False False False False\n",
      "6598 588848900983488709 2413439155589611847    1 ... False False False False\n",
      "6599 588848900983488715 2413474339961709605    1 ... False False False False\n"
     ]
    }
   ],
   "source": [
    "print(result)\n",
    "\n"
   ]
  },
  {
   "cell_type": "code",
   "execution_count": null,
   "metadata": {},
   "outputs": [],
   "source": []
  }
 ],
 "metadata": {
  "kernelspec": {
   "display_name": "Python 3",
   "language": "python",
   "name": "python3"
  },
  "language_info": {
   "codemirror_mode": {
    "name": "ipython",
    "version": 3
   },
   "file_extension": ".py",
   "mimetype": "text/x-python",
   "name": "python",
   "nbconvert_exporter": "python",
   "pygments_lexer": "ipython3",
   "version": "3.7.3"
  }
 },
 "nbformat": 4,
 "nbformat_minor": 2
}
