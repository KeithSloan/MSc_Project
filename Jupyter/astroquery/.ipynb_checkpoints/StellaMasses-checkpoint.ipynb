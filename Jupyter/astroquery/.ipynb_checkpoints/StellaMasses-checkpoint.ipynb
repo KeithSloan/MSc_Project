{
 "cells": [
  {
   "cell_type": "code",
   "execution_count": 3,
   "metadata": {},
   "outputs": [],
   "source": [
    "# Stellar Masses\n",
    "from astroquery.gama import GAMA\n",
    "result = GAMA.query_sql('SELECT CATAID FROM StellarMasses LIMIT 20')"
   ]
  },
  {
   "cell_type": "code",
   "execution_count": 4,
   "metadata": {},
   "outputs": [
    {
     "name": "stdout",
     "output_type": "stream",
     "text": [
      "CATAID\n",
      "------\n",
      "  6802\n",
      "  6806\n",
      "  6808\n",
      "  6810\n",
      "  6813\n",
      "  6816\n",
      "  6820\n",
      "  6821\n",
      "  6826\n",
      "  6830\n",
      "  6835\n",
      "  6837\n",
      "  6838\n",
      "  6839\n",
      "  6840\n",
      "  6842\n",
      "  6844\n",
      "  6845\n",
      "  6846\n",
      "  6853\n"
     ]
    }
   ],
   "source": [
    "print(result)\n",
    "\n"
   ]
  },
  {
   "cell_type": "code",
   "execution_count": null,
   "metadata": {},
   "outputs": [],
   "source": []
  }
 ],
 "metadata": {
  "kernelspec": {
   "display_name": "Python 3",
   "language": "python",
   "name": "python3"
  },
  "language_info": {
   "codemirror_mode": {
    "name": "ipython",
    "version": 3
   },
   "file_extension": ".py",
   "mimetype": "text/x-python",
   "name": "python",
   "nbconvert_exporter": "python",
   "pygments_lexer": "ipython3",
   "version": "3.7.3"
  }
 },
 "nbformat": 4,
 "nbformat_minor": 2
}
