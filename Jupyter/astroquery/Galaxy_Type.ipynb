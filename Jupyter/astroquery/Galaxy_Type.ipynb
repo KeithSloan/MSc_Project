{
 "cells": [
  {
   "cell_type": "code",
   "execution_count": 3,
   "metadata": {},
   "outputs": [
    {
     "name": "stdout",
     "output_type": "stream",
     "text": [
      "CATAID   ELLIPTICAL  ELLIPTICAL_CODE HUBBLE_TYPE\n",
      "------ ------------- --------------- -----------\n",
      "  6802 NotElliptical              10      Sd-Irr\n",
      "  6808 -                           0      -     \n",
      "  6816 NotElliptical              10      -     \n",
      "  6821 NotElliptical              10      Sd-Irr\n",
      "  6826 LBS                         2      -     \n",
      "  6837 NotElliptical              10      -     \n",
      "  6838 NotElliptical              10      -     \n",
      "  6842 NotElliptical              10      -     \n",
      "  6844 Elliptical                  1      -     \n",
      "  6846 NotElliptical              10      -     \n",
      "   ...           ...             ...         ...\n",
      "  7192 -                           0      -     \n",
      "  7203 Elliptical                  1      -     \n",
      "  7206 NotElliptical              10      -     \n",
      "  7209 Elliptical                  1      -     \n",
      "  7211 -                           0      -     \n",
      "  7246 NotElliptical              10      -     \n",
      "  7289 Elliptical                  1      -     \n",
      "  7290 -                           0      -     \n",
      "  7293 NotElliptical              10      -     \n",
      "  7307 -                           0      -     \n",
      "  7311 -                           0      -     \n",
      "Length = 50 rows\n"
     ]
    }
   ],
   "source": [
    "#\n",
    "#\n",
    "#\n",
    "import numpy as np\n",
    "import scipy.stats as st\n",
    "from astroquery.gama import GAMA\n",
    "import matplotlib.pyplot as plt\n",
    "\n",
    "line1 = ' SELECT CATAID,ELLIPTICAL,ELLIPTICAL_CODE,HUBBLE_TYPE FROM VisualMorphology' \n",
    "line2 = ' LIMIT 50'\n",
    "query = line1 + line2\n",
    "result = GAMA.query_sql(query)\n",
    "print(result)\n",
    "\n",
    "\n",
    "\n",
    "\n"
   ]
  },
  {
   "cell_type": "code",
   "execution_count": null,
   "metadata": {},
   "outputs": [],
   "source": []
  },
  {
   "cell_type": "code",
   "execution_count": null,
   "metadata": {},
   "outputs": [],
   "source": []
  }
 ],
 "metadata": {
  "kernelspec": {
   "display_name": "Python 3",
   "language": "python",
   "name": "python3"
  },
  "language_info": {
   "codemirror_mode": {
    "name": "ipython",
    "version": 3
   },
   "file_extension": ".py",
   "mimetype": "text/x-python",
   "name": "python",
   "nbconvert_exporter": "python",
   "pygments_lexer": "ipython3",
   "version": "3.7.3"
  }
 },
 "nbformat": 4,
 "nbformat_minor": 2
}
